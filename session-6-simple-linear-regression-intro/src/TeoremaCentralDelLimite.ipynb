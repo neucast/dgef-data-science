{
 "cells": [
  {
   "cell_type": "code",
   "execution_count": 1,
   "metadata": {},
   "outputs": [],
   "source": [
    "import numpy as np\n",
    "import pandas as pd\n",
    "from scipy.stats import norm\n",
    "from scipy.stats import expon\n",
    "from scipy.stats import gamma\n",
    "from scipy.stats import beta\n",
    "import scipy.stats as ss\n",
    "import matplotlib.pyplot as plt\n",
    "from datetime import datetime, date\n",
    "from pandas.plotting import scatter_matrix\n",
    "pd.set_option('display.max_columns',None)\n",
    "pd.set_option('display.max_rows',None)"
   ]
  },
  {
   "cell_type": "code",
   "execution_count": 6,
   "metadata": {},
   "outputs": [
    {
     "data": {
      "image/png": "[encoded data removed]",
      "text/plain": [
       "<Figure size 432x288 with 1 Axes>"
      ]
     },
     "metadata": {
      "needs_background": "light"
     },
     "output_type": "display_data"
    }
   ],
   "source": [
    "#Distribución exponecial exponencial\n",
    "#A. Simulación de una distribución exponencial\n",
    "l = 3\n",
    "rv = expon(0.,1./l)\n",
    "mv = 1./l\n",
    "v = 1./(l**2.) \n",
    "vexp = []\n",
    "for i in range(1000):\n",
    "    vexp.extend([rv.rvs(1)[0]])\n",
    "#Gráfica\n",
    "plt.hist(vexp, 20, density=1, facecolor='darkblue', alpha=0.9,label = 'Histograma Exponencial')\n",
    "plt.legend()\n",
    "plt.show()"
   ]
  },
  {
   "cell_type": "code",
   "execution_count": 7,
   "metadata": {},
   "outputs": [
    {
     "data": {
      "image/png": "[encoded data removed]",
      "text/plain": [
       "<Figure size 432x288 with 1 Axes>"
      ]
     },
     "metadata": {
      "needs_background": "light"
     },
     "output_type": "display_data"
    }
   ],
   "source": [
    "#B. Teorema central del límite\n",
    "#A. Simulación de una distribución exponencial\n",
    "l = 3.\n",
    "rv = expon(0.,1./l)\n",
    "mv = 1./l\n",
    "v = 1./(l**2.) \n",
    "vnorm = []\n",
    "for j in range(1000):\n",
    "    vec = []\n",
    "    for i in range(1000):\n",
    "        vec.extend([rv.rvs(1)[0]])\n",
    "    vnorm.extend([(np.mean(vec) - mv)/((v/1000.)**(1./2.))])\n",
    "plt.hist(vnorm, 20, density=1, facecolor='darkblue', alpha=0.9,label = 'Histograma Normal')\n",
    "\n",
    "plt.show()"
   ]
  },
  {
   "cell_type": "code",
   "execution_count": null,
   "metadata": {},
   "outputs": [],
   "source": []
  }
 ],
 "metadata": {
  "kernelspec": {
   "display_name": "Python 3",
   "language": "python",
   "name": "python3"
  },
  "language_info": {
   "codemirror_mode": {
    "name": "ipython",
    "version": 3
   },
   "file_extension": ".py",
   "mimetype": "text/x-python",
   "name": "python",
   "nbconvert_exporter": "python",
   "pygments_lexer": "ipython3",
   "version": "3.7.6"
  }
 },
 "nbformat": 4,
 "nbformat_minor": 2
}
