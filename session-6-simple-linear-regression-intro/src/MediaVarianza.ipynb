{
 "cells": [
  {
   "cell_type": "code",
   "execution_count": 1,
   "metadata": {},
   "outputs": [],
   "source": [
    "import pandas as pd\n",
    "import matplotlib.pyplot as plt\n",
    "import numpy as np\n",
    "pd.set_option('display.max_columns',None)\n",
    "pd.set_option('display.max_rows',None)\n",
    "pd.set_option('display.float_format', lambda x: '%.5f' % x)"
   ]
  },
  {
   "cell_type": "code",
   "execution_count": 2,
   "metadata": {},
   "outputs": [
    {
     "data": {
      "text/html": [
       "<div>\n",
       "<style scoped>\n",
       "    .dataframe tbody tr th:only-of-type {\n",
       "        vertical-align: middle;\n",
       "    }\n",
       "\n",
       "    .dataframe tbody tr th {\n",
       "        vertical-align: top;\n",
       "    }\n",
       "\n",
       "    .dataframe thead th {\n",
       "        text-align: right;\n",
       "    }\n",
       "</style>\n",
       "<table border=\"1\" class=\"dataframe\">\n",
       "  <thead>\n",
       "    <tr style=\"text-align: right;\">\n",
       "      <th></th>\n",
       "      <th>Fecha</th>\n",
       "      <th>TipoDeCambio</th>\n",
       "    </tr>\n",
       "  </thead>\n",
       "  <tbody>\n",
       "    <tr>\n",
       "      <th>0</th>\n",
       "      <td>02/01/2020</td>\n",
       "      <td>18.88170</td>\n",
       "    </tr>\n",
       "    <tr>\n",
       "      <th>1</th>\n",
       "      <td>03/01/2020</td>\n",
       "      <td>18.86730</td>\n",
       "    </tr>\n",
       "    <tr>\n",
       "      <th>2</th>\n",
       "      <td>06/01/2020</td>\n",
       "      <td>18.82700</td>\n",
       "    </tr>\n",
       "    <tr>\n",
       "      <th>3</th>\n",
       "      <td>07/01/2020</td>\n",
       "      <td>18.88520</td>\n",
       "    </tr>\n",
       "    <tr>\n",
       "      <th>4</th>\n",
       "      <td>08/01/2020</td>\n",
       "      <td>18.79800</td>\n",
       "    </tr>\n",
       "  </tbody>\n",
       "</table>\n",
       "</div>"
      ],
      "text/plain": [
       "        Fecha  TipoDeCambio\n",
       "0  02/01/2020      18.88170\n",
       "1  03/01/2020      18.86730\n",
       "2  06/01/2020      18.82700\n",
       "3  07/01/2020      18.88520\n",
       "4  08/01/2020      18.79800"
      ]
     },
     "execution_count": 2,
     "metadata": {},
     "output_type": "execute_result"
    }
   ],
   "source": [
    "M = pd.read_csv(\"C:\\\\Users\\\\ricardo\\\\Desktop\\\\BanxicoTrabajoCasa_v3\\\\CursoCienciaDeDatos\\\\Clases\\\\Programas_Modulo3\\\\HistoriaTipoDeCambio.csv\",dtype='str',encoding = \"ISO-8859-1\")\n",
    "M[\"TipoDeCambio\"] = M[\"TipoDeCambio\"].astype(float)\n",
    "M.head()"
   ]
  },
  {
   "cell_type": "markdown",
   "metadata": {},
   "source": [
    "# Media y desviación estándar (Método 1)"
   ]
  },
  {
   "cell_type": "code",
   "execution_count": 3,
   "metadata": {},
   "outputs": [
    {
     "name": "stdout",
     "output_type": "stream",
     "text": [
      "La media o valor esperado es igual a  21.272623322683703\n",
      "La desviación estándar es igual a  1.6423638746422644\n"
     ]
    }
   ],
   "source": [
    "media1 = M[\"TipoDeCambio\"].mean()\n",
    "desviacion1 = M[\"TipoDeCambio\"].std()\n",
    "print(\"La media o valor esperado es igual a \",media1)\n",
    "print(\"La desviación estándar es igual a \",desviacion1)"
   ]
  },
  {
   "cell_type": "markdown",
   "metadata": {},
   "source": [
    "# Media y desviación estándar (Método 2)"
   ]
  },
  {
   "cell_type": "code",
   "execution_count": 4,
   "metadata": {},
   "outputs": [],
   "source": [
    "def CalMedia(v):\n",
    "    n = len(v)\n",
    "    aux = 0\n",
    "    for i in range(n):\n",
    "        aux = aux + v[i]\n",
    "    m = aux/n\n",
    "    return m\n",
    "def CalDesvEst(v):\n",
    "    m = CalMedia(v)\n",
    "    n = len(v)\n",
    "    aux = 0\n",
    "    for i in range(n):\n",
    "        aux = aux + (v[i]-m)**2\n",
    "    s = (aux/(n-1))**0.5\n",
    "    return s"
   ]
  },
  {
   "cell_type": "code",
   "execution_count": 5,
   "metadata": {},
   "outputs": [
    {
     "name": "stdout",
     "output_type": "stream",
     "text": [
      "La media o valor esperado es igual a  21.272623322683703\n",
      "La desviación estándar es igual a  1.6423638746422644\n"
     ]
    }
   ],
   "source": [
    "v = M[\"TipoDeCambio\"].values.tolist()\n",
    "media2 = CalMedia(v)\n",
    "desviacion2 = CalDesvEst(v)\n",
    "print(\"La media o valor esperado es igual a \",media2)\n",
    "print(\"La desviación estándar es igual a \",desviacion2)"
   ]
  },
  {
   "cell_type": "code",
   "execution_count": 6,
   "metadata": {},
   "outputs": [
    {
     "data": {
      "image/png": "[encoded data removed]",
      "text/plain": [
       "<Figure size 576x360 with 1 Axes>"
      ]
     },
     "metadata": {
      "needs_background": "light"
     },
     "output_type": "display_data"
    }
   ],
   "source": [
    "#Gráfica\n",
    "fig = plt.figure(figsize=(8.,5.))\n",
    "ax = fig.add_subplot(1,1,1)\n",
    "plt.plot(range(len(v)),v,color=\"blue\",linewidth=2.5)\n",
    "ax.axhline(media2,ls=\"--\",color=\"red\",linewidth=1)\n",
    "ax.axhline(media2+desviacion2,ls=\"--\",color=\"green\",linewidth=1)\n",
    "ax.axhline(media2-desviacion2,ls=\"--\",color=\"green\",linewidth=1)\n",
    "plt.show()"
   ]
  },
  {
   "cell_type": "code",
   "execution_count": null,
   "metadata": {},
   "outputs": [],
   "source": []
  }
 ],
 "metadata": {
  "kernelspec": {
   "display_name": "Python 3",
   "language": "python",
   "name": "python3"
  },
  "language_info": {
   "codemirror_mode": {
    "name": "ipython",
    "version": 3
   },
   "file_extension": ".py",
   "mimetype": "text/x-python",
   "name": "python",
   "nbconvert_exporter": "python",
   "pygments_lexer": "ipython3",
   "version": "3.7.6"
  }
 },
 "nbformat": 4,
 "nbformat_minor": 2
}
