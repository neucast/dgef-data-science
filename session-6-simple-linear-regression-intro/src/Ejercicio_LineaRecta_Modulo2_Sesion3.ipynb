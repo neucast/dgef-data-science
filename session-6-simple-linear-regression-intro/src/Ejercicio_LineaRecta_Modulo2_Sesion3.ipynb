{
 "cells": [
  {
   "cell_type": "markdown",
   "metadata": {},
   "source": [
    "# Ejercicio. Calcular la ecuación de una recta que pasa por dos puntos y graficarla."
   ]
  },
  {
   "cell_type": "markdown",
   "metadata": {},
   "source": [
    "### Paso 1. Guardar las coordendas de un punto en un vector o arreglo de una dimensión.\n",
    "### Paso 2. Definir una función que reciba como entrada dos vectores, que representen las coordenadas de dos puntos, y como resultado proporciona la pendiente de la recta que pasa por esos dos puntos m = (y2-y1)/(x2-x1).\n",
    "### Paso 3. Definir una función que reciba como parámetros de entrada dos vectores y: i) utilizando la función anterior calculela pendiente entre los punots, ii) a partir de la expresión y = m(x - x1) + y1 permita evaluar, dada la coordenada \"x\",el valor de la coordenada \"y\" sobre la recta.\n",
    "### Paso 4. Graficar la recta si x pertenece al intervalo [-5,5]."
   ]
  },
  {
   "cell_type": "code",
   "execution_count": 1,
   "metadata": {},
   "outputs": [],
   "source": [
    "import numpy as np\n",
    "import pandas as pd\n",
    "import matplotlib.pyplot as plt"
   ]
  },
  {
   "cell_type": "code",
   "execution_count": 2,
   "metadata": {},
   "outputs": [
    {
     "name": "stdout",
     "output_type": "stream",
     "text": [
      "El valor de la pendiente es 4.0\n"
     ]
    }
   ],
   "source": [
    "u1,u2 = [1,2], [2,6]\n",
    "#Función para el cálculo de la pendiente\n",
    "def Fm(u,v):\n",
    "    numerador = v[1] - u[1]\n",
    "    denominador = v[0] - u[0]\n",
    "    m = numerador/denominador\n",
    "    return m\n",
    "#Ejemplo\n",
    "m = Fm(u1,u2)\n",
    "print(\"El valor de la pendiente es\",m)"
   ]
  },
  {
   "cell_type": "code",
   "execution_count": 3,
   "metadata": {},
   "outputs": [
    {
     "name": "stdout",
     "output_type": "stream",
     "text": [
      "Si x =  1 ,entonces y =  2.0\n"
     ]
    }
   ],
   "source": [
    "def FL(u,v,x):\n",
    "    m = Fm(u,v)\n",
    "    y = m*(x-u[0]) + u[1]\n",
    "    return y\n",
    "#Ejemplo\n",
    "x = 1\n",
    "y = FL(u1,u2,x)\n",
    "print(\"Si x = \",x,\",entonces y = \",y)"
   ]
  },
  {
   "cell_type": "code",
   "execution_count": 4,
   "metadata": {},
   "outputs": [
    {
     "data": {
      "image/png": "[encoded data removed]",
      "text/plain": [
       "<Figure size 720x360 with 1 Axes>"
      ]
     },
     "metadata": {
      "needs_background": "light"
     },
     "output_type": "display_data"
    }
   ],
   "source": [
    "#Gráfica de la línea recta \n",
    "#Referencia librería matplotlib (https://matplotlib.org/stable/tutorials/introductory/pyplot.html)\n",
    "fig = plt.figure(figsize=(10,5))\n",
    "vx = np.linspace(-5,5,100).tolist()\n",
    "vy = []\n",
    "for x in vx:\n",
    "    y = FL(u1,u2,x)\n",
    "    vy.extend([y])\n",
    "ax = fig.add_subplot(1,1,1)\n",
    "plt.plot(vx,vy,color=\"blue\",markersize=2.0,label=\"Linea recta\")\n",
    "plt.legend(loc=\"best\")\n",
    "plt.xlabel(\"Eje X\")\n",
    "plt.ylabel(\"Eje Y\")\n",
    "plt.show()"
   ]
  },
  {
   "cell_type": "code",
   "execution_count": null,
   "metadata": {},
   "outputs": [],
   "source": []
  }
 ],
 "metadata": {
  "kernelspec": {
   "display_name": "Python 3",
   "language": "python",
   "name": "python3"
  },
  "language_info": {
   "codemirror_mode": {
    "name": "ipython",
    "version": 3
   },
   "file_extension": ".py",
   "mimetype": "text/x-python",
   "name": "python",
   "nbconvert_exporter": "python",
   "pygments_lexer": "ipython3",
   "version": "3.7.6"
  }
 },
 "nbformat": 4,
 "nbformat_minor": 2
}
