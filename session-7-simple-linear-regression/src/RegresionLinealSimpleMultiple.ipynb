{
 "cells": [
  {
   "cell_type": "markdown",
   "metadata": {},
   "source": [
    "# Regresión lineal simple (una variable dependiente y una variable explicativa)"
   ]
  },
  {
   "cell_type": "code",
   "execution_count": 1,
   "metadata": {},
   "outputs": [],
   "source": [
    "import numpy as np\n",
    "import pandas as pd\n",
    "import matplotlib.pyplot as plt\n",
    "import scipy.stats as stats\n",
    "pd.set_option('display.max_columns',None)\n",
    "pd.set_option('display.max_rows',None)"
   ]
  },
  {
   "cell_type": "markdown",
   "metadata": {},
   "source": [
    "# Lectura de base de datos y ajuste del tipo de valor por columna"
   ]
  },
  {
   "cell_type": "code",
   "execution_count": 3,
   "metadata": {},
   "outputs": [
    {
     "data": {
      "text/html": [
       "<div>\n",
       "<style scoped>\n",
       "    .dataframe tbody tr th:only-of-type {\n",
       "        vertical-align: middle;\n",
       "    }\n",
       "\n",
       "    .dataframe tbody tr th {\n",
       "        vertical-align: top;\n",
       "    }\n",
       "\n",
       "    .dataframe thead th {\n",
       "        text-align: right;\n",
       "    }\n",
       "</style>\n",
       "<table border=\"1\" class=\"dataframe\">\n",
       "  <thead>\n",
       "    <tr style=\"text-align: right;\">\n",
       "      <th></th>\n",
       "      <th>X</th>\n",
       "      <th>Y</th>\n",
       "    </tr>\n",
       "  </thead>\n",
       "  <tbody>\n",
       "    <tr>\n",
       "      <th>0</th>\n",
       "      <td>2</td>\n",
       "      <td>-9.910487326</td>\n",
       "    </tr>\n",
       "    <tr>\n",
       "      <th>1</th>\n",
       "      <td>4</td>\n",
       "      <td>-7.197660931</td>\n",
       "    </tr>\n",
       "    <tr>\n",
       "      <th>2</th>\n",
       "      <td>6</td>\n",
       "      <td>22.73731189</td>\n",
       "    </tr>\n",
       "    <tr>\n",
       "      <th>3</th>\n",
       "      <td>8</td>\n",
       "      <td>50.37351023</td>\n",
       "    </tr>\n",
       "    <tr>\n",
       "      <th>4</th>\n",
       "      <td>10</td>\n",
       "      <td>8.505899325</td>\n",
       "    </tr>\n",
       "  </tbody>\n",
       "</table>\n",
       "</div>"
      ],
      "text/plain": [
       "    X             Y\n",
       "0   2  -9.910487326\n",
       "1   4  -7.197660931\n",
       "2   6   22.73731189\n",
       "3   8   50.37351023\n",
       "4  10   8.505899325"
      ]
     },
     "execution_count": 3,
     "metadata": {},
     "output_type": "execute_result"
    }
   ],
   "source": [
    "#Lectura de base de datos\n",
    "M = pd.read_csv(\"C:\\\\Users\\\\ricardo\\\\Desktop\\\\BanxicoTrabajoCasa_v3\\\\CursoCienciaDeDatos\\\\Clases\\\\Programas_Modulo3\\\\RegresionLinealSimple2-5.csv\",dtype='str',encoding = \"ISO-8859-1\")\n",
    "M.head()"
   ]
  },
  {
   "cell_type": "code",
   "execution_count": 4,
   "metadata": {},
   "outputs": [
    {
     "data": {
      "text/html": [
       "<div>\n",
       "<style scoped>\n",
       "    .dataframe tbody tr th:only-of-type {\n",
       "        vertical-align: middle;\n",
       "    }\n",
       "\n",
       "    .dataframe tbody tr th {\n",
       "        vertical-align: top;\n",
       "    }\n",
       "\n",
       "    .dataframe thead th {\n",
       "        text-align: right;\n",
       "    }\n",
       "</style>\n",
       "<table border=\"1\" class=\"dataframe\">\n",
       "  <thead>\n",
       "    <tr style=\"text-align: right;\">\n",
       "      <th></th>\n",
       "      <th>X</th>\n",
       "      <th>Y</th>\n",
       "    </tr>\n",
       "  </thead>\n",
       "  <tbody>\n",
       "    <tr>\n",
       "      <th>0</th>\n",
       "      <td>2.0</td>\n",
       "      <td>-9.910487</td>\n",
       "    </tr>\n",
       "    <tr>\n",
       "      <th>1</th>\n",
       "      <td>4.0</td>\n",
       "      <td>-7.197661</td>\n",
       "    </tr>\n",
       "    <tr>\n",
       "      <th>2</th>\n",
       "      <td>6.0</td>\n",
       "      <td>22.737312</td>\n",
       "    </tr>\n",
       "    <tr>\n",
       "      <th>3</th>\n",
       "      <td>8.0</td>\n",
       "      <td>50.373510</td>\n",
       "    </tr>\n",
       "    <tr>\n",
       "      <th>4</th>\n",
       "      <td>10.0</td>\n",
       "      <td>8.505899</td>\n",
       "    </tr>\n",
       "  </tbody>\n",
       "</table>\n",
       "</div>"
      ],
      "text/plain": [
       "      X          Y\n",
       "0   2.0  -9.910487\n",
       "1   4.0  -7.197661\n",
       "2   6.0  22.737312\n",
       "3   8.0  50.373510\n",
       "4  10.0   8.505899"
      ]
     },
     "execution_count": 4,
     "metadata": {},
     "output_type": "execute_result"
    }
   ],
   "source": [
    "#Ajuste de formato de columnas\n",
    "M[\"X\"] = M[\"X\"].astype(float)\n",
    "M[\"Y\"] = M[\"Y\"].astype(float)\n",
    "M.head()"
   ]
  },
  {
   "cell_type": "code",
   "execution_count": 5,
   "metadata": {},
   "outputs": [],
   "source": [
    "x = M[\"X\"].values.tolist()\n",
    "y = M[\"Y\"].values.tolist()"
   ]
  },
  {
   "cell_type": "code",
   "execution_count": 8,
   "metadata": {},
   "outputs": [
    {
     "data": {
      "image/png": "[encoded data removed]",
      "text/plain": [
       "<Figure size 1080x360 with 1 Axes>"
      ]
     },
     "metadata": {
      "needs_background": "light"
     },
     "output_type": "display_data"
    }
   ],
   "source": [
    "#Gráfica de observaciones\n",
    "fig = plt.figure(figsize=(15.,5.))\n",
    "ax = fig.add_subplot(1,1,1)\n",
    "plt.scatter(x,y,color=\"blue\",s=25,label=\"Observaciones\")\n",
    "plt.legend(loc='best')\n",
    "plt.show()"
   ]
  },
  {
   "cell_type": "code",
   "execution_count": 9,
   "metadata": {},
   "outputs": [
    {
     "name": "stdout",
     "output_type": "stream",
     "text": [
      "20\n",
      "20\n"
     ]
    }
   ],
   "source": [
    "#Función auxiliar\n",
    "xejemp = [1,3,7]\n",
    "yejemp = [2,-1,3]\n",
    "r = np.dot(xejemp,yejemp)\n",
    "print(r)\n",
    "print( (1)*(2) + (3)*(-1) + (7)*(3) )"
   ]
  },
  {
   "cell_type": "markdown",
   "metadata": {},
   "source": [
    "# Función para el cálculo de los coeficientes de la regresión lineal"
   ]
  },
  {
   "cell_type": "code",
   "execution_count": 10,
   "metadata": {},
   "outputs": [],
   "source": [
    "#Función para el cálculo de los coeficientes de la regresión lineal\n",
    "def RLS(x,y):\n",
    "    n = len(y)\n",
    "    m = (-np.dot(x,y) + float(n)*np.mean(y)*np.mean(x))/(-np.dot(x,x) + n*(np.mean(x)**2.))\n",
    "    b = np.mean(y) - m*np.mean(x)\n",
    "    #Definición del vector de valores estimados y de residuales\n",
    "    ye = []\n",
    "    e = []\n",
    "    for i in range(n):\n",
    "        ye.extend([m*x[i] + b])\n",
    "        e.extend([y[i]-ye[i]])\n",
    "    return [m,b,ye,e]\n",
    "[m,b,ye,e] = RLS(x,y)"
   ]
  },
  {
   "cell_type": "code",
   "execution_count": 11,
   "metadata": {},
   "outputs": [
    {
     "name": "stdout",
     "output_type": "stream",
     "text": [
      "La pendiente estimada es 1.9620420568904182\n",
      "La ordenda al origen estimada es 9.483643256247746\n"
     ]
    }
   ],
   "source": [
    "#Impresión de pendiente y ordenada al origen\n",
    "print(\"La pendiente estimada es\",m)\n",
    "print(\"La ordenda al origen estimada es\",b)"
   ]
  },
  {
   "cell_type": "code",
   "execution_count": 12,
   "metadata": {},
   "outputs": [
    {
     "data": {
      "text/html": [
       "<div>\n",
       "<style scoped>\n",
       "    .dataframe tbody tr th:only-of-type {\n",
       "        vertical-align: middle;\n",
       "    }\n",
       "\n",
       "    .dataframe tbody tr th {\n",
       "        vertical-align: top;\n",
       "    }\n",
       "\n",
       "    .dataframe thead th {\n",
       "        text-align: right;\n",
       "    }\n",
       "</style>\n",
       "<table border=\"1\" class=\"dataframe\">\n",
       "  <thead>\n",
       "    <tr style=\"text-align: right;\">\n",
       "      <th></th>\n",
       "      <th>X</th>\n",
       "      <th>Y</th>\n",
       "      <th>Y_Est</th>\n",
       "      <th>Residuales</th>\n",
       "    </tr>\n",
       "  </thead>\n",
       "  <tbody>\n",
       "    <tr>\n",
       "      <th>0</th>\n",
       "      <td>2.0</td>\n",
       "      <td>-9.910487</td>\n",
       "      <td>13.407727</td>\n",
       "      <td>-23.318215</td>\n",
       "    </tr>\n",
       "    <tr>\n",
       "      <th>1</th>\n",
       "      <td>4.0</td>\n",
       "      <td>-7.197661</td>\n",
       "      <td>17.331811</td>\n",
       "      <td>-24.529472</td>\n",
       "    </tr>\n",
       "    <tr>\n",
       "      <th>2</th>\n",
       "      <td>6.0</td>\n",
       "      <td>22.737312</td>\n",
       "      <td>21.255896</td>\n",
       "      <td>1.481416</td>\n",
       "    </tr>\n",
       "    <tr>\n",
       "      <th>3</th>\n",
       "      <td>8.0</td>\n",
       "      <td>50.373510</td>\n",
       "      <td>25.179980</td>\n",
       "      <td>25.193531</td>\n",
       "    </tr>\n",
       "    <tr>\n",
       "      <th>4</th>\n",
       "      <td>10.0</td>\n",
       "      <td>8.505899</td>\n",
       "      <td>29.104064</td>\n",
       "      <td>-20.598165</td>\n",
       "    </tr>\n",
       "  </tbody>\n",
       "</table>\n",
       "</div>"
      ],
      "text/plain": [
       "      X          Y      Y_Est  Residuales\n",
       "0   2.0  -9.910487  13.407727  -23.318215\n",
       "1   4.0  -7.197661  17.331811  -24.529472\n",
       "2   6.0  22.737312  21.255896    1.481416\n",
       "3   8.0  50.373510  25.179980   25.193531\n",
       "4  10.0   8.505899  29.104064  -20.598165"
      ]
     },
     "execution_count": 12,
     "metadata": {},
     "output_type": "execute_result"
    }
   ],
   "source": [
    "#Creación de base con la aproximación y residuales\n",
    "MRL = M.copy(deep=True).reset_index(drop=True)\n",
    "MRL[\"Y_Est\"] = ye\n",
    "MRL[\"Residuales\"] = e\n",
    "MRL.head()"
   ]
  },
  {
   "cell_type": "code",
   "execution_count": 13,
   "metadata": {},
   "outputs": [
    {
     "data": {
      "image/png": "[encoded data removed]",
      "text/plain": [
       "<Figure size 1080x360 with 1 Axes>"
      ]
     },
     "metadata": {
      "needs_background": "light"
     },
     "output_type": "display_data"
    }
   ],
   "source": [
    "#Gráfica (Regresión Lineal)\n",
    "fig = plt.figure(figsize=(15.,5.))\n",
    "ax = fig.add_subplot(1,1,1)\n",
    "plt.scatter(x,y,color=\"blue\",s=25,label=\"Obs. Real\")\n",
    "plt.plot(x,ye,color=\"red\",linewidth=1.5,label=\"Ajuste Lineal\")\n",
    "plt.legend(loc='best')\n",
    "plt.show()"
   ]
  },
  {
   "cell_type": "code",
   "execution_count": 14,
   "metadata": {},
   "outputs": [
    {
     "data": {
      "image/png": "[encoded data removed]",
      "text/plain": [
       "<Figure size 720x360 with 1 Axes>"
      ]
     },
     "metadata": {
      "needs_background": "light"
     },
     "output_type": "display_data"
    }
   ],
   "source": [
    "#Histograma sin suavizamiento de Kernel\n",
    "from math import log\n",
    "fig = plt.figure(figsize=(10.,5.))\n",
    "ax = fig.add_subplot(1,1,1)\n",
    "ax.set_title(\"Histograma residuales\")\n",
    "plt.hist(e, bins = 12,histtype=\"bar\",rwidth=0.9,color=\"blue\")\n",
    "plt.show()"
   ]
  },
  {
   "cell_type": "code",
   "execution_count": 15,
   "metadata": {},
   "outputs": [
    {
     "data": {
      "image/png": "[encoded data removed]",
      "text/plain": [
       "<Figure size 1080x216 with 3 Axes>"
      ]
     },
     "metadata": {
      "needs_background": "light"
     },
     "output_type": "display_data"
    }
   ],
   "source": [
    "#Histograma residuales\n",
    "fig = plt.figure(figsize=(15.,3.))\n",
    "ax = fig.add_subplot(1,3,1)\n",
    "ax.set_title(\"Residuales\")\n",
    "xrmin = min(e)\n",
    "xrmax = max(e)\n",
    "xpart = np.linspace(0.9*xrmin,1.1*xrmax,1000)\n",
    "K = stats.gaussian_kde(e)\n",
    "ax.plot(xpart,K(xpart),color=\"blue\")\n",
    "plt.xticks(rotation=90)\n",
    "#Comparativo distribución normal\n",
    "ax = fig.add_subplot(1,3,2)\n",
    "xn = np.random.normal(np.mean(e),np.std(e),10000)\n",
    "ax.set_title(\"Densidad Normal\")\n",
    "xrmin = min(xn)\n",
    "xrmax = max(xn)\n",
    "xpart = np.linspace(0.9*xrmin,1.1*xrmax,1000)\n",
    "Kn = stats.gaussian_kde(xn)\n",
    "ax.plot(xpart,Kn(xpart),color=\"red\")\n",
    "plt.xticks(rotation=90)\n",
    "#Comparativo\n",
    "ax = fig.add_subplot(1,3,3)\n",
    "ax.set_title(\"Densidad Para-Normal\")\n",
    "ax.plot(xpart,Kn(xpart),color=\"black\")\n",
    "ax.scatter(-12, 0.0125, s=15,color=\"black\")\n",
    "ax.scatter(12, 0.0125, s=15,color=\"black\")\n",
    "xaux = np.linspace(-25,25,100)\n",
    "yaux = []\n",
    "for i in range(len(xaux)):\n",
    "    yaux.extend([np.random.uniform(0.0068,0.0072)])\n",
    "ax.scatter(xaux, yaux, s=3,color=\"black\")\n",
    "plt.show()"
   ]
  },
  {
   "cell_type": "markdown",
   "metadata": {},
   "source": [
    "# Otras paqueterías para realizar una regresión lineal"
   ]
  },
  {
   "cell_type": "code",
   "execution_count": null,
   "metadata": {},
   "outputs": [],
   "source": [
    "#Regresión lineal con la librería statsmodels\n",
    "import statsmodels.api as sm #https://www.statsmodels.org/stable/index.html\n",
    "est = sm.OLS(y, sm.add_constant(x))\n",
    "est2 = est.fit()\n",
    "print(est2.params)\n",
    "#print(est2.summary())"
   ]
  },
  {
   "cell_type": "code",
   "execution_count": null,
   "metadata": {},
   "outputs": [],
   "source": [
    "#Observación dimensionar un objeto array \n",
    "vec = [1,5,-7]\n",
    "veca = np.asarray(vec)\n",
    "vecar_1 = veca.reshape(1,3) \n",
    "vecar_2 = veca.reshape(-1,1) #El valor es inferido con base en la dimensión del vector\n",
    "print(vec)\n",
    "print(veca)\n",
    "print(vecar_1)\n",
    "print(vecar_2)"
   ]
  },
  {
   "cell_type": "code",
   "execution_count": null,
   "metadata": {},
   "outputs": [],
   "source": [
    "#Regresión lineal con la librería \n",
    "from sklearn.linear_model import LinearRegression #https://scikit-learn.org/stable/\n",
    "xa = np.asarray(x)\n",
    "ya = np.asarray(y)\n",
    "lin_reg = LinearRegression()\n",
    "lin_reg.fit(xa.reshape(-1,1),ya.reshape(-1,1))\n",
    "xa = np.array(x)\n",
    "print(lin_reg.intercept_)\n",
    "print(lin_reg.coef_)"
   ]
  },
  {
   "cell_type": "markdown",
   "metadata": {},
   "source": [
    "# Ejercicio 1. El archivo EstaturaBebe.csv contiene la edad en meses y la estatura en centímetros de un bebé hasta un año edad. Utilizando una regresión lineal, estimar la estatura de un bebé de 13 meses."
   ]
  },
  {
   "cell_type": "markdown",
   "metadata": {},
   "source": [
    "# Ejercicio 2. Cargar el archivo \"TransformacionRegresionLineal.csv\", a partir de la gráfica de dispersión proponer una transformación de la variable X para poder ajustar una regresión lineal."
   ]
  },
  {
   "cell_type": "markdown",
   "metadata": {},
   "source": [
    "# Regresión lineal múltiple"
   ]
  },
  {
   "cell_type": "code",
   "execution_count": null,
   "metadata": {},
   "outputs": [],
   "source": [
    "MRLM = pd.read_csv(\"C:\\\\Users\\\\ricardo\\\\Desktop\\\\BanxicoTrabajoCasa_v3\\\\CursoCienciaDeDatos\\\\Clases\\\\Programas_Modulo3\\\\RegresionLinealMultiple-212.csv\",dtype='str',encoding = \"ISO-8859-1\")\n",
    "MRLM[\"Variable_Y\"] = MRLM[\"Variable_Y\"].astype(float)\n",
    "MRLM[\"Variable_X1\"] = MRLM[\"Variable_X1\"].astype(float)\n",
    "MRLM[\"Variable_X2\"] = MRLM[\"Variable_X2\"].astype(float)\n",
    "MRLM[\"Variable_X3\"] = MRLM[\"Variable_X3\"].astype(float)\n",
    "MRLM.head()"
   ]
  },
  {
   "cell_type": "code",
   "execution_count": null,
   "metadata": {},
   "outputs": [],
   "source": [
    "#Importación de librería\n",
    "from sklearn.linear_model import LinearRegression\n",
    "X = np.asarray(MRLM[[\"Variable_X1\",\"Variable_X2\",\"Variable_X3\"]])\n",
    "y = np.asarray(MRLM[[\"Variable_Y\"]])\n",
    "lin_reg = LinearRegression()\n",
    "lin_reg.fit(X,y)\n",
    "print(lin_reg.intercept_)\n",
    "print(lin_reg.coef_)"
   ]
  },
  {
   "cell_type": "code",
   "execution_count": null,
   "metadata": {},
   "outputs": [],
   "source": [
    "MRLM[\"Y_Aproximada\"] = lin_reg.intercept_[0] + lin_reg.coef_[0][0]*MRLM[\"Variable_X1\"] + \\\n",
    "lin_reg.coef_[0][1]*MRLM[\"Variable_X2\"] + lin_reg.coef_[0][2]*MRLM[\"Variable_X3\"]\n",
    "MRLM.head()"
   ]
  },
  {
   "cell_type": "code",
   "execution_count": null,
   "metadata": {},
   "outputs": [],
   "source": [
    "#Gráfica entre los valores reales y los valores aproximados\n",
    "fig = plt.figure(figsize=(10.,5.))\n",
    "ax = fig.add_subplot(1,1,1)\n",
    "plt.plot(range(len(MRLM[\"Variable_Y\"].values)),MRLM[\"Variable_Y\"].values,color=\"blue\",linewidth=1.5,label=\"Datos originales\")\n",
    "plt.plot(range(len(MRLM[\"Y_Aproximada\"].values)),MRLM[\"Y_Aproximada\"].values,color=\"red\",linewidth=1,ls=\"--\",label=\"Aproximación lineal\")\n",
    "plt.legend(loc='best')\n",
    "plt.show()"
   ]
  },
  {
   "cell_type": "markdown",
   "metadata": {},
   "source": [
    "# Ejercicio 3. Agregar dos columnas a la base MRLM: 1) Columna que calcule las diferencias al cuadrado entre el valor real y el valor aproximado de la variable Y, 2) columna que calcule las diferencias del inciso anterior en valor absoluto. Imprimir el promedio de cada columna por separado."
   ]
  },
  {
   "cell_type": "code",
   "execution_count": null,
   "metadata": {},
   "outputs": [],
   "source": []
  }
 ],
 "metadata": {
  "kernelspec": {
   "display_name": "Python 3",
   "language": "python",
   "name": "python3"
  },
  "language_info": {
   "codemirror_mode": {
    "name": "ipython",
    "version": 3
   },
   "file_extension": ".py",
   "mimetype": "text/x-python",
   "name": "python",
   "nbconvert_exporter": "python",
   "pygments_lexer": "ipython3",
   "version": "3.7.6"
  }
 },
 "nbformat": 4,
 "nbformat_minor": 2
}
