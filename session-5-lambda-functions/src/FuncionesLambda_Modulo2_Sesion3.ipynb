{
 "cells": [
  {
   "cell_type": "markdown",
   "metadata": {},
   "source": [
    "# Pregunta. En la creación de tablas dinámicas en python, ¿Cuál es el argumento que te permite eliminar los registros en cero?"
   ]
  },
  {
   "cell_type": "markdown",
   "metadata": {},
   "source": [
    "# Funciones lambda"
   ]
  },
  {
   "cell_type": "markdown",
   "metadata": {},
   "source": [
    "Una función lambda en Python es una función anónima ya que carece de un nombre.\n",
    "Se definen como una única línea de código que ejecuta una expresión y que puede tomar argumentos.\n",
    "\n",
    "La sintaxis para las expresiones lambda puede ser de las siguientes formas:\n",
    "\n",
    "    lambda : expresión\n",
    "    lambda p1, p2: expresión \n",
    "    lambda *args: expresión\n",
    "    lambda **kwargs : expresión\n",
    "\n",
    "en donde p1 y p2 representan argumentos, \\*args representa un numero variable de argumentos y \\*\\*kwargs representa parámetros en forma key-value como tipo diccionario"
   ]
  },
  {
   "cell_type": "code",
   "execution_count": null,
   "metadata": {},
   "outputs": [],
   "source": [
    "valorGx5 = lambda: 9.81 * 5\n",
    "valorGx5()"
   ]
  },
  {
   "cell_type": "code",
   "execution_count": null,
   "metadata": {},
   "outputs": [],
   "source": [
    "suma = lambda num1, num2: num1 + num2\n",
    "suma(6,7)"
   ]
  },
  {
   "cell_type": "code",
   "execution_count": null,
   "metadata": {},
   "outputs": [],
   "source": [
    "suma_m = lambda *kwargs: sum(kwargs)\n",
    "suma_m(1, 2, 3, 89,9)"
   ]
  },
  {
   "cell_type": "code",
   "execution_count": null,
   "metadata": {},
   "outputs": [],
   "source": [
    "suma_md = lambda **args : sum(args.values())\n",
    "suma_md(a=1, b=2, c=5)"
   ]
  },
  {
   "cell_type": "markdown",
   "metadata": {},
   "source": [
    "### Diferencias entre funciones definidas con \"def\" y las funciones lambda"
   ]
  },
  {
   "cell_type": "markdown",
   "metadata": {},
   "source": [
    "Al utilizar la palabra clave lambda se crea un objeto función sin que se guarde un nombre en el espacio de nombres (colección aislada de nombres o identificadores que referencian a objetos) contrario a las funcciones def que si reservan el nombre.\n",
    "\n",
    "Las funciones lambda se definen en única línea mientras que las funciones def pueden utilizae múltiples líneas de código.\n",
    "\n",
    "Las funciones lambda devuelven uno o más valores, las funciones def pueden no devolver valores.\n",
    "\n",
    "Para utilizar una función lambda sólo se requiere guardarla en una variable."
   ]
  },
  {
   "cell_type": "code",
   "execution_count": null,
   "metadata": {},
   "outputs": [],
   "source": [
    "def multiplicar(num1, num2): \n",
    "    return num1 * num2"
   ]
  },
  {
   "cell_type": "code",
   "execution_count": null,
   "metadata": {},
   "outputs": [],
   "source": [
    "def multiplicar(num1, num2): return num1 * num2"
   ]
  },
  {
   "cell_type": "code",
   "execution_count": null,
   "metadata": {},
   "outputs": [],
   "source": [
    "multiplicar(4,6)"
   ]
  },
  {
   "cell_type": "code",
   "execution_count": null,
   "metadata": {},
   "outputs": [],
   "source": [
    "lambda num1, num2: num1 * num2    "
   ]
  },
  {
   "cell_type": "code",
   "execution_count": null,
   "metadata": {},
   "outputs": [],
   "source": [
    "multiplicacion = lambda num1, num2: num1 * num2   "
   ]
  },
  {
   "cell_type": "code",
   "execution_count": null,
   "metadata": {},
   "outputs": [],
   "source": [
    "multiplicacion(5,8)"
   ]
  },
  {
   "cell_type": "code",
   "execution_count": null,
   "metadata": {},
   "outputs": [],
   "source": [
    "def multiplicarm(num1, num2): \n",
    "    return [num1 * num2 , num1 * num1, num2 * num2]"
   ]
  },
  {
   "cell_type": "code",
   "execution_count": null,
   "metadata": {},
   "outputs": [],
   "source": [
    "multiplicacionm = lambda num1, num2: [num1 * num2 , num1 * num1, num2 * num2]"
   ]
  },
  {
   "cell_type": "code",
   "execution_count": null,
   "metadata": {},
   "outputs": [],
   "source": [
    "multiplicacionm(5,8)"
   ]
  },
  {
   "cell_type": "code",
   "execution_count": null,
   "metadata": {},
   "outputs": [],
   "source": [
    "multiplicarm(4,6)"
   ]
  },
  {
   "cell_type": "markdown",
   "metadata": {},
   "source": [
    "### Funcciones lambda en Pandas"
   ]
  },
  {
   "cell_type": "code",
   "execution_count": null,
   "metadata": {},
   "outputs": [],
   "source": [
    "import pandas as pd"
   ]
  },
  {
   "cell_type": "code",
   "execution_count": null,
   "metadata": {},
   "outputs": [],
   "source": [
    "datos = pd.read_csv(\"/Users/cecilia/Documents/BM/Curso DS/CAPITALIZACION_RComputo.csv\",dtype='str',encoding = \"ISO-8859-1\")"
   ]
  },
  {
   "cell_type": "code",
   "execution_count": null,
   "metadata": {},
   "outputs": [],
   "source": [
    "datos"
   ]
  },
  {
   "cell_type": "code",
   "execution_count": null,
   "metadata": {},
   "outputs": [],
   "source": [
    "n_cols = datos.columns.drop(['Fecha','Institucion'])"
   ]
  },
  {
   "cell_type": "code",
   "execution_count": null,
   "metadata": {},
   "outputs": [],
   "source": [
    "n_cols"
   ]
  },
  {
   "cell_type": "code",
   "execution_count": null,
   "metadata": {},
   "outputs": [],
   "source": [
    "datos_n = datos[n_cols].apply(lambda x : pd.to_numeric(x)) \n",
    "datos_n"
   ]
  },
  {
   "cell_type": "code",
   "execution_count": null,
   "metadata": {},
   "outputs": [],
   "source": [
    "datos_n.dtypes"
   ]
  },
  {
   "cell_type": "code",
   "execution_count": null,
   "metadata": {},
   "outputs": [],
   "source": [
    "def convierte_millones_pesos(datos):\n",
    "    return datos * 1000000"
   ]
  },
  {
   "cell_type": "code",
   "execution_count": null,
   "metadata": {},
   "outputs": [],
   "source": [
    "RC_pesos = datos_n.apply(convierte_millones_pesos)\n",
    "RC_pesos"
   ]
  },
  {
   "cell_type": "code",
   "execution_count": null,
   "metadata": {},
   "outputs": [],
   "source": [
    "RC_pesos2 = datos_n.apply(lambda x: x * 1000000)\n",
    "RC_pesos2"
   ]
  },
  {
   "cell_type": "code",
   "execution_count": null,
   "metadata": {},
   "outputs": [],
   "source": [
    "datos_n[['RC x riesgo de Credito',\n",
    "         'RC x riesgo de Mercado',\n",
    "         'RC x riesgo Operacional',\n",
    "         'RC x riesgo de Filiales del Exterior']] = datos_n[['RC x riesgo de Credito',\n",
    "                                                              'RC x riesgo de Mercado',\n",
    "                                                              'RC x riesgo Operacional',\n",
    "                                                              'RC x riesgo de Filiales del Exterior']].apply(lambda x: x /100)\n",
    "datos_n"
   ]
  },
  {
   "cell_type": "code",
   "execution_count": null,
   "metadata": {},
   "outputs": [],
   "source": [
    "datos_n['RC xr C monto'] = datos_n.apply(lambda x : x['RC Total']*x['RC x riesgo de Credito'] , axis = 1)\n",
    "datos_n"
   ]
  },
  {
   "cell_type": "code",
   "execution_count": null,
   "metadata": {},
   "outputs": [],
   "source": [
    "datos[n_cols] = datos_n[n_cols]\n",
    "datos"
   ]
  },
  {
   "cell_type": "code",
   "execution_count": null,
   "metadata": {},
   "outputs": [],
   "source": [
    "datos['RC x riesgo de Credito'] = datos.apply(lambda x:  x['RC x riesgo de Credito'] * 0.95 if x['Institucion'] == 'ACTINVER' else x['RC x riesgo de Credito'] * 0.90 , axis = 1)"
   ]
  },
  {
   "cell_type": "code",
   "execution_count": null,
   "metadata": {},
   "outputs": [],
   "source": [
    "datos"
   ]
  },
  {
   "cell_type": "code",
   "execution_count": null,
   "metadata": {},
   "outputs": [],
   "source": [
    "riesgos = datos.apply(lambda x : (x['RC Total']*x['RC x riesgo de Credito'],  x['RC Total']*x['RC x riesgo de Mercado']) , axis = 1)\n",
    "riesgos"
   ]
  },
  {
   "cell_type": "code",
   "execution_count": null,
   "metadata": {},
   "outputs": [],
   "source": [
    "datos[['RC xr C monto','RC xr M monto']] = pd.DataFrame(riesgos.to_list(), columns=['RC xr C monto','RC xr M monto'])"
   ]
  },
  {
   "cell_type": "code",
   "execution_count": null,
   "metadata": {},
   "outputs": [],
   "source": [
    "datos"
   ]
  },
  {
   "cell_type": "markdown",
   "metadata": {},
   "source": [
    "### Ejercicio. Crear una función lambda que determine si una cadena de texto contiene un caracter o una cadena"
   ]
  },
  {
   "cell_type": "code",
   "execution_count": null,
   "metadata": {},
   "outputs": [],
   "source": [
    "help(str)"
   ]
  },
  {
   "cell_type": "code",
   "execution_count": null,
   "metadata": {},
   "outputs": [],
   "source": [
    "contiene = lambda x,y: False if x.find(y) == -1 else True"
   ]
  },
  {
   "cell_type": "code",
   "execution_count": null,
   "metadata": {},
   "outputs": [],
   "source": [
    "contiene(\"EL lagarto esta en el lago\", 'lago')"
   ]
  },
  {
   "cell_type": "code",
   "execution_count": null,
   "metadata": {},
   "outputs": [],
   "source": []
  },
  {
   "cell_type": "code",
   "execution_count": null,
   "metadata": {},
   "outputs": [],
   "source": []
  },
  {
   "cell_type": "code",
   "execution_count": null,
   "metadata": {},
   "outputs": [],
   "source": [
    "contiene2 = lambda x,y : str.__contains__(x,y)\n",
    "contiene2(\"EL lagarto esta en el lago\", 'lago')"
   ]
  },
  {
   "cell_type": "markdown",
   "metadata": {},
   "source": [
    "### Ejercicio. Crear una función lambda que imprima si un número es par o impar"
   ]
  },
  {
   "cell_type": "code",
   "execution_count": null,
   "metadata": {},
   "outputs": [],
   "source": [
    "par = lambda p : print(\"El número es par\") if p%2 == 0 else print(\"El número es impar\") \n",
    "par(67)"
   ]
  },
  {
   "cell_type": "code",
   "execution_count": null,
   "metadata": {},
   "outputs": [],
   "source": []
  }
 ],
 "metadata": {
  "kernelspec": {
   "display_name": "Python 3",
   "language": "python",
   "name": "python3"
  },
  "language_info": {
   "codemirror_mode": {
    "name": "ipython",
    "version": 3
   },
   "file_extension": ".py",
   "mimetype": "text/x-python",
   "name": "python",
   "nbconvert_exporter": "python",
   "pygments_lexer": "ipython3",
   "version": "3.8.5"
  }
 },
 "nbformat": 4,
 "nbformat_minor": 4
}
