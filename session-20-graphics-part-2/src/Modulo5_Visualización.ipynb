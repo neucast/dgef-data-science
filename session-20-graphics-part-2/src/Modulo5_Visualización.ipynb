{
 "cells": [
  {
   "cell_type": "markdown",
   "metadata": {},
   "source": [
    "# ¿Cuáles son los dos módulos descritos en la sesión anterior para poder generar interfaces gráficas?"
   ]
  },
  {
   "cell_type": "markdown",
   "metadata": {},
   "source": [
    "# Visualización en Python"
   ]
  },
  {
   "cell_type": "markdown",
   "metadata": {},
   "source": [
    "<b>Matplotlib:</b> Requiere múltiples configuraciones\n",
    "\n",
    "<b>Pandas Visualization:</b> Interfaz amigable creada sobre Matplotlib pero que se construye sobre los dataframes\n",
    "\n",
    "<b>Seaborn:</b> Interfaz de alto nivel \n",
    "\n",
    "<b>ggplot:</b> Basado en la librería ggplot2 de R \n",
    "\n",
    "<b>Plotly:</b> Puede crear gráficas interactivas "
   ]
  },
  {
   "cell_type": "code",
   "execution_count": null,
   "metadata": {},
   "outputs": [],
   "source": [
    "import matplotlib.pyplot as plt\n",
    "import pandas as pd\n",
    "import numpy as np\n",
    "from sklearn import datasets\n",
    "import seaborn as sns\n",
    "from plotnine import *\n",
    "import plotly.express as px\n",
    "from pandas.plotting import scatter_matrix\n",
    "import plotly.figure_factory as ff\n",
    "import time\n",
    "import plotly.graph_objects as go\n",
    "import matplotlib.animation as animation"
   ]
  },
  {
   "cell_type": "code",
   "execution_count": null,
   "metadata": {},
   "outputs": [],
   "source": [
    "# pip install plotnine\n",
    "# pip install plotnine"
   ]
  },
  {
   "cell_type": "code",
   "execution_count": null,
   "metadata": {},
   "outputs": [],
   "source": [
    "iris = datasets.load_iris()\n",
    "iris_df = pd.DataFrame(iris['data'], columns=iris['feature_names'])\n",
    "iris_df['target'] = pd.Series(iris['target'], name='target_values')\n",
    "iris_df['target_name'] = iris_df['target'].replace([0, 1, 2],\n",
    "                                                   ['iris-' + species for species in iris['target_names'].tolist()])"
   ]
  },
  {
   "cell_type": "code",
   "execution_count": null,
   "metadata": {},
   "outputs": [],
   "source": [
    "iris_df"
   ]
  },
  {
   "cell_type": "markdown",
   "metadata": {},
   "source": [
    "### Gráfica de líneas"
   ]
  },
  {
   "cell_type": "markdown",
   "metadata": {},
   "source": [
    "#### Matplotlib\n",
    "https://matplotlib.org/stable/api/_as_gen/matplotlib.pyplot.plot.html"
   ]
  },
  {
   "cell_type": "code",
   "execution_count": null,
   "metadata": {},
   "outputs": [],
   "source": [
    "# get columns to plot\n",
    "columns = iris_df.columns.drop(['target_name', 'target'])\n",
    "# create x data\n",
    "x_data = range(0, iris_df.shape[0])\n",
    "# create figure and axis\n",
    "fig1, ax1 = plt.subplots()\n",
    "fig2, ax2 = plt.subplots()\n",
    "# plot each column\n",
    "for column in columns:\n",
    "    ax1.plot(x_data, iris_df[column], label=column, marker='.')\n",
    "ax2.plot(x_data, iris_df['sepal length (cm)'], label='sepal length (cm)', marker='v', color='k', linestyle=':')\n",
    "# set title and legend\n",
    "ax1.set_title('Iris Dataset')\n",
    "ax1.legend()\n",
    "ax2.set_title('Iris Dataset - sepal length (cm)')\n",
    "ax2.legend()"
   ]
  },
  {
   "cell_type": "markdown",
   "metadata": {},
   "source": [
    "#### Pandas\n",
    "https://pandas.pydata.org/docs/reference/api/pandas.DataFrame.plot.html"
   ]
  },
  {
   "cell_type": "code",
   "execution_count": null,
   "metadata": {},
   "outputs": [],
   "source": [
    "iris_df.drop(['target', 'target_name'], axis=1).plot.line(title='Iris Dataset')"
   ]
  },
  {
   "cell_type": "markdown",
   "metadata": {},
   "source": [
    "#### Seaborn\n",
    "https://seaborn.pydata.org/generated/seaborn.lineplot.html"
   ]
  },
  {
   "cell_type": "code",
   "execution_count": null,
   "metadata": {},
   "outputs": [],
   "source": [
    "sns.lineplot(data=iris_df.drop(['target', 'target_name'], axis=1)).set_title('Iris Dataset')"
   ]
  },
  {
   "cell_type": "markdown",
   "metadata": {},
   "source": [
    "### Plotly\n",
    "https://plotly.com/python/line-charts/"
   ]
  },
  {
   "cell_type": "code",
   "execution_count": null,
   "metadata": {},
   "outputs": [],
   "source": [
    "fig = px.line(iris_df, y=iris_df['petal length (cm)'], title='Iris Data set')\n",
    "fig.show()"
   ]
  },
  {
   "cell_type": "markdown",
   "metadata": {},
   "source": [
    "### Scatter plot"
   ]
  },
  {
   "cell_type": "markdown",
   "metadata": {},
   "source": [
    "#### ggplot2\n",
    "\n",
    "https://plotnine.readthedocs.io/en/stable/generated/plotnine.ggplot.html\n",
    "\n",
    "Proporciona una forma extremadamente intuitiva y consistente de graficar sus datos ya que está basado en el uso de \"La gramática de los gráficos\" la cual consta de los siguientes componentes:"
   ]
  },
  {
   "cell_type": "code",
   "execution_count": null,
   "metadata": {},
   "outputs": [],
   "source": [
    "from IPython.display import Image\n",
    "\n",
    "Image('grammar of graphics.png')"
   ]
  },
  {
   "cell_type": "markdown",
   "metadata": {},
   "source": [
    "Después de identificar los datos a visualizar, se debe especificar las variables que interesan. En tercer lugar, se debe definir qué tipo de objeto geométrico se desea utilizar. \n",
    "\n",
    "Estos tres primeros componentes son obligatorios. \n",
    "\n",
    "Las facetas se refieren a especificaciones de subparcelas, es decir, trazar varias variables dentro de sus datos una al lado de la otra en parcelas separadas. \n",
    "\n",
    "Las transformaciones estadísticas se refieren principalmente a la inclusión de estadísticas en el resumen gráfico.\n",
    "\n",
    "Las coordenadas describen los diferentes sistemas de coordenadas disponibles. \n",
    "\n",
    "Los temas brindan una variedad de opciones para diseñar todos los elementos que no son datos del gráfico, como la leyenda, el fondo o las anotaciones."
   ]
  },
  {
   "cell_type": "code",
   "execution_count": null,
   "metadata": {},
   "outputs": [],
   "source": [
    "(ggplot(iris_df)  # defining what data to use\n",
    " + aes(x='sepal length (cm)', y='sepal width (cm)', color='target_name')  # defining what variable to use\n",
    " + geom_point()  # defining the type of plot to use\n",
    " + labs(title='Sepal length (cm) vs sepal width (cm)', x='Sepal length (cm)', y='sepal width (cm)')\n",
    " # customizing labels\n",
    " )"
   ]
  },
  {
   "cell_type": "markdown",
   "metadata": {},
   "source": [
    "#### Plotly\n",
    "https://plotly.com/python/line-and-scatter/\n",
    "\n",
    "https://plotly.com/python/3d-scatter-plots/"
   ]
  },
  {
   "cell_type": "code",
   "execution_count": null,
   "metadata": {},
   "outputs": [],
   "source": [
    "fig = px.scatter(iris_df, x=\"petal length (cm)\", y=\"petal width (cm)\", color=\"target_name\", size='sepal length (cm)',\n",
    "                 hover_data=['sepal width (cm)'])\n",
    "fig.show()"
   ]
  },
  {
   "cell_type": "code",
   "execution_count": null,
   "metadata": {},
   "outputs": [],
   "source": [
    "fig = px.scatter_3d(\n",
    "    iris_df, x='sepal length (cm)', y='sepal width (cm)', z='petal width (cm)', color='petal length (cm)',\n",
    "    size='petal length (cm)', size_max=20\n",
    ")\n",
    "fig.show()"
   ]
  },
  {
   "cell_type": "markdown",
   "metadata": {},
   "source": [
    "### Mapa de calor"
   ]
  },
  {
   "cell_type": "code",
   "execution_count": null,
   "metadata": {},
   "outputs": [],
   "source": [
    "corr = iris_df.corr()"
   ]
  },
  {
   "cell_type": "markdown",
   "metadata": {},
   "source": [
    "#### Matplotlib\n",
    "https://matplotlib.org/stable/gallery/images_contours_and_fields/image_annotated_heatmap.html"
   ]
  },
  {
   "cell_type": "code",
   "execution_count": null,
   "metadata": {},
   "outputs": [],
   "source": [
    "fig, ax = plt.subplots()\n",
    "# create heatmap\n",
    "im = ax.imshow(corr.values)\n",
    "\n",
    "# set labels\n",
    "ax.set_xticks(np.arange(len(corr.columns)))\n",
    "ax.set_yticks(np.arange(len(corr.columns)))\n",
    "ax.set_xticklabels(corr.columns)\n",
    "ax.set_yticklabels(corr.columns)\n",
    "\n",
    "# Rotate the tick labels and set their alignment.\n",
    "plt.setp(ax.get_xticklabels(), rotation=90, ha=\"right\",\n",
    "         rotation_mode=\"anchor\")\n",
    "\n",
    "# Loop over data dimensions and create text annotations.\n",
    "for i in range(len(corr.columns)):\n",
    "    for j in range(len(corr.columns)):\n",
    "        text = ax.text(j, i, np.around(corr.iloc[i, j], decimals=2),\n",
    "                       ha=\"center\", va=\"center\", color=\"black\")"
   ]
  },
  {
   "cell_type": "markdown",
   "metadata": {},
   "source": [
    "#### Seaborn\n",
    "https://seaborn.pydata.org/generated/seaborn.heatmap.html"
   ]
  },
  {
   "cell_type": "code",
   "execution_count": null,
   "metadata": {},
   "outputs": [],
   "source": [
    "sns.heatmap(corr, annot=True)"
   ]
  },
  {
   "cell_type": "markdown",
   "metadata": {},
   "source": [
    "#### Plotly\n",
    "https://plotly.com/python/heatmaps/"
   ]
  },
  {
   "cell_type": "code",
   "execution_count": null,
   "metadata": {},
   "outputs": [],
   "source": [
    "fig = px.imshow(corr)\n",
    "fig.update_layout(\n",
    "    title='Iris Data set correlation matrix',\n",
    ")\n",
    "fig.show()"
   ]
  },
  {
   "cell_type": "markdown",
   "metadata": {},
   "source": [
    "### Ejercicio. \n",
    "\n",
    "Crear una gráfica de barras con matplotlib con el conteo de cada observación de las especies del dataset iris\n",
    "\n",
    "https://matplotlib.org/stable/api/_as_gen/matplotlib.pyplot.bar.html"
   ]
  },
  {
   "cell_type": "markdown",
   "metadata": {},
   "source": [
    "### Múltiples gráficas"
   ]
  },
  {
   "cell_type": "markdown",
   "metadata": {},
   "source": [
    "#### Matplotlib"
   ]
  },
  {
   "cell_type": "code",
   "execution_count": null,
   "metadata": {},
   "outputs": [],
   "source": [
    "fig, (axs1, axs2) = plt.subplots(2, 2)\n",
    "axs1[0].hist(iris_df['sepal length (cm)'], bins=10)\n",
    "axs1[1].scatter(x_data, iris_df['sepal length (cm)'], iris_df['sepal width (cm)'], )\n",
    "axs2[0].scatter(x_data, iris_df['sepal width (cm)'], iris_df['sepal length (cm)'])\n",
    "axs2[1].hist(iris_df['sepal width (cm)'], bins=10)\n",
    "axs1[0].set_title(\"sepal length\")\n",
    "axs1[1].set_title(\"sepal width\")\n",
    "axs1[0].set(ylabel=\"sepal length\")\n",
    "axs2[0].set(ylabel=\"sepal width\")"
   ]
  },
  {
   "cell_type": "markdown",
   "metadata": {},
   "source": [
    "#### Pandas"
   ]
  },
  {
   "cell_type": "code",
   "execution_count": null,
   "metadata": {},
   "outputs": [],
   "source": [
    "iris_df.drop(['target', 'target_name'], axis=1).plot.hist(subplots=True, layout=(2, 2), figsize=(10, 10), bins=20)"
   ]
  },
  {
   "cell_type": "markdown",
   "metadata": {},
   "source": [
    "####  Seaborns pairplot\n",
    "https://seaborn.pydata.org/generated/seaborn.pairplot.html"
   ]
  },
  {
   "cell_type": "code",
   "execution_count": null,
   "metadata": {},
   "outputs": [],
   "source": [
    "sns.pairplot(iris_df.drop(['target', 'target_name'], axis=1))"
   ]
  },
  {
   "cell_type": "code",
   "execution_count": null,
   "metadata": {},
   "outputs": [],
   "source": [
    "sns.pairplot(iris_df.drop(['target'], axis=1), hue=\"target_name\", markers=[\"o\", \"s\", \"D\"])"
   ]
  },
  {
   "cell_type": "code",
   "execution_count": null,
   "metadata": {},
   "outputs": [],
   "source": [
    "sns.pairplot(iris_df.drop(['target'], axis=1), hue=\"target_name\", diag_kind=\"hist\")"
   ]
  },
  {
   "cell_type": "markdown",
   "metadata": {},
   "source": [
    "#### Pandas scatter matrix\n",
    "https://pandas.pydata.org/docs/reference/api/pandas.plotting.scatter_matrix.html"
   ]
  },
  {
   "cell_type": "code",
   "execution_count": null,
   "metadata": {},
   "outputs": [],
   "source": [
    "fig, ax = plt.subplots(figsize=(12, 12))\n",
    "scatter_matrix(iris_df.drop(['target'], axis=1), ax=ax, diagonal='kde')"
   ]
  },
  {
   "cell_type": "markdown",
   "metadata": {},
   "source": [
    "#### Plotly \n",
    "https://plotly.com/python/splom/#splom-of-the-iris-data-set\n",
    "\n",
    "https://plotly.com/python/v3/legacy/scatterplot-matrix/"
   ]
  },
  {
   "cell_type": "code",
   "execution_count": null,
   "metadata": {},
   "outputs": [],
   "source": [
    "fig = px.scatter_matrix(iris_df, dimensions=[\"sepal width (cm)\", \"sepal length (cm)\",\n",
    "                                             \"petal width (cm)\", \"petal length (cm)\"],\n",
    "                        color=\"target_name\")\n",
    "fig.update_layout(\n",
    "    title='Iris Data set',\n",
    "    width=750,\n",
    "    height=750,\n",
    ")\n",
    "fig.show()"
   ]
  },
  {
   "cell_type": "code",
   "execution_count": null,
   "metadata": {},
   "outputs": [],
   "source": [
    "fig = ff.create_scatterplotmatrix(iris_df.drop(['target'], axis=1), diag='histogram', index='target_name',\n",
    "                                  height=800, width=800)\n",
    "fig.update_layout(\n",
    "    title='Iris Data set',\n",
    "    width=750,\n",
    "    height=750,\n",
    ")\n",
    "fig.show()"
   ]
  },
  {
   "cell_type": "markdown",
   "metadata": {},
   "source": [
    "### Gráficas dinámicas e interactivas"
   ]
  },
  {
   "cell_type": "code",
   "execution_count": null,
   "metadata": {},
   "outputs": [],
   "source": [
    "% matplotlib notebook\n",
    "fig, ax = plt.subplots()\n",
    "ax.set_xlabel('Observación');\n",
    "ax.set_ylabel('length (cm)')\n",
    "plt.plot(iris_df['petal length (cm)'])\n",
    "plt.show()"
   ]
  },
  {
   "cell_type": "code",
   "execution_count": null,
   "metadata": {
    "scrolled": true
   },
   "outputs": [],
   "source": [
    "# Cambiar matplotlib backend \n",
    "% matplotlib notebook\n",
    "\n",
    "# Función dinámica para graficar los datos\n",
    "def plt_dynamic(x, y, ax, colors=['r']):\n",
    "    for color in colors:\n",
    "        ax.plot(x, y, color, marker='o', linestyle='-.')\n",
    "        plt.rcParams[\"figure.figsize\"] = [5, 5]\n",
    "        plt.rcParams[\"figure.autolayout\"] = True\n",
    "        fig.canvas.draw()\n",
    "\n",
    "\n",
    "# Configuración de la figura\n",
    "\n",
    "fig, ax = plt.subplots()\n",
    "ax.set_xlabel('Observación');\n",
    "ax.set_ylabel('length (cm)')\n",
    "ax.set_xlim(0, 150);\n",
    "ax.set_ylim(0, 10)\n",
    "xs, ys, zs = [], [], []\n",
    "\n",
    "# Loop para iterar en los datos y dibujarlos\n",
    "\n",
    "for x in range(len(iris_df)):\n",
    "    y = iris_df['petal length (cm)'][x]\n",
    "    z = iris_df['petal width (cm)'][x]\n",
    "    xs.append(x)\n",
    "    ys.append(y)\n",
    "    zs.append(z)\n",
    "    if x % 10 == 0:\n",
    "        plt_dynamic(xs, ys, ax, colors=['r'])\n",
    "        plt_dynamic(xs, zs, ax, colors=['b'])\n",
    "        time.sleep(.25)\n",
    "\n",
    "plt_dynamic(xs, ys, ax, colors=['r'])\n",
    "plt_dynamic(xs, zs, ax, colors=['b'])"
   ]
  },
  {
   "cell_type": "code",
   "execution_count": null,
   "metadata": {},
   "outputs": [],
   "source": [
    "figure = px.scatter(data_frame=iris_df, x=\"sepal width (cm)\",\n",
    "                    y=\"sepal length (cm)\",\n",
    "                    color=\"target_name\",\n",
    "                    size=\"petal width (cm)\",\n",
    "                    animation_frame=\"target_name\", )\n",
    "figure.show()\n",
    "figure.write_html(\"Iris.html\")"
   ]
  },
  {
   "cell_type": "code",
   "execution_count": null,
   "metadata": {},
   "outputs": [],
   "source": []
  }
 ],
 "metadata": {
  "kernelspec": {
   "display_name": "Python 3",
   "language": "python",
   "name": "python3"
  },
  "language_info": {
   "codemirror_mode": {
    "name": "ipython",
    "version": 3
   },
   "file_extension": ".py",
   "mimetype": "text/x-python",
   "name": "python",
   "nbconvert_exporter": "python",
   "pygments_lexer": "ipython3",
   "version": "3.8.5"
  }
 },
 "nbformat": 4,
 "nbformat_minor": 4
}