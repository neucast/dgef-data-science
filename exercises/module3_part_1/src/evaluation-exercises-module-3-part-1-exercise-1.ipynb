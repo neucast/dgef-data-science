{
 "cells": [
  {
   "cell_type": "code",
   "execution_count": 1,
   "metadata": {
    "collapsed": true
   },
   "outputs": [],
   "source": [
    "# Binary trees.\n",
    "import os\n",
    "import numpy as np\n",
    "import pandas as pd\n",
    "from sklearn.tree import DecisionTreeRegressor  # Source: https://scikit-learn.org/stable/modules/generated/sklearn.tree.DecisionTreeRegressor.html\n",
    "from sklearn.tree import DecisionTreeClassifier  # Source: https://scikit-learn.org/stable/modules/generated/sklearn.tree.DecisionTreeClassifier.html"
   ]
  },
  {
   "cell_type": "code",
   "execution_count": 2,
   "outputs": [],
   "source": [
    "# Configuration.\n",
    "pd.set_option('display.max_columns', None)\n",
    "pd.set_option('display.max_rows', None)"
   ],
   "metadata": {
    "collapsed": false,
    "pycharm": {
     "name": "#%%\n"
    }
   }
  },
  {
   "cell_type": "code",
   "execution_count": 3,
   "outputs": [
    {
     "name": "stdout",
     "output_type": "stream",
     "text": [
      "The input CSV file is:  /home/lneumann/development/dgef-data-science/exercises/module3_part_1/data/2D-binary-tree-example.csv\n"
     ]
    }
   ],
   "source": [
    "# Ingestion.\n",
    "# inputPath to the CSV file.\n",
    "inputPath = os.path.join(os.path.expanduser(\"~\"), \"development\", \"dgef-data-science\",\n",
    "                         \"exercises\", \"module3_part_1\",\n",
    "                         \"data\", \"2D-binary-tree-example.csv\")\n",
    "\n",
    "# Prints the absolute inputPath to the CSV file.\n",
    "print(\"The input CSV file is: \", inputPath)"
   ],
   "metadata": {
    "collapsed": false,
    "pycharm": {
     "name": "#%%\n"
    }
   }
  },
  {
   "cell_type": "code",
   "execution_count": 4,
   "outputs": [
    {
     "name": "stdout",
     "output_type": "stream",
     "text": [
      "     Y   X1   X2\n",
      "0  1.0  1.0  2.0\n",
      "1  1.0  2.0  2.0\n",
      "2  1.0  3.0  2.0\n",
      "3  1.0  4.0  2.0\n",
      "4  1.0  5.0  2.0\n"
     ]
    }
   ],
   "source": [
    "# Reads the CSV data file.\n",
    "sourceMatrix = pd.read_csv(inputPath, dtype='str', encoding=\"ISO-8859-1\")\n",
    "sourceMatrix[[\"Y\", \"X1\", \"X2\"]] = sourceMatrix[[\"Y\", \"X1\", \"X2\"]].astype(float)\n",
    "print(sourceMatrix.head())"
   ],
   "metadata": {
    "collapsed": false,
    "pycharm": {
     "name": "#%%\n"
    }
   }
  },
  {
   "cell_type": "code",
   "execution_count": 5,
   "outputs": [],
   "source": [
    "# Mean square error function.\n",
    "def meanSquareErrorFunction(v1, v2):\n",
    "    accumulator, columns = 0, len(v1)\n",
    "\n",
    "    for i in range(columns):\n",
    "        accumulator = accumulator + (v1[1] - v2[1]) ** 2\n",
    "    return (accumulator ** 0.5) / columns"
   ],
   "metadata": {
    "collapsed": false,
    "pycharm": {
     "name": "#%%\n"
    }
   }
  },
  {
   "cell_type": "code",
   "execution_count": 6,
   "outputs": [],
   "source": [
    "# Binary tree construction.\n",
    "# Transforming data as a Numpy array.\n",
    "X_training_set = np.asarray(sourceMatrix[[\"X1\", \"X2\"]].copy(deep=True).reset_index(drop=True))\n",
    "X_testing_set = np.asarray(sourceMatrix[[\"X1\", \"X2\"]].copy(deep=True).reset_index(drop=True))\n",
    "Y_training_set = np.asarray(sourceMatrix[[\"Y\"]].copy(deep=True).reset_index(drop=True))\n",
    "Y_testing_set = np.asarray(sourceMatrix[[\"Y\"]].copy(deep=True).reset_index(drop=True))"
   ],
   "metadata": {
    "collapsed": false,
    "pycharm": {
     "name": "#%%\n"
    }
   }
  },
  {
   "cell_type": "code",
   "execution_count": 7,
   "outputs": [
    {
     "name": "stdout",
     "output_type": "stream",
     "text": [
      "Decision Tree Regressor (DTR) mean square error =  [0.]\n"
     ]
    }
   ],
   "source": [
    "# Calculation using python scikit-learn defined functions.\n",
    "# scikit-learn method comparison.\n",
    "\n",
    "# Decision tree regressor method.\n",
    "decisionTreeRegressor = DecisionTreeRegressor(max_depth=2)\n",
    "decisionTreeRegressor.fit(X_training_set, Y_training_set)\n",
    "Y_predicted_set1 = decisionTreeRegressor.predict(X_testing_set)\n",
    "meanSquareError1 = meanSquareErrorFunction(Y_predicted_set1, Y_testing_set)\n",
    "print(\"Decision Tree Regressor (DTR) mean square error = \", meanSquareError1)"
   ],
   "metadata": {
    "collapsed": false,
    "pycharm": {
     "name": "#%%\n"
    }
   }
  },
  {
   "cell_type": "code",
   "execution_count": 8,
   "outputs": [
    {
     "name": "stdout",
     "output_type": "stream",
     "text": [
      "Decision Tree Classifier (DTC) with entropy criterion mean square error =  [0.]\n"
     ]
    }
   ],
   "source": [
    "# Decision tree classification procedure using the entropy function.\n",
    "decisionTreeClassifier = DecisionTreeClassifier(criterion='entropy')\n",
    "decisionTreeClassifier.fit(X_training_set, Y_training_set)\n",
    "Y_predicted_set2 = decisionTreeClassifier.predict(X_testing_set)\n",
    "meanSquareError2 = meanSquareErrorFunction(Y_predicted_set2, Y_testing_set)\n",
    "print(\"Decision Tree Classifier (DTC) with entropy criterion mean square error = \", meanSquareError2)"
   ],
   "metadata": {
    "collapsed": false,
    "pycharm": {
     "name": "#%%\n"
    }
   }
  },
  {
   "cell_type": "code",
   "execution_count": 9,
   "outputs": [
    {
     "name": "stdout",
     "output_type": "stream",
     "text": [
      "Prediction compare matrix:\n",
      "    Real data  DTR Approximate data  DTC Approximate data\n",
      "0         1.0                   1.0                   1.0\n",
      "1         1.0                   1.0                   1.0\n",
      "2         1.0                   1.0                   1.0\n",
      "3         1.0                   1.0                   1.0\n",
      "4         1.0                   1.0                   1.0\n",
      "5         1.0                   1.0                   1.0\n",
      "6         1.0                   1.0                   1.0\n",
      "7         1.0                   1.0                   1.0\n",
      "8         1.0                   1.0                   1.0\n",
      "9         1.0                   1.0                   1.0\n",
      "10        1.0                   1.0                   1.0\n",
      "11        1.0                   1.0                   1.0\n",
      "12        1.0                   1.0                   1.0\n",
      "13        1.0                   1.0                   1.0\n",
      "14        1.0                   1.0                   1.0\n",
      "15        1.0                   1.0                   1.0\n",
      "16        1.0                   1.0                   1.0\n",
      "17        1.0                   1.0                   1.0\n",
      "18        1.0                   1.0                   1.0\n",
      "19        1.0                   1.0                   1.0\n",
      "20        1.0                   1.0                   1.0\n",
      "21        1.0                   1.0                   1.0\n",
      "22        1.0                   1.0                   1.0\n",
      "23        1.0                   1.0                   1.0\n",
      "24        1.0                   1.0                   1.0\n",
      "25        2.0                   2.0                   2.0\n",
      "26        2.0                   2.0                   2.0\n",
      "27        2.0                   2.0                   2.0\n",
      "28        2.0                   2.0                   2.0\n",
      "29        2.0                   2.0                   2.0\n",
      "30        2.0                   2.0                   2.0\n",
      "31        2.0                   2.0                   2.0\n",
      "32        2.0                   2.0                   2.0\n",
      "33        2.0                   2.0                   2.0\n",
      "34        2.0                   2.0                   2.0\n",
      "35        2.0                   2.0                   2.0\n",
      "36        2.0                   2.0                   2.0\n",
      "37        2.0                   2.0                   2.0\n",
      "38        2.0                   2.0                   2.0\n",
      "39        2.0                   2.0                   2.0\n",
      "40        2.0                   2.0                   2.0\n",
      "41        2.0                   2.0                   2.0\n",
      "42        2.0                   2.0                   2.0\n",
      "43        2.0                   2.0                   2.0\n",
      "44        2.0                   2.0                   2.0\n",
      "45        2.0                   2.0                   2.0\n",
      "46        2.0                   2.0                   2.0\n",
      "47        2.0                   2.0                   2.0\n",
      "48        2.0                   2.0                   2.0\n",
      "49        2.0                   2.0                   2.0\n",
      "50       -1.0                  -1.0                  -1.0\n",
      "51       -1.0                  -1.0                  -1.0\n",
      "52       -1.0                  -1.0                  -1.0\n",
      "53       -1.0                  -1.0                  -1.0\n",
      "54       -1.0                  -1.0                  -1.0\n",
      "55       -1.0                  -1.0                  -1.0\n",
      "56       -1.0                  -1.0                  -1.0\n",
      "57       -1.0                  -1.0                  -1.0\n",
      "58       -1.0                  -1.0                  -1.0\n",
      "59       -1.0                  -1.0                  -1.0\n",
      "60       -1.0                  -1.0                  -1.0\n",
      "61       -1.0                  -1.0                  -1.0\n",
      "62       -1.0                  -1.0                  -1.0\n",
      "63       -1.0                  -1.0                  -1.0\n",
      "64       -1.0                  -1.0                  -1.0\n",
      "65       -1.0                  -1.0                  -1.0\n",
      "66       -1.0                  -1.0                  -1.0\n",
      "67       -1.0                  -1.0                  -1.0\n",
      "68       -1.0                  -1.0                  -1.0\n",
      "69       -1.0                  -1.0                  -1.0\n",
      "70       -1.0                  -1.0                  -1.0\n",
      "71       -1.0                  -1.0                  -1.0\n",
      "72       -1.0                  -1.0                  -1.0\n",
      "73       -1.0                  -1.0                  -1.0\n",
      "74       -1.0                  -1.0                  -1.0\n",
      "75        4.0                   4.0                   4.0\n",
      "76        4.0                   4.0                   4.0\n",
      "77        4.0                   4.0                   4.0\n",
      "78        4.0                   4.0                   4.0\n",
      "79        4.0                   4.0                   4.0\n",
      "80        4.0                   4.0                   4.0\n",
      "81        4.0                   4.0                   4.0\n",
      "82        4.0                   4.0                   4.0\n",
      "83        4.0                   4.0                   4.0\n",
      "84        4.0                   4.0                   4.0\n",
      "85        4.0                   4.0                   4.0\n",
      "86        4.0                   4.0                   4.0\n",
      "87        4.0                   4.0                   4.0\n",
      "88        4.0                   4.0                   4.0\n",
      "89        4.0                   4.0                   4.0\n",
      "90        4.0                   4.0                   4.0\n",
      "91        4.0                   4.0                   4.0\n",
      "92        4.0                   4.0                   4.0\n",
      "93        4.0                   4.0                   4.0\n",
      "94        4.0                   4.0                   4.0\n",
      "95        4.0                   4.0                   4.0\n",
      "96        4.0                   4.0                   4.0\n",
      "97        4.0                   4.0                   4.0\n",
      "98        4.0                   4.0                   4.0\n",
      "99        4.0                   4.0                   4.0\n"
     ]
    }
   ],
   "source": [
    "# Data frame definition to compare the results.\n",
    "compareMatrix = pd.DataFrame(index=range(len(Y_predicted_set2)),\n",
    "                             columns=[\"Real data\", \"DTR Approximate data\", \"DTC Approximate data\"])\n",
    "compareMatrix[\"Real data\"] = Y_testing_set\n",
    "compareMatrix[\"DTR Approximate data\"] = Y_predicted_set1\n",
    "compareMatrix[\"DTC Approximate data\"] = Y_predicted_set2\n",
    "\n",
    "print(\"Prediction compare matrix:\")\n",
    "print(compareMatrix)\n"
   ],
   "metadata": {
    "collapsed": false,
    "pycharm": {
     "name": "#%%\n"
    }
   }
  }
 ],
 "metadata": {
  "kernelspec": {
   "display_name": "Python 3",
   "language": "python",
   "name": "python3"
  },
  "language_info": {
   "codemirror_mode": {
    "name": "ipython",
    "version": 2
   },
   "file_extension": ".py",
   "mimetype": "text/x-python",
   "name": "python",
   "nbconvert_exporter": "python",
   "pygments_lexer": "ipython2",
   "version": "2.7.6"
  }
 },
 "nbformat": 4,
 "nbformat_minor": 0
}