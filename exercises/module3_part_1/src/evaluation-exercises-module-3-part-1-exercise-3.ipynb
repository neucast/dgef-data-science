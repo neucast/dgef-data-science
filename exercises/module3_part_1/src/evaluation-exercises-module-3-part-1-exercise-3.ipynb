{
 "cells": [
  {
   "cell_type": "code",
   "execution_count": 61,
   "metadata": {
    "collapsed": true
   },
   "outputs": [],
   "source": [
    "import os\n",
    "import warnings\n",
    "\n",
    "import numpy as np\n",
    "import pandas as pd\n",
    "from matplotlib import pyplot as plt\n",
    "from sklearn.ensemble import RandomForestRegressor\n",
    "from sklearn.linear_model import LogisticRegression\n",
    "from sklearn.metrics import confusion_matrix\n",
    "from sklearn.metrics import roc_auc_score\n",
    "from sklearn.metrics import roc_curve\n",
    "from sklearn.model_selection import train_test_split\n",
    "from sklearn.neural_network import MLPClassifier  # Source https://scikit-learn.org/stable/modules/generated/sklearn.neural_network.MLPClassifier.html\n",
    "from sklearn.tree import DecisionTreeClassifier, DecisionTreeRegressor  # Source: https://scikit-learn.org/stable/modules/generated/sklearn.tree.DecisionTreeClassifier.html\n",
    "from sklearn.metrics import accuracy_score\n",
    "from sklearn.svm import SVC, LinearSVC  # Source: https://scikit-learn.org/stable/modules/generated/sklearn.svm.SVC.html"
   ]
  },
  {
   "cell_type": "code",
   "execution_count": 62,
   "outputs": [],
   "source": [
    "# Configure.\n",
    "warnings.filterwarnings('ignore')\n",
    "pd.set_option('display.max_columns', None)\n",
    "pd.set_option('display.max_rows', None)"
   ],
   "metadata": {
    "collapsed": false,
    "pycharm": {
     "name": "#%%\n"
    }
   }
  },
  {
   "cell_type": "code",
   "execution_count": 63,
   "outputs": [
    {
     "name": "stdout",
     "output_type": "stream",
     "text": [
      "The input CSV file is:  /home/lneumann/development/dgef-data-science/exercises/module3_part_1/data/evaluacion-modulo-3-clasificacion.csv\n",
      "     Y        X1        X2\n",
      "0  0.0  0.455427  0.141295\n",
      "1  1.0  0.616538  0.716436\n",
      "2  0.0  0.909646  0.142389\n",
      "3  0.0  0.564656  0.078458\n",
      "4  0.0  0.193780  0.333579\n"
     ]
    }
   ],
   "source": [
    "# Ingestion.\n",
    "# inputPath to the CSV file.\n",
    "inputPath = os.path.join(os.path.expanduser(\"~\"), \"development\", \"dgef-data-science\",\n",
    "                         \"exercises\", \"module3_part_1\",\n",
    "                         \"data\", \"evaluacion-modulo-3-clasificacion.csv\")\n",
    "\n",
    "# Prints the absolute inputPath to the CSV file.\n",
    "print(\"The input CSV file is: \", inputPath)\n",
    "\n",
    "# Reads the CSV data file.\n",
    "sourceMatrix = pd.read_csv(inputPath, dtype='str', encoding=\"ISO-8859-1\")\n",
    "sourceMatrix[[\"Y\", \"X1\", \"X2\"]] = sourceMatrix[[\"Y\", \"X1\", \"X2\"]].astype(float)\n",
    "print(sourceMatrix.head())"
   ],
   "metadata": {
    "collapsed": false,
    "pycharm": {
     "name": "#%%\n"
    }
   }
  },
  {
   "cell_type": "code",
   "execution_count": 64,
   "outputs": [],
   "source": [
    "# Mean square error function.\n",
    "def meanSquareErrorFunction(v1, v2):\n",
    "    accumulator, columns = 0, len(v1)\n",
    "\n",
    "    for i in range(columns):\n",
    "        accumulator = accumulator + (v1[1] - v2[1]) ** 2\n",
    "    return (accumulator ** 0.5) / columns"
   ],
   "metadata": {
    "collapsed": false,
    "pycharm": {
     "name": "#%%\n"
    }
   }
  },
  {
   "cell_type": "code",
   "execution_count": 65,
   "outputs": [],
   "source": [
    "# Data sample.\n",
    "# 80% training data and 20% testing data.\n",
    "test_sample_size = 0.2\n",
    "X_split_training_set, X_split_testing_set, Y_split_training_set, Y_split_testing_set = train_test_split(\n",
    "    sourceMatrix[[\"X1\", \"X2\"]],\n",
    "    sourceMatrix[[\"Y\"]],\n",
    "    test_size=test_sample_size,\n",
    "    random_state=1)"
   ],
   "metadata": {
    "collapsed": false,
    "pycharm": {
     "name": "#%%\n"
    }
   }
  },
  {
   "cell_type": "code",
   "execution_count": 66,
   "outputs": [],
   "source": [
    "# Transforming data as a Numpy array.\n",
    "X_training_set = np.asarray(X_split_training_set[[\"X1\", \"X2\"]].copy(deep=True).reset_index(drop=True))\n",
    "X_testing_set = np.asarray(X_split_testing_set[[\"X1\", \"X2\"]].copy(deep=True).reset_index(drop=True))\n",
    "Y_training_set = np.asarray(Y_split_training_set[[\"Y\"]].copy(deep=True).reset_index(drop=True))\n",
    "Y_testing_set = np.asarray(Y_split_testing_set[[\"Y\"]].copy(deep=True).reset_index(drop=True))"
   ],
   "metadata": {
    "collapsed": false,
    "pycharm": {
     "name": "#%%\n"
    }
   }
  },
  {
   "cell_type": "code",
   "execution_count": 67,
   "outputs": [
    {
     "name": "stdout",
     "output_type": "stream",
     "text": [
      "----------------------------- Logistic Regression -----------------------------\n",
      "Logistic Regression mean square error =  [0.]\n",
      "Logistic Regression Accuracy score:\n",
      "0.92\n",
      "Logistic Regression Precision score:\n",
      "0.7142857142857143\n",
      "Logistic Regression confusion matrix:\n",
      "[[72  0]\n",
      " [ 8 20]]\n"
     ]
    },
    {
     "data": {
      "text/plain": "<Figure size 360x360 with 1 Axes>",
      "image/png": "[encoded data removed]"
     },
     "metadata": {
      "needs_background": "light"
     },
     "output_type": "display_data"
    },
    {
     "name": "stdout",
     "output_type": "stream",
     "text": [
      "Logistic Regression area under the ROC curve is 0.9895833333333334\n"
     ]
    }
   ],
   "source": [
    "from sklearn.metrics import precision_score\n",
    "\n",
    "# Calculation using python scikit-learn defined functions.\n",
    "# scikit-learn method comparison.\n",
    "\n",
    "# ---------------------------------- Logistic Regression ----------------------------------\n",
    "print(\"----------------------------- Logistic Regression -----------------------------\")\n",
    "# Logistic Regression.\n",
    "logisticRegression = LogisticRegression()\n",
    "logisticRegression.fit(X_training_set, Y_training_set)\n",
    "Y_LogisticRegression_predicted_set = logisticRegression.predict(X_testing_set)\n",
    "logisticRegressionMeanSquareError = meanSquareErrorFunction(Y_LogisticRegression_predicted_set, Y_testing_set)\n",
    "print(\"Logistic Regression mean square error = \", logisticRegressionMeanSquareError)\n",
    "\n",
    "# Logistic Regression Accuracy score.\n",
    "logisticRegressionAccuracyScore = accuracy_score(pd.DataFrame(Y_LogisticRegression_predicted_set), Y_testing_set)\n",
    "print(\"Logistic Regression Accuracy score:\")\n",
    "print(logisticRegressionAccuracyScore)\n",
    "\n",
    "logisticRegressionPrecisionScore = precision_score(pd.DataFrame(Y_LogisticRegression_predicted_set), Y_testing_set)\n",
    "print(\"Logistic Regression Precision score:\")\n",
    "print(logisticRegressionPrecisionScore)\n",
    "\n",
    "# Logistic Regression confusion matrix.\n",
    "print(\"Logistic Regression confusion matrix:\")\n",
    "print(confusion_matrix(Y_testing_set, Y_LogisticRegression_predicted_set))\n",
    "\n",
    "# Logistic Regression ROC curve compute.\n",
    "Y_LogisticRegression_predicted_set_prob = logisticRegression.predict_proba(X_testing_set)[:, 1]\n",
    "X_LogisticRegression_rate, Y_LogisticRegression_rate, _ = roc_curve(Y_testing_set,\n",
    "                                                                    Y_LogisticRegression_predicted_set_prob)\n",
    "fig = plt.figure(figsize=(5., 5.))\n",
    "ax = fig.add_subplot(1, 1, 1)\n",
    "plt.plot(X_LogisticRegression_rate, Y_LogisticRegression_rate, color=\"blue\", linestyle=\"-\",\n",
    "         label=\"Logistic Regression ROC curve\")\n",
    "plt.xlabel('False positive rate')\n",
    "plt.ylabel('True positive rate')\n",
    "plt.legend(loc='best', ncol=2)\n",
    "plt.show()\n",
    "\n",
    "# Logistic Regression area under the ROC curve.\n",
    "print(\"Logistic Regression area under the ROC curve is\",\n",
    "      roc_auc_score(Y_testing_set, Y_LogisticRegression_predicted_set_prob))\n",
    "# ------------------------------------------------------------------------------------------------------"
   ],
   "metadata": {
    "collapsed": false,
    "pycharm": {
     "name": "#%%\n"
    }
   }
  },
  {
   "cell_type": "code",
   "execution_count": 68,
   "outputs": [
    {
     "name": "stdout",
     "output_type": "stream",
     "text": [
      "----------------------------- Support Vector Machines -----------------------------\n",
      "------- Linear SVC -------\n",
      "Linear SVC mean square error =  [0.]\n",
      "Linear SVC Accuracy score:\n",
      "0.91\n",
      "Linear SVC Precision score:\n",
      "0.7142857142857143\n",
      "Linear SVC confusion matrix:\n",
      "[[71  1]\n",
      " [ 8 20]]\n"
     ]
    },
    {
     "data": {
      "text/plain": "<Figure size 360x360 with 1 Axes>",
      "image/png": "[encoded data removed]"
     },
     "metadata": {
      "needs_background": "light"
     },
     "output_type": "display_data"
    },
    {
     "name": "stdout",
     "output_type": "stream",
     "text": [
      "Linear SVC area under the ROC curve is 0.9895833333333334\n"
     ]
    }
   ],
   "source": [
    "# ---------------------------------- Support Vector Machines ----------------------------------\n",
    "print(\"----------------------------- Support Vector Machines -----------------------------\")\n",
    "# Support Vector Machines.\n",
    "# Linear SVC\n",
    "print(\"------- Linear SVC -------\")\n",
    "linearSVC = LinearSVC(C=0.1, max_iter=500, fit_intercept=True)\n",
    "linearSVC.fit(X_training_set, Y_training_set)\n",
    "Y_LinearSVC_predicted_set = linearSVC.predict(X_testing_set)\n",
    "linearSVCMeanSquareError = meanSquareErrorFunction(Y_LinearSVC_predicted_set, Y_testing_set)\n",
    "print(\"Linear SVC mean square error = \", linearSVCMeanSquareError)\n",
    "\n",
    "# Linear SVC Accuracy score.\n",
    "linearSVCAccuracyScore = accuracy_score(pd.DataFrame(Y_LinearSVC_predicted_set), Y_testing_set)\n",
    "print(\"Linear SVC Accuracy score:\")\n",
    "print(linearSVCAccuracyScore)\n",
    "\n",
    "linearSVCPrecisionScore = precision_score(pd.DataFrame(Y_LinearSVC_predicted_set), Y_testing_set)\n",
    "print(\"Linear SVC Precision score:\")\n",
    "print(linearSVCPrecisionScore)\n",
    "\n",
    "# Linear SVC confusion matrix.\n",
    "print(\"Linear SVC confusion matrix:\")\n",
    "print(confusion_matrix(Y_testing_set, Y_LinearSVC_predicted_set))\n",
    "\n",
    "# Linear SVC ROC curve compute.\n",
    "Y_LinearSVC_predicted_set_prob = linearSVC._predict_proba_lr(X_testing_set)[:, 1]\n",
    "X_LinearSVC_rate, Y_LinearSVC_rate, _ = roc_curve(Y_testing_set,\n",
    "                                                  Y_LinearSVC_predicted_set_prob)\n",
    "fig = plt.figure(figsize=(5., 5.))\n",
    "ax = fig.add_subplot(1, 1, 1)\n",
    "plt.plot(X_LinearSVC_rate, Y_LinearSVC_rate, color=\"blue\", linestyle=\"-\",\n",
    "         label=\"Linear SVC ROC curve\")\n",
    "plt.xlabel('False positive rate')\n",
    "plt.ylabel('True positive rate')\n",
    "plt.legend(loc='best', ncol=2)\n",
    "plt.show()\n",
    "\n",
    "# Linear SVC area under the ROC curve.\n",
    "print(\"Linear SVC area under the ROC curve is\",\n",
    "      roc_auc_score(Y_testing_set, Y_LinearSVC_predicted_set_prob))"
   ],
   "metadata": {
    "collapsed": false,
    "pycharm": {
     "name": "#%%\n"
    }
   }
  },
  {
   "cell_type": "code",
   "execution_count": 69,
   "outputs": [
    {
     "name": "stdout",
     "output_type": "stream",
     "text": [
      "------- SVC Linear -------\n",
      "SVC linear mean square error =  [0.]\n",
      "SVC linear Accuracy score:\n",
      "0.89\n",
      "SVC linear Precision score:\n",
      "0.6071428571428571\n",
      "SVC linear confusion matrix:\n",
      "[[72  0]\n",
      " [11 17]]\n"
     ]
    },
    {
     "data": {
      "text/plain": "<Figure size 360x360 with 1 Axes>",
      "image/png": "[encoded data removed]"
     },
     "metadata": {
      "needs_background": "light"
     },
     "output_type": "display_data"
    },
    {
     "name": "stdout",
     "output_type": "stream",
     "text": [
      "SVC linear area under the ROC curve is 0.9910714285714285\n"
     ]
    }
   ],
   "source": [
    "# SVC\n",
    "print(\"------- SVC Linear -------\")\n",
    "svcLinear = SVC(kernel='linear', C=0.1, max_iter=500, probability=True)\n",
    "svcLinear.fit(X_training_set, Y_training_set)\n",
    "Y_SVCLinear_predicted_set = svcLinear.predict(X_testing_set)\n",
    "svcLinearMeanSquareError = meanSquareErrorFunction(Y_SVCLinear_predicted_set, Y_testing_set)\n",
    "print(\"SVC linear mean square error = \", svcLinearMeanSquareError)\n",
    "\n",
    "# SVC linear Accuracy score.\n",
    "svcLinearAccuracyScore = accuracy_score(pd.DataFrame(Y_SVCLinear_predicted_set), Y_testing_set)\n",
    "print(\"SVC linear Accuracy score:\")\n",
    "print(svcLinearAccuracyScore)\n",
    "\n",
    "# SVC linear Precision score.\n",
    "svcLinearPrecisionScore = precision_score(pd.DataFrame(Y_SVCLinear_predicted_set), Y_testing_set)\n",
    "print(\"SVC linear Precision score:\")\n",
    "print(svcLinearPrecisionScore)\n",
    "\n",
    "# SVC linear confusion matrix.\n",
    "print(\"SVC linear confusion matrix:\")\n",
    "print(confusion_matrix(Y_testing_set, Y_SVCLinear_predicted_set))\n",
    "\n",
    "# SVC linear ROC curve compute.\n",
    "Y_SVCLinear_predicted_set_prob = svcLinear.predict_proba(X_testing_set)[:, 1]\n",
    "X_SVCLinear_rate, Y_SVCLinear_rate, _ = roc_curve(Y_testing_set,\n",
    "                                                  Y_SVCLinear_predicted_set_prob)\n",
    "fig = plt.figure(figsize=(5., 5.))\n",
    "ax = fig.add_subplot(1, 1, 1)\n",
    "plt.plot(X_SVCLinear_rate, Y_SVCLinear_rate, color=\"blue\", linestyle=\"-\",\n",
    "         label=\"SVC linear ROC curve\")\n",
    "plt.xlabel('False positive rate')\n",
    "plt.ylabel('True positive rate')\n",
    "plt.legend(loc='best', ncol=2)\n",
    "plt.show()\n",
    "\n",
    "# SVC linear area under the ROC curve.\n",
    "print(\"SVC linear area under the ROC curve is\",\n",
    "      roc_auc_score(Y_testing_set, Y_SVCLinear_predicted_set_prob))"
   ],
   "metadata": {
    "collapsed": false,
    "pycharm": {
     "name": "#%%\n"
    }
   }
  },
  {
   "cell_type": "code",
   "execution_count": 70,
   "outputs": [
    {
     "name": "stdout",
     "output_type": "stream",
     "text": [
      "------- SVC polynomic -------\n",
      "SVC polynomic mean square error =  [0.]\n",
      "SVC polynomic Accuracy score:\n",
      "0.98\n",
      "SVC polynomic Precision score:\n",
      "0.9285714285714286\n",
      "SVC polynomic confusion matrix:\n",
      "[[72  0]\n",
      " [ 2 26]]\n"
     ]
    },
    {
     "data": {
      "text/plain": "<Figure size 360x360 with 1 Axes>",
      "image/png": "[encoded data removed]"
     },
     "metadata": {
      "needs_background": "light"
     },
     "output_type": "display_data"
    },
    {
     "name": "stdout",
     "output_type": "stream",
     "text": [
      "SVC polynomic area under the ROC curve is 0.9985119047619048\n"
     ]
    }
   ],
   "source": [
    "print(\"------- SVC polynomic -------\")\n",
    "svcPolynomic = SVC(kernel='poly', C=0.1, max_iter=500, probability=True)\n",
    "svcPolynomic.fit(X_training_set, Y_training_set)\n",
    "Y_SVCPolynomic_predicted_set = svcPolynomic.predict(X_testing_set)\n",
    "svcPolynomicMeanSquareError = meanSquareErrorFunction(Y_SVCPolynomic_predicted_set, Y_testing_set)\n",
    "print(\"SVC polynomic mean square error = \", svcPolynomicMeanSquareError)\n",
    "\n",
    "# SVC polynomic Accuracy score.\n",
    "svcPolynomicAccuracyScore = accuracy_score(pd.DataFrame(Y_SVCPolynomic_predicted_set), Y_testing_set)\n",
    "print(\"SVC polynomic Accuracy score:\")\n",
    "print(svcPolynomicAccuracyScore)\n",
    "\n",
    "svcPolynomicPrecisionScore = precision_score(pd.DataFrame(Y_SVCPolynomic_predicted_set), Y_testing_set)\n",
    "print(\"SVC polynomic Precision score:\")\n",
    "print(svcPolynomicPrecisionScore)\n",
    "\n",
    "# SVC polynomic confusion matrix.\n",
    "print(\"SVC polynomic confusion matrix:\")\n",
    "print(confusion_matrix(Y_testing_set, Y_SVCPolynomic_predicted_set))\n",
    "\n",
    "# SVC polynomic ROC curve compute.\n",
    "Y_SVCPolinomic_predicted_set_prob = svcPolynomic.predict_proba(X_testing_set)[:, 1]\n",
    "X_SVCPolynomic_rate, Y_SVCPolynomic_rate, _ = roc_curve(Y_testing_set,\n",
    "                                                        Y_SVCPolinomic_predicted_set_prob)\n",
    "fig = plt.figure(figsize=(5., 5.))\n",
    "ax = fig.add_subplot(1, 1, 1)\n",
    "plt.plot(X_SVCPolynomic_rate, Y_SVCPolynomic_rate, color=\"blue\", linestyle=\"-\",\n",
    "         label=\"SVC polynomic ROC curve\")\n",
    "plt.xlabel('False positive rate')\n",
    "plt.ylabel('True positive rate')\n",
    "plt.legend(loc='best', ncol=2)\n",
    "plt.show()\n",
    "\n",
    "# SVC polynomic area under the ROC curve.\n",
    "print(\"SVC polynomic area under the ROC curve is\",\n",
    "      roc_auc_score(Y_testing_set, Y_SVCPolinomic_predicted_set_prob))\n",
    "# ------------------------------------------------------------------------------------------------------"
   ],
   "metadata": {
    "collapsed": false,
    "pycharm": {
     "name": "#%%\n"
    }
   }
  },
  {
   "cell_type": "code",
   "execution_count": 71,
   "outputs": [
    {
     "name": "stdout",
     "output_type": "stream",
     "text": [
      "----------------------------- Decision Tree Classification -----------------------------\n",
      "Decision Tree Classifier (DTC) with entropy criterion mean square error =  [0.]\n",
      "DTC Binary tree Accuracy score:\n",
      "0.98\n",
      "DTC Binary tree Precision score:\n",
      "1.0\n",
      "DTC Binary tree confusion matrix: \n",
      "[[70  2]\n",
      " [ 0 28]]\n"
     ]
    },
    {
     "data": {
      "text/plain": "<Figure size 360x360 with 1 Axes>",
      "image/png": "[encoded data removed]"
     },
     "metadata": {
      "needs_background": "light"
     },
     "output_type": "display_data"
    },
    {
     "name": "stdout",
     "output_type": "stream",
     "text": [
      "DTC Binary tree area under the ROC curve is 0.986111111111111\n"
     ]
    }
   ],
   "source": [
    "# ---------------------------------- Decision Tree Classification ----------------------------------\n",
    "print(\"----------------------------- Decision Tree Classification -----------------------------\")\n",
    "# Decision tree classification procedure using the entropy function.\n",
    "decisionTreeClassifier = DecisionTreeClassifier(criterion='entropy')\n",
    "decisionTreeClassifier.fit(X_training_set, Y_training_set)\n",
    "Y_Decision_Tree_Classifier_predicted_set = decisionTreeClassifier.predict(X_testing_set)\n",
    "DecisionTreeClassifierMeanSquareError = meanSquareErrorFunction(Y_Decision_Tree_Classifier_predicted_set, Y_testing_set)\n",
    "print(\"Decision Tree Classifier (DTC) with entropy criterion mean square error = \",\n",
    "      DecisionTreeClassifierMeanSquareError)\n",
    "\n",
    "# Decision tree classification Accuracy score.\n",
    "decisionTreeClassifierAccuracyScore = accuracy_score(pd.DataFrame(Y_Decision_Tree_Classifier_predicted_set),\n",
    "                                                     Y_testing_set)\n",
    "print(\"DTC Binary tree Accuracy score:\")\n",
    "print(decisionTreeClassifierAccuracyScore)\n",
    "\n",
    "decisionTreeClassifierPrecisionScore = precision_score(pd.DataFrame(Y_Decision_Tree_Classifier_predicted_set),\n",
    "                                                       Y_testing_set)\n",
    "print(\"DTC Binary tree Precision score:\")\n",
    "print(decisionTreeClassifierPrecisionScore)\n",
    "\n",
    "# Decision tree classifier confusion matrix.\n",
    "print(\"DTC Binary tree confusion matrix: \")\n",
    "print(confusion_matrix(Y_testing_set, Y_Decision_Tree_Classifier_predicted_set))\n",
    "\n",
    "# Decision tree classifier ROC curve compute.\n",
    "Y_DecisionTreeClassifier_predicted_set_prob = decisionTreeClassifier.predict_proba(X_testing_set)[:, 1]\n",
    "X_DecisionTreeClassifier_rate, Y_DecisionTreeClassifier_rate, _ = roc_curve(Y_testing_set,\n",
    "                                                                            Y_DecisionTreeClassifier_predicted_set_prob)\n",
    "fig = plt.figure(figsize=(5., 5.))\n",
    "ax = fig.add_subplot(1, 1, 1)\n",
    "plt.plot(X_DecisionTreeClassifier_rate, Y_DecisionTreeClassifier_rate, color=\"blue\", linestyle=\"-\",\n",
    "         label=\"DTC Binary tree ROC curve\")\n",
    "plt.xlabel('False positive rate')\n",
    "plt.ylabel('True positive rate')\n",
    "plt.legend(loc='best', ncol=2)\n",
    "plt.show()\n",
    "\n",
    "# Decision tree classifier area under the ROC curve.\n",
    "print(\"DTC Binary tree area under the ROC curve is\",\n",
    "      roc_auc_score(Y_testing_set, Y_DecisionTreeClassifier_predicted_set_prob))\n",
    "# ------------------------------------------------------------------------------------------------------"
   ],
   "metadata": {
    "collapsed": false,
    "pycharm": {
     "name": "#%%\n"
    }
   }
  },
  {
   "cell_type": "code",
   "execution_count": 72,
   "outputs": [
    {
     "name": "stdout",
     "output_type": "stream",
     "text": [
      "----------------------------- Binary trees with simplified bagging (BTSB) -----------------------------\n",
      "Binary trees with simplified bagging (BTSB) mean square error =  [0.]\n"
     ]
    }
   ],
   "source": [
    "# ---------------------------------- Binary trees with simplified bagging (BTSB) ----------------------------------\n",
    "print(\"----------------------------- Binary trees with simplified bagging (BTSB) -----------------------------\")\n",
    "# Number of points.\n",
    "points_number = 200\n",
    "\n",
    "# Bagging definition.\n",
    "n_estimators = 10\n",
    "bag = np.empty((n_estimators), dtype=object)  # Empty array.\n",
    "\n",
    "# Bootstraping (note that sampling is made on the training data)\n",
    "for i in range(n_estimators):\n",
    "    randomIndex = np.random.choice(range(0, len(X_training_set)), size=int(len(X_training_set)),\n",
    "                                   replace=True)  # Array with random values got from X_training_set array with range(0,len(X_training_set)).\n",
    "    np.unique(randomIndex)  # Function unique returns non repeated values ordered.\n",
    "    X_bootstrap_training_set = X_training_set[\n",
    "        np.unique(randomIndex)]  # Rows (vectors) are selected from X_training_set given by randomIndex.\n",
    "    Y_bootstrap_training_set = Y_training_set[\n",
    "        np.unique(\n",
    "            randomIndex)]  # Rows (vectors) are selected from Y_training_set given by randomIndex.\n",
    "    bag[i] = DecisionTreeRegressor(random_state=1)\n",
    "    bag[i].fit(X_bootstrap_training_set, Y_bootstrap_training_set)\n",
    "\n",
    "# Bagging prediction (given each sample adjustment the forecast is made on the data testing set).\n",
    "Y_BTSB_predicted_set = np.zeros(len(Y_testing_set))\n",
    "# Y_BTSB_predicted_set_prob = np.zeros(len(Y_testing_set))\n",
    "for i in range(n_estimators):\n",
    "    Y_BTSB_predicted_set = Y_BTSB_predicted_set + bag[i].predict(X_testing_set)\n",
    "    # Y_BTSB_predicted_set_prob = Y_BTSB_predicted_set_prob + bag[i]._._predict_proba(X_testing_set)[:, 1]\n",
    "Y_BTSB_predicted_set = Y_BTSB_predicted_set / n_estimators\n",
    "BTSBMeanSquareError = meanSquareErrorFunction(Y_BTSB_predicted_set, Y_testing_set)\n",
    "print(\"Binary trees with simplified bagging (BTSB) mean square error = \", BTSBMeanSquareError)\n",
    "\n",
    "# Binary trees with simplified bagging (BTSB) Accuracy score.\n",
    "# BTSBAccuracyScore = accuracy_score(pd.DataFrame(Y_BTSB_predicted_set),\n",
    "#                                    Y_testing_set)\n",
    "# print(\"Binary trees with simplified bagging (BTSB) Accuracy score:\")\n",
    "# print(BTSBAccuracyScore)\n",
    "\n",
    "# Binary trees with simplified bagging (BTSB) confusion matrix.\n",
    "# print(\"Binary trees with simplified bagging (BTSB) confusion matrix: \")\n",
    "# print(confusion_matrix(Y_testing_set, Y_BTSB_predicted_set))\n",
    "\n",
    "# Binary trees with simplified bagging (BTSB) ROC curve compute.\n",
    "# X_BTSB_rate, Y_BTSB_rate, _ = roc_curve(Y_testing_set, Y_BTSB_predicted_set_prob)\n",
    "# fig = plt.figure(figsize=(5., 5.))\n",
    "# ax = fig.add_subplot(1, 1, 1)\n",
    "# plt.plot(X_BTSB_rate, Y_BTSB_rate, color=\"blue\", linestyle=\"-\",\n",
    "#          label=\"Binary trees with simplified bagging (BTSB) ROC curve\")\n",
    "# plt.xlabel('False positive rate')\n",
    "# plt.ylabel('True positive rate')\n",
    "# plt.legend(loc='best', ncol=2)\n",
    "# plt.show()\n",
    "\n",
    "# Decision tree classifier area under the ROC curve.\n",
    "# print(\"Binary trees with simplified bagging (BTSB) area under the ROC curve is\",\n",
    "#       roc_auc_score(Y_testing_set, Y_BTSB_predicted_set_prob))\n",
    "# ------------------------------------------------------------------------------------------------------"
   ],
   "metadata": {
    "collapsed": false,
    "pycharm": {
     "name": "#%%\n"
    }
   }
  },
  {
   "cell_type": "code",
   "execution_count": 73,
   "outputs": [
    {
     "name": "stdout",
     "output_type": "stream",
     "text": [
      "----------------------------- Random Forest -----------------------------\n",
      "Random forest mean square error =  [0.]\n"
     ]
    }
   ],
   "source": [
    "# ---------------------------------- Random Forest ----------------------------------\n",
    "print(\"----------------------------- Random Forest -----------------------------\")\n",
    "# Random Forest.\n",
    "randomForestRegressor = RandomForestRegressor(n_estimators=10, max_features=1, random_state=1)\n",
    "randomForestRegressor.fit(X_training_set, Y_training_set)\n",
    "Y_Random_Forest_predicted_set = randomForestRegressor.predict(X_testing_set)\n",
    "randomForestMeanSquareError = meanSquareErrorFunction(Y_Random_Forest_predicted_set, Y_testing_set)\n",
    "print(\"Random forest mean square error = \",\n",
    "      randomForestMeanSquareError)\n",
    "\n",
    "# Random forest Accuracy score.\n",
    "# randomForestAccuracyScore = accuracy_score(pd.DataFrame(Y_Random_Forest_predicted_set),\n",
    "#                                            Y_testing_set)\n",
    "# print(\"Random forest Accuracy score:\")\n",
    "# print(randomForestAccuracyScore)\n",
    "\n",
    "# Random forest confusion matrix.\n",
    "# print(\"Random forest confusion matrix: \")\n",
    "# print(confusion_matrix(Y_testing_set, Y_Random_Forest_predicted_set))\n",
    "\n",
    "# Random forest ROC curve compute.\n",
    "# Y_RandomForest_predicted_set_prob = randomForestRegressor.predict_proba(X_testing_set)[:, 1]\n",
    "# X_RandomForest_rate, Y_RandomForest_rate, _ = roc_curve(Y_testing_set,\n",
    "#                                                         Y_RandomForest_predicted_set_prob)\n",
    "# fig = plt.figure(figsize=(5., 5.))\n",
    "# ax = fig.add_subplot(1, 1, 1)\n",
    "# plt.plot(X_RandomForest_rate, Y_RandomForest_rate, color=\"blue\", linestyle=\"-\",\n",
    "#          label=\"Random forest ROC curve\")\n",
    "# plt.xlabel('False positive rate')\n",
    "# plt.ylabel('True positive rate')\n",
    "# plt.legend(loc='best', ncol=2)\n",
    "# plt.show()\n",
    "\n",
    "# Random forest area under the ROC curve.\n",
    "# print(\"Random forest area under the ROC curve is\",\n",
    "#       roc_auc_score(Y_testing_set, Y_RandomForest_predicted_set_prob))\n",
    "# ------------------------------------------------------------------------------------------------------"
   ],
   "metadata": {
    "collapsed": false,
    "pycharm": {
     "name": "#%%\n"
    }
   }
  },
  {
   "cell_type": "code",
   "execution_count": 74,
   "outputs": [
    {
     "name": "stdout",
     "output_type": "stream",
     "text": [
      "----------------------------- Neural network -----------------------------\n",
      "Neural Network with tanh activation function mean square error =  [0.]\n",
      "Neural network Accuracy score:\n",
      "1.0\n",
      "Neural network Precision score:\n",
      "1.0\n",
      "Neural network confusion matrix: \n",
      "[[72  0]\n",
      " [ 0 28]]\n"
     ]
    },
    {
     "data": {
      "text/plain": "<Figure size 360x360 with 1 Axes>",
      "image/png": "[encoded data removed]"
     },
     "metadata": {
      "needs_background": "light"
     },
     "output_type": "display_data"
    },
    {
     "name": "stdout",
     "output_type": "stream",
     "text": [
      "Neural network area under the ROC curve is 1.0\n"
     ]
    }
   ],
   "source": [
    "# ---------------------------------- Neural network ----------------------------------\n",
    "print(\"----------------------------- Neural network -----------------------------\")\n",
    "# Neural network with \"tanh\" activation function.\n",
    "neuralNetworkModelTanh = MLPClassifier(activation='tanh', alpha=0.001, solver='lbfgs',\n",
    "                                       hidden_layer_sizes=(4, 1), max_iter=10000)\n",
    "neuralNetworkModelTanh.fit(X_training_set, Y_training_set)\n",
    "Y_Neural_Network_predicted_set = neuralNetworkModelTanh.predict(X_testing_set)\n",
    "neuralNetworkMeanSquareError = meanSquareErrorFunction(Y_Neural_Network_predicted_set, Y_testing_set)\n",
    "print(\"Neural Network with tanh activation function mean square error = \",\n",
    "      neuralNetworkMeanSquareError)\n",
    "\n",
    "# Neural network Accuracy score.\n",
    "neuralNetworkAccuracyScore = accuracy_score(pd.DataFrame(Y_Neural_Network_predicted_set),\n",
    "                                            Y_testing_set)\n",
    "print(\"Neural network Accuracy score:\")\n",
    "print(neuralNetworkAccuracyScore)\n",
    "\n",
    "# Neural network Precision score.\n",
    "neuralNetworkPrecisionScore = precision_score(pd.DataFrame(Y_Neural_Network_predicted_set),\n",
    "                                              Y_testing_set)\n",
    "print(\"Neural network Precision score:\")\n",
    "print(neuralNetworkPrecisionScore)\n",
    "\n",
    "# Neural network confusion matrix.\n",
    "print(\"Neural network confusion matrix: \")\n",
    "print(confusion_matrix(Y_testing_set, Y_Neural_Network_predicted_set))\n",
    "\n",
    "# Neural network ROC curve compute.\n",
    "Y_NeuralNetwork_predicted_set_prob = neuralNetworkModelTanh.predict_proba(X_testing_set)[:, 1]\n",
    "X_NeuralNetwork_rate, Y_NeuralNetwork_rate, _ = roc_curve(Y_testing_set,\n",
    "                                                          Y_NeuralNetwork_predicted_set_prob)\n",
    "fig = plt.figure(figsize=(5., 5.))\n",
    "ax = fig.add_subplot(1, 1, 1)\n",
    "plt.plot(X_NeuralNetwork_rate, Y_NeuralNetwork_rate, color=\"blue\", linestyle=\"-\",\n",
    "         label=\"Neural network ROC curve\")\n",
    "plt.xlabel('False positive rate')\n",
    "plt.ylabel('True positive rate')\n",
    "plt.legend(loc='best', ncol=2)\n",
    "plt.show()\n",
    "\n",
    "# Neural network area under the ROC curve.\n",
    "print(\"Neural network area under the ROC curve is\",\n",
    "      roc_auc_score(Y_testing_set, Y_NeuralNetwork_predicted_set_prob))\n",
    "# ------------------------------------------------------------------------------------------------------"
   ],
   "metadata": {
    "collapsed": false,
    "pycharm": {
     "name": "#%%\n"
    }
   }
  },
  {
   "cell_type": "code",
   "execution_count": 75,
   "outputs": [],
   "source": [
    "# Conclusion.\n",
    "# Although it was not possible to perform the requested metrics on the algorithms: \"Random forest\" and \"Binary trees\n",
    "# with simplified bagging\", in order to determine their performance, it is observed that\n",
    "# the \"Neural Networks\" algorithm outperforms in all performance metrics."
   ],
   "metadata": {
    "collapsed": false,
    "pycharm": {
     "name": "#%%\n"
    }
   }
  }
 ],
 "metadata": {
  "kernelspec": {
   "display_name": "Python 3",
   "language": "python",
   "name": "python3"
  },
  "language_info": {
   "codemirror_mode": {
    "name": "ipython",
    "version": 2
   },
   "file_extension": ".py",
   "mimetype": "text/x-python",
   "name": "python",
   "nbconvert_exporter": "python",
   "pygments_lexer": "ipython2",
   "version": "2.7.6"
  }
 },
 "nbformat": 4,
 "nbformat_minor": 0
}