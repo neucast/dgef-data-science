{
 "cells": [
  {
   "cell_type": "markdown",
   "metadata": {},
   "source": [
    "# Curva ROC"
   ]
  },
  {
   "cell_type": "code",
   "execution_count": 1,
   "metadata": {},
   "outputs": [],
   "source": [
    "import numpy as np\n",
    "import pandas as pd\n",
    "import matplotlib.pyplot as plt\n",
    "import scipy.stats as stats\n",
    "from math import exp, log\n",
    "pd.set_option('display.max_columns',None)\n",
    "pd.set_option('display.max_rows',None)\n",
    "import warnings\n",
    "warnings.filterwarnings('ignore')\n",
    "#Carga de paquetería para ciencia de datos\n",
    "from sklearn.datasets import make_classification\n",
    "from sklearn.linear_model import LogisticRegression\n",
    "from sklearn.model_selection import train_test_split\n",
    "from sklearn.metrics import roc_curve\n",
    "from sklearn.metrics import roc_auc_score"
   ]
  },
  {
   "cell_type": "code",
   "execution_count": 2,
   "metadata": {},
   "outputs": [],
   "source": [
    "#Definición de vectores de prueba\n",
    "y_verd = [0,1,0,0,1,1,0,1,1,0]\n",
    "y_prob = [0.22788576,0.74417354,0.0942964,0.26138511,0.79943,0.72501024,0.25000763,0.82837856,0.86182719,0.20760795]"
   ]
  },
  {
   "cell_type": "code",
   "execution_count": 3,
   "metadata": {},
   "outputs": [
    {
     "name": "stdout",
     "output_type": "stream",
     "text": [
      "[0.22788576, 0.0942964, 0.26138511, 0.25000763, 0.20760795]\n",
      "[0.74417354, 0.79943, 0.72501024, 0.82837856, 0.86182719]\n"
     ]
    }
   ],
   "source": [
    "#Funciones auxiliares (Parte 1)\n",
    "def FunClasificacion(yVerd,yProb):\n",
    "    y_0, y_1 = [], []\n",
    "    for i in range(len(yVerd)):\n",
    "        if yVerd[i] == 0:\n",
    "            y_0.extend([yProb[i]])\n",
    "        elif yVerd[i] == 1:\n",
    "             y_1.extend([yProb[i]])\n",
    "    return [y_0,y_1]\n",
    "#Ejemplo\n",
    "[y_0,y_1] = FunClasificacion(y_verd,y_prob)\n",
    "print(y_0)\n",
    "print(y_1)"
   ]
  },
  {
   "cell_type": "code",
   "execution_count": 4,
   "metadata": {},
   "outputs": [
    {
     "name": "stdout",
     "output_type": "stream",
     "text": [
      "[1.0, 0.8, 0.6, 0.4, 0.2, 0.0, 0.0, 0.0, 0.0, 0.0]\n",
      "[1.0, 1.0, 1.0, 1.0, 1.0, 1.0, 0.8, 0.6, 0.4, 0.2]\n"
     ]
    }
   ],
   "source": [
    "#Funciones auxiliares (Parte 2)\n",
    "def FunDist(yProb_,y0,y1):\n",
    "    yProb = yProb_.copy()\n",
    "    yProb.sort()\n",
    "    n, n0, n1 = len(yProb), len(y0), len(y1)\n",
    "    vdist_0, vdist_1 = [], []\n",
    "    for i in range(n):\n",
    "        #Cálculo de la distribución para el caso Etiqueta 0\n",
    "        cont_0 = 0\n",
    "        for j in range(n0):\n",
    "            if y0[j] >= yProb[i]:\n",
    "                cont_0 = cont_0 + 1\n",
    "        vdist_0.extend([cont_0/n0])\n",
    "        #Cálculo de la distribución para el caso Etiqueta 1\n",
    "        cont_1 = 0\n",
    "        for j in range(n1):\n",
    "            if y1[j] >= yProb[i]:\n",
    "                cont_1 = cont_1 + 1\n",
    "        vdist_1.extend([cont_1/n1])\n",
    "    return [vdist_0,vdist_1]\n",
    "#Ejemplo\n",
    "[vdist_0,vdist_1] = FunDist(y_prob,y_0,y_1)\n",
    "print(vdist_0)\n",
    "print(vdist_1)"
   ]
  },
  {
   "cell_type": "markdown",
   "metadata": {},
   "source": [
    "# Ejemplo 1. Clasificación totalmente correcta"
   ]
  },
  {
   "cell_type": "code",
   "execution_count": 5,
   "metadata": {},
   "outputs": [
    {
     "data": {
      "text/html": [
       "<div>\n",
       "<style scoped>\n",
       "    .dataframe tbody tr th:only-of-type {\n",
       "        vertical-align: middle;\n",
       "    }\n",
       "\n",
       "    .dataframe tbody tr th {\n",
       "        vertical-align: top;\n",
       "    }\n",
       "\n",
       "    .dataframe thead th {\n",
       "        text-align: right;\n",
       "    }\n",
       "</style>\n",
       "<table border=\"1\" class=\"dataframe\">\n",
       "  <thead>\n",
       "    <tr style=\"text-align: right;\">\n",
       "      <th></th>\n",
       "      <th>Clasificacion_Verdadera</th>\n",
       "      <th>Probabilidad_Asignacion</th>\n",
       "    </tr>\n",
       "  </thead>\n",
       "  <tbody>\n",
       "    <tr>\n",
       "      <th>0</th>\n",
       "      <td>0</td>\n",
       "      <td>0.227886</td>\n",
       "    </tr>\n",
       "    <tr>\n",
       "      <th>1</th>\n",
       "      <td>1</td>\n",
       "      <td>0.744174</td>\n",
       "    </tr>\n",
       "    <tr>\n",
       "      <th>2</th>\n",
       "      <td>0</td>\n",
       "      <td>0.094296</td>\n",
       "    </tr>\n",
       "    <tr>\n",
       "      <th>3</th>\n",
       "      <td>0</td>\n",
       "      <td>0.261385</td>\n",
       "    </tr>\n",
       "    <tr>\n",
       "      <th>4</th>\n",
       "      <td>1</td>\n",
       "      <td>0.799430</td>\n",
       "    </tr>\n",
       "    <tr>\n",
       "      <th>5</th>\n",
       "      <td>1</td>\n",
       "      <td>0.725010</td>\n",
       "    </tr>\n",
       "    <tr>\n",
       "      <th>6</th>\n",
       "      <td>0</td>\n",
       "      <td>0.250008</td>\n",
       "    </tr>\n",
       "    <tr>\n",
       "      <th>7</th>\n",
       "      <td>1</td>\n",
       "      <td>0.828379</td>\n",
       "    </tr>\n",
       "    <tr>\n",
       "      <th>8</th>\n",
       "      <td>1</td>\n",
       "      <td>0.861827</td>\n",
       "    </tr>\n",
       "    <tr>\n",
       "      <th>9</th>\n",
       "      <td>0</td>\n",
       "      <td>0.207608</td>\n",
       "    </tr>\n",
       "  </tbody>\n",
       "</table>\n",
       "</div>"
      ],
      "text/plain": [
       "   Clasificacion_Verdadera  Probabilidad_Asignacion\n",
       "0                        0                 0.227886\n",
       "1                        1                 0.744174\n",
       "2                        0                 0.094296\n",
       "3                        0                 0.261385\n",
       "4                        1                 0.799430\n",
       "5                        1                 0.725010\n",
       "6                        0                 0.250008\n",
       "7                        1                 0.828379\n",
       "8                        1                 0.861827\n",
       "9                        0                 0.207608"
      ]
     },
     "execution_count": 5,
     "metadata": {},
     "output_type": "execute_result"
    }
   ],
   "source": [
    "y_verd = [0,1,0,0,1,1,0,1,1,0]\n",
    "y_prob = [0.22788576,0.74417354,0.0942964,0.26138511,0.79943,0.72501024,0.25000763,0.82837856,0.86182719,0.20760795]\n",
    "M = pd.DataFrame(index=range(len(y_verd)),columns=[\"Clasificacion_Verdadera\",\"Probabilidad_Asignacion\"])\n",
    "M[\"Clasificacion_Verdadera\"], M[\"Probabilidad_Asignacion\"] = y_verd, y_prob\n",
    "M"
   ]
  },
  {
   "cell_type": "code",
   "execution_count": 6,
   "metadata": {},
   "outputs": [
    {
     "data": {
      "image/png": "[encoded data removed]",
      "text/plain": [
       "<Figure size 432x288 with 1 Axes>"
      ]
     },
     "metadata": {
      "needs_background": "light"
     },
     "output_type": "display_data"
    }
   ],
   "source": [
    "#Curva ROC\n",
    "[y_0,y_1] = FunClasificacion(y_verd,y_prob)\n",
    "[vdist_0,vdist_1] = FunDist(y_prob,y_0,y_1)\n",
    "#Gráfica\n",
    "plt.plot(vdist_0, vdist_1, color=\"red\", linestyle= \"-\")\n",
    "plt.xlabel('Tasa de Falsos Positivos')\n",
    "plt.ylabel('Tasa de Verdaderos Positivos')\n",
    "plt.show()"
   ]
  },
  {
   "cell_type": "markdown",
   "metadata": {},
   "source": [
    "# Ejemplo 2. Clasificación con pocos errores"
   ]
  },
  {
   "cell_type": "code",
   "execution_count": 7,
   "metadata": {},
   "outputs": [
    {
     "data": {
      "text/html": [
       "<div>\n",
       "<style scoped>\n",
       "    .dataframe tbody tr th:only-of-type {\n",
       "        vertical-align: middle;\n",
       "    }\n",
       "\n",
       "    .dataframe tbody tr th {\n",
       "        vertical-align: top;\n",
       "    }\n",
       "\n",
       "    .dataframe thead th {\n",
       "        text-align: right;\n",
       "    }\n",
       "</style>\n",
       "<table border=\"1\" class=\"dataframe\">\n",
       "  <thead>\n",
       "    <tr style=\"text-align: right;\">\n",
       "      <th></th>\n",
       "      <th>Clasificacion_Verdadera</th>\n",
       "      <th>Probabilidad_Asignacion</th>\n",
       "    </tr>\n",
       "  </thead>\n",
       "  <tbody>\n",
       "    <tr>\n",
       "      <th>0</th>\n",
       "      <td>0</td>\n",
       "      <td>0.600000</td>\n",
       "    </tr>\n",
       "    <tr>\n",
       "      <th>1</th>\n",
       "      <td>1</td>\n",
       "      <td>0.744174</td>\n",
       "    </tr>\n",
       "    <tr>\n",
       "      <th>2</th>\n",
       "      <td>0</td>\n",
       "      <td>0.094296</td>\n",
       "    </tr>\n",
       "    <tr>\n",
       "      <th>3</th>\n",
       "      <td>0</td>\n",
       "      <td>0.261385</td>\n",
       "    </tr>\n",
       "    <tr>\n",
       "      <th>4</th>\n",
       "      <td>1</td>\n",
       "      <td>0.100000</td>\n",
       "    </tr>\n",
       "    <tr>\n",
       "      <th>5</th>\n",
       "      <td>1</td>\n",
       "      <td>0.725010</td>\n",
       "    </tr>\n",
       "    <tr>\n",
       "      <th>6</th>\n",
       "      <td>0</td>\n",
       "      <td>0.250008</td>\n",
       "    </tr>\n",
       "    <tr>\n",
       "      <th>7</th>\n",
       "      <td>1</td>\n",
       "      <td>0.828379</td>\n",
       "    </tr>\n",
       "    <tr>\n",
       "      <th>8</th>\n",
       "      <td>1</td>\n",
       "      <td>0.861827</td>\n",
       "    </tr>\n",
       "    <tr>\n",
       "      <th>9</th>\n",
       "      <td>0</td>\n",
       "      <td>0.207608</td>\n",
       "    </tr>\n",
       "  </tbody>\n",
       "</table>\n",
       "</div>"
      ],
      "text/plain": [
       "   Clasificacion_Verdadera  Probabilidad_Asignacion\n",
       "0                        0                 0.600000\n",
       "1                        1                 0.744174\n",
       "2                        0                 0.094296\n",
       "3                        0                 0.261385\n",
       "4                        1                 0.100000\n",
       "5                        1                 0.725010\n",
       "6                        0                 0.250008\n",
       "7                        1                 0.828379\n",
       "8                        1                 0.861827\n",
       "9                        0                 0.207608"
      ]
     },
     "execution_count": 7,
     "metadata": {},
     "output_type": "execute_result"
    }
   ],
   "source": [
    "y_verd = [0,1,0,0,1,1,0,1,1,0]\n",
    "y_prob = [0.6,0.74417354,0.0942964,0.26138511,0.1,0.72501024,0.25000763,0.82837856,0.86182719,0.20760795]\n",
    "M = pd.DataFrame(index=range(len(y_verd)),columns=[\"Clasificacion_Verdadera\",\"Probabilidad_Asignacion\"])\n",
    "M[\"Clasificacion_Verdadera\"], M[\"Probabilidad_Asignacion\"] = y_verd, y_prob\n",
    "M"
   ]
  },
  {
   "cell_type": "code",
   "execution_count": 8,
   "metadata": {},
   "outputs": [
    {
     "data": {
      "image/png": "[encoded data removed]",
      "text/plain": [
       "<Figure size 432x288 with 1 Axes>"
      ]
     },
     "metadata": {
      "needs_background": "light"
     },
     "output_type": "display_data"
    }
   ],
   "source": [
    "#Curva ROC\n",
    "[y_0,y_1] = FunClasificacion(y_verd,y_prob)\n",
    "[vdist_0,vdist_1] = FunDist(y_prob,y_0,y_1)\n",
    "#Gráfica\n",
    "plt.plot(vdist_0, vdist_1, color=\"red\", linestyle= \"-\")\n",
    "plt.xlabel('Tasa de Falsos Positivos')\n",
    "plt.ylabel('Tasa de Verdaderos Positivos')\n",
    "plt.show()"
   ]
  },
  {
   "cell_type": "markdown",
   "metadata": {},
   "source": [
    "# Ejemplo 3. Clasificación con muchos errores"
   ]
  },
  {
   "cell_type": "code",
   "execution_count": 9,
   "metadata": {},
   "outputs": [
    {
     "data": {
      "text/html": [
       "<div>\n",
       "<style scoped>\n",
       "    .dataframe tbody tr th:only-of-type {\n",
       "        vertical-align: middle;\n",
       "    }\n",
       "\n",
       "    .dataframe tbody tr th {\n",
       "        vertical-align: top;\n",
       "    }\n",
       "\n",
       "    .dataframe thead th {\n",
       "        text-align: right;\n",
       "    }\n",
       "</style>\n",
       "<table border=\"1\" class=\"dataframe\">\n",
       "  <thead>\n",
       "    <tr style=\"text-align: right;\">\n",
       "      <th></th>\n",
       "      <th>Clasificacion_Verdadera</th>\n",
       "      <th>Probabilidad_Asignacion</th>\n",
       "    </tr>\n",
       "  </thead>\n",
       "  <tbody>\n",
       "    <tr>\n",
       "      <th>0</th>\n",
       "      <td>0</td>\n",
       "      <td>0.10</td>\n",
       "    </tr>\n",
       "    <tr>\n",
       "      <th>1</th>\n",
       "      <td>1</td>\n",
       "      <td>0.15</td>\n",
       "    </tr>\n",
       "    <tr>\n",
       "      <th>2</th>\n",
       "      <td>0</td>\n",
       "      <td>0.20</td>\n",
       "    </tr>\n",
       "    <tr>\n",
       "      <th>3</th>\n",
       "      <td>0</td>\n",
       "      <td>0.25</td>\n",
       "    </tr>\n",
       "    <tr>\n",
       "      <th>4</th>\n",
       "      <td>1</td>\n",
       "      <td>0.30</td>\n",
       "    </tr>\n",
       "    <tr>\n",
       "      <th>5</th>\n",
       "      <td>1</td>\n",
       "      <td>0.35</td>\n",
       "    </tr>\n",
       "    <tr>\n",
       "      <th>6</th>\n",
       "      <td>0</td>\n",
       "      <td>0.40</td>\n",
       "    </tr>\n",
       "    <tr>\n",
       "      <th>7</th>\n",
       "      <td>1</td>\n",
       "      <td>0.45</td>\n",
       "    </tr>\n",
       "    <tr>\n",
       "      <th>8</th>\n",
       "      <td>1</td>\n",
       "      <td>0.46</td>\n",
       "    </tr>\n",
       "    <tr>\n",
       "      <th>9</th>\n",
       "      <td>0</td>\n",
       "      <td>0.47</td>\n",
       "    </tr>\n",
       "  </tbody>\n",
       "</table>\n",
       "</div>"
      ],
      "text/plain": [
       "   Clasificacion_Verdadera  Probabilidad_Asignacion\n",
       "0                        0                     0.10\n",
       "1                        1                     0.15\n",
       "2                        0                     0.20\n",
       "3                        0                     0.25\n",
       "4                        1                     0.30\n",
       "5                        1                     0.35\n",
       "6                        0                     0.40\n",
       "7                        1                     0.45\n",
       "8                        1                     0.46\n",
       "9                        0                     0.47"
      ]
     },
     "execution_count": 9,
     "metadata": {},
     "output_type": "execute_result"
    }
   ],
   "source": [
    "y_verd = [0,1,0,0,1,1,0,1,1,0]\n",
    "y_prob = [0.1,0.15,0.2,0.25,0.3,0.35,0.4,0.45,0.46,0.47]\n",
    "M = pd.DataFrame(index=range(len(y_verd)),columns=[\"Clasificacion_Verdadera\",\"Probabilidad_Asignacion\"])\n",
    "M[\"Clasificacion_Verdadera\"], M[\"Probabilidad_Asignacion\"] = y_verd, y_prob\n",
    "M"
   ]
  },
  {
   "cell_type": "code",
   "execution_count": 10,
   "metadata": {},
   "outputs": [
    {
     "data": {
      "image/png": "[encoded data removed]",
      "text/plain": [
       "<Figure size 432x288 with 1 Axes>"
      ]
     },
     "metadata": {
      "needs_background": "light"
     },
     "output_type": "display_data"
    }
   ],
   "source": [
    "#Curva ROC\n",
    "[y_0,y_1] = FunClasificacion(y_verd,y_prob)\n",
    "[vdist_0,vdist_1] = FunDist(y_prob,y_0,y_1)\n",
    "#Gráfica\n",
    "plt.plot(vdist_0, vdist_1, color=\"red\", linestyle= \"-\")\n",
    "plt.xlabel('Tasa de Falsos Positivos')\n",
    "plt.ylabel('Tasa de Verdaderos Positivos')\n",
    "plt.show()"
   ]
  },
  {
   "cell_type": "markdown",
   "metadata": {},
   "source": [
    "# Clasificación totalmente incorrecta"
   ]
  },
  {
   "cell_type": "code",
   "execution_count": 11,
   "metadata": {},
   "outputs": [
    {
     "data": {
      "text/html": [
       "<div>\n",
       "<style scoped>\n",
       "    .dataframe tbody tr th:only-of-type {\n",
       "        vertical-align: middle;\n",
       "    }\n",
       "\n",
       "    .dataframe tbody tr th {\n",
       "        vertical-align: top;\n",
       "    }\n",
       "\n",
       "    .dataframe thead th {\n",
       "        text-align: right;\n",
       "    }\n",
       "</style>\n",
       "<table border=\"1\" class=\"dataframe\">\n",
       "  <thead>\n",
       "    <tr style=\"text-align: right;\">\n",
       "      <th></th>\n",
       "      <th>Clasificacion_Verdadera</th>\n",
       "      <th>Probabilidad_Asignacion</th>\n",
       "    </tr>\n",
       "  </thead>\n",
       "  <tbody>\n",
       "    <tr>\n",
       "      <th>0</th>\n",
       "      <td>0</td>\n",
       "      <td>0.60</td>\n",
       "    </tr>\n",
       "    <tr>\n",
       "      <th>1</th>\n",
       "      <td>1</td>\n",
       "      <td>0.40</td>\n",
       "    </tr>\n",
       "    <tr>\n",
       "      <th>2</th>\n",
       "      <td>0</td>\n",
       "      <td>0.70</td>\n",
       "    </tr>\n",
       "    <tr>\n",
       "      <th>3</th>\n",
       "      <td>0</td>\n",
       "      <td>0.80</td>\n",
       "    </tr>\n",
       "    <tr>\n",
       "      <th>4</th>\n",
       "      <td>1</td>\n",
       "      <td>0.10</td>\n",
       "    </tr>\n",
       "    <tr>\n",
       "      <th>5</th>\n",
       "      <td>1</td>\n",
       "      <td>0.30</td>\n",
       "    </tr>\n",
       "    <tr>\n",
       "      <th>6</th>\n",
       "      <td>0</td>\n",
       "      <td>0.90</td>\n",
       "    </tr>\n",
       "    <tr>\n",
       "      <th>7</th>\n",
       "      <td>1</td>\n",
       "      <td>0.20</td>\n",
       "    </tr>\n",
       "    <tr>\n",
       "      <th>8</th>\n",
       "      <td>1</td>\n",
       "      <td>0.25</td>\n",
       "    </tr>\n",
       "    <tr>\n",
       "      <th>9</th>\n",
       "      <td>0</td>\n",
       "      <td>0.95</td>\n",
       "    </tr>\n",
       "  </tbody>\n",
       "</table>\n",
       "</div>"
      ],
      "text/plain": [
       "   Clasificacion_Verdadera  Probabilidad_Asignacion\n",
       "0                        0                     0.60\n",
       "1                        1                     0.40\n",
       "2                        0                     0.70\n",
       "3                        0                     0.80\n",
       "4                        1                     0.10\n",
       "5                        1                     0.30\n",
       "6                        0                     0.90\n",
       "7                        1                     0.20\n",
       "8                        1                     0.25\n",
       "9                        0                     0.95"
      ]
     },
     "execution_count": 11,
     "metadata": {},
     "output_type": "execute_result"
    }
   ],
   "source": [
    "y_verd = [0,1,0,0,1,1,0,1,1,0]\n",
    "y_prob = [0.6,0.4,0.7,0.8,0.1,0.3,0.9,0.2,0.25,0.95]\n",
    "M = pd.DataFrame(index=range(len(y_verd)),columns=[\"Clasificacion_Verdadera\",\"Probabilidad_Asignacion\"])\n",
    "M[\"Clasificacion_Verdadera\"], M[\"Probabilidad_Asignacion\"] = y_verd, y_prob\n",
    "M"
   ]
  },
  {
   "cell_type": "code",
   "execution_count": 12,
   "metadata": {},
   "outputs": [
    {
     "data": {
      "image/png": "[encoded data removed]",
      "text/plain": [
       "<Figure size 432x288 with 1 Axes>"
      ]
     },
     "metadata": {
      "needs_background": "light"
     },
     "output_type": "display_data"
    }
   ],
   "source": [
    "#Curva ROC\n",
    "[y_0,y_1] = FunClasificacion(y_verd,y_prob)\n",
    "[vdist_0,vdist_1] = FunDist(y_prob,y_0,y_1)\n",
    "#Gráfica\n",
    "plt.plot(vdist_0, vdist_1, color=\"red\", linestyle= \"-\")\n",
    "plt.xlabel('Tasa de Falsos Positivos')\n",
    "plt.ylabel('Tasa de Verdaderos Positivos')\n",
    "plt.show()"
   ]
  },
  {
   "cell_type": "markdown",
   "metadata": {},
   "source": [
    "# Comparativo entre la curva ROC proporcionada por Python y la calculada internamente"
   ]
  },
  {
   "cell_type": "code",
   "execution_count": 13,
   "metadata": {},
   "outputs": [],
   "source": [
    "#Cálculo interno (datos del Ejemplo 2)\n",
    "y_verd = [0,1,0,0,1,1,0,1,1,0]\n",
    "y_prob = [0.6,0.74417354,0.0942964,0.26138511,0.1,0.72501024,0.25000763,0.82837856,0.86182719,0.20760795]\n",
    "[y_0,y_1] = FunClasificacion(y_verd,y_prob)\n",
    "[vdist_0,vdist_1] = FunDist(y_prob,y_0,y_1)\n",
    "#Cálculo Python\n",
    "x_tasa, y_tasa, _ = roc_curve(y_verd, y_prob)"
   ]
  },
  {
   "cell_type": "code",
   "execution_count": 14,
   "metadata": {},
   "outputs": [
    {
     "data": {
      "image/png": "[encoded data removed]",
      "text/plain": [
       "<Figure size 1080x360 with 2 Axes>"
      ]
     },
     "metadata": {
      "needs_background": "light"
     },
     "output_type": "display_data"
    }
   ],
   "source": [
    "#Gráficas\n",
    "fig = plt.figure(figsize=(15.,5.))\n",
    "ax = fig.add_subplot(1,2,1)\n",
    "plt.plot(vdist_0, vdist_1, color=\"red\", linestyle= \"-\",label=\"Curva ROC interna\")\n",
    "plt.xlabel('Tasa de Falsos Positivos')\n",
    "plt.ylabel('Tasa de Verdaderos Positivos')\n",
    "plt.legend(loc='best')\n",
    "ax = fig.add_subplot(1,2,2)\n",
    "plt.plot(x_tasa, y_tasa, color=\"blue\", linestyle= \"-\",label=\"Curva ROC Python\")\n",
    "plt.xlabel('Tasa de Falsos Positivos')\n",
    "plt.ylabel('Tasa de Verdaderos Positivos')\n",
    "plt.legend(loc='best')\n",
    "plt.show()"
   ]
  },
  {
   "cell_type": "code",
   "execution_count": 15,
   "metadata": {},
   "outputs": [
    {
     "name": "stdout",
     "output_type": "stream",
     "text": [
      "El área bajo la curva sin utilizar la función de Python es igual a  0.8400000000000001\n",
      "El área bajo la curva mediante la función de Python es igual a  0.8400000000000001\n"
     ]
    }
   ],
   "source": [
    "#Área bajo la curva\n",
    "#Cálculo interno del área bajo la curva\n",
    "area1 = 0.8*0.8 + 1*0.2\n",
    "print(\"El área bajo la curva sin utilizar la función de Python es igual a \",area1)\n",
    "#Cálculo mediante Python del área bajo la curva\n",
    "area2 = roc_auc_score(y_verd, y_prob)\n",
    "print(\"El área bajo la curva mediante la función de Python es igual a \",area2)"
   ]
  },
  {
   "cell_type": "markdown",
   "metadata": {},
   "source": [
    "# Curva ROC con base en el tamaño de la muestra"
   ]
  },
  {
   "cell_type": "code",
   "execution_count": 16,
   "metadata": {},
   "outputs": [],
   "source": [
    "#Ejemplo función \"train_test_split\"\n",
    "x = [[1,1],[2,2],[3,3],[4,4],[5,5],[6,6],[7,7],[8,8],[9.9],[10,10]]\n",
    "y = [10,20,30,40,50,60,70,80,90,100]\n",
    "x_entre, x_test, y_entre, y_test = train_test_split(x, y, test_size=0.2,random_state=2)\n",
    "#x_entre, x_test, y_entre, y_test = train_test_split(x, y, test_size=0.2)"
   ]
  },
  {
   "cell_type": "code",
   "execution_count": 17,
   "metadata": {},
   "outputs": [
    {
     "name": "stdout",
     "output_type": "stream",
     "text": [
      "[[6, 6], [1, 1], [8, 8], [3, 3], [4, 4], [7, 7], [10, 10], [9.9]]\n",
      "[[5, 5], [2, 2]]\n",
      "[60, 10, 80, 30, 40, 70, 100, 90]\n",
      "[50, 20]\n"
     ]
    }
   ],
   "source": [
    "print(x_entre)\n",
    "print(x_test)\n",
    "print(y_entre)\n",
    "print(y_test)"
   ]
  },
  {
   "cell_type": "code",
   "execution_count": 20,
   "metadata": {
    "scrolled": true
   },
   "outputs": [
    {
     "data": {
      "text/html": [
       "<div>\n",
       "<style scoped>\n",
       "    .dataframe tbody tr th:only-of-type {\n",
       "        vertical-align: middle;\n",
       "    }\n",
       "\n",
       "    .dataframe tbody tr th {\n",
       "        vertical-align: top;\n",
       "    }\n",
       "\n",
       "    .dataframe thead th {\n",
       "        text-align: right;\n",
       "    }\n",
       "</style>\n",
       "<table border=\"1\" class=\"dataframe\">\n",
       "  <thead>\n",
       "    <tr style=\"text-align: right;\">\n",
       "      <th></th>\n",
       "      <th>Y</th>\n",
       "      <th>X1</th>\n",
       "      <th>X2</th>\n",
       "      <th>X3</th>\n",
       "      <th>X4</th>\n",
       "    </tr>\n",
       "  </thead>\n",
       "  <tbody>\n",
       "    <tr>\n",
       "      <th>0</th>\n",
       "      <td>1.0</td>\n",
       "      <td>0.580465</td>\n",
       "      <td>0.186298</td>\n",
       "      <td>0.776026</td>\n",
       "      <td>0.175751</td>\n",
       "    </tr>\n",
       "    <tr>\n",
       "      <th>1</th>\n",
       "      <td>1.0</td>\n",
       "      <td>0.957676</td>\n",
       "      <td>0.886382</td>\n",
       "      <td>0.418673</td>\n",
       "      <td>0.284228</td>\n",
       "    </tr>\n",
       "    <tr>\n",
       "      <th>2</th>\n",
       "      <td>1.0</td>\n",
       "      <td>0.277571</td>\n",
       "      <td>0.143721</td>\n",
       "      <td>0.878732</td>\n",
       "      <td>0.229771</td>\n",
       "    </tr>\n",
       "    <tr>\n",
       "      <th>3</th>\n",
       "      <td>0.0</td>\n",
       "      <td>0.073976</td>\n",
       "      <td>0.518592</td>\n",
       "      <td>0.799081</td>\n",
       "      <td>0.115999</td>\n",
       "    </tr>\n",
       "    <tr>\n",
       "      <th>4</th>\n",
       "      <td>1.0</td>\n",
       "      <td>0.196895</td>\n",
       "      <td>0.575175</td>\n",
       "      <td>0.523324</td>\n",
       "      <td>0.902436</td>\n",
       "    </tr>\n",
       "  </tbody>\n",
       "</table>\n",
       "</div>"
      ],
      "text/plain": [
       "     Y        X1        X2        X3        X4\n",
       "0  1.0  0.580465  0.186298  0.776026  0.175751\n",
       "1  1.0  0.957676  0.886382  0.418673  0.284228\n",
       "2  1.0  0.277571  0.143721  0.878732  0.229771\n",
       "3  0.0  0.073976  0.518592  0.799081  0.115999\n",
       "4  1.0  0.196895  0.575175  0.523324  0.902436"
      ]
     },
     "execution_count": 20,
     "metadata": {},
     "output_type": "execute_result"
    }
   ],
   "source": [
    "M = pd.read_csv(\"../data/EjemploRegresionLogistica4D_Nolineal.csv\",dtype='str',encoding = \"ISO-8859-1\")\n",
    "#M = pd.read_csv(\"C:\\\\Users\\\\ricardo\\\\Desktop\\\\BanxicoTrabajoCasa_v3\\\\CursoCienciaDeDatos\\\\Clases\\\\RegresionLogistica\\\\EjemploRegresionLogistica4D.csv\",dtype='str',encoding = \"ISO-8859-1\")\n",
    "M[[\"Y\",\"X1\",\"X2\",\"X3\",\"X4\"]] = M[[\"Y\",\"X1\",\"X2\",\"X3\",\"X4\"]].astype(float)\n",
    "M.head()"
   ]
  },
  {
   "cell_type": "code",
   "execution_count": null,
   "metadata": {},
   "outputs": [],
   "source": [
    "#Separación de la muestra con diversas proporciones\n",
    "tam_a, tam_b, tam_c = 0.5, 0.3, 0.1\n",
    "x_entre_a, x_test_a, y_entre_a, y_test_a = train_test_split(M[[\"X1\",\"X2\",\"X3\",\"X4\"]], M[[\"Y\"]], test_size=tam_a,random_state=1)\n",
    "x_entre_b, x_test_b, y_entre_b, y_test_b = train_test_split(M[[\"X1\",\"X2\",\"X3\",\"X4\"]], M[[\"Y\"]], test_size=tam_b,random_state=1)\n",
    "x_entre_c, x_test_c, y_entre_c, y_test_c = train_test_split(M[[\"X1\",\"X2\",\"X3\",\"X4\"]], M[[\"Y\"]], test_size=tam_c,random_state=1)\n",
    "print(\"La longitud de de los vectores de verificación al 50% es\",len(y_test_a))\n",
    "print(\"La longitud de de los vectores de verificación al 70% es\",len(y_test_b))\n",
    "print(\"La longitud de de los vectores de verificación al 90% es\",len(y_test_c))"
   ]
  },
  {
   "cell_type": "code",
   "execution_count": null,
   "metadata": {},
   "outputs": [],
   "source": [
    "#Entrenamiento simple\n",
    "#a) Entrenamiento con un a% de la muestra\n",
    "LR = LogisticRegression()\n",
    "LR.fit(x_entre_a, y_entre_a)\n",
    "y_pred_a = LR.predict_proba(x_test_a)[:,1]\n",
    "#b) Entrenamiento con un b% de la muestra\n",
    "LR = LogisticRegression()\n",
    "LR.fit(x_entre_b, y_entre_b)\n",
    "y_pred_b = LR.predict_proba(x_test_b)[:,1]\n",
    "#c) Entrenamiento con un c% de la muestra\n",
    "LR = LogisticRegression()\n",
    "LR.fit(x_entre_c, y_entre_c)\n",
    "y_pred_c = LR.predict_proba(x_test_c)[:,1]"
   ]
  },
  {
   "cell_type": "code",
   "execution_count": null,
   "metadata": {},
   "outputs": [],
   "source": [
    "#Cálculo de curvas ROC\n",
    "x_tasa_a, y_tasa_a, _ = roc_curve(y_test_a, y_pred_a)\n",
    "x_tasa_b, y_tasa_b, _ = roc_curve(y_test_b, y_pred_b)\n",
    "x_tasa_c, y_tasa_c, _ = roc_curve(y_test_c, y_pred_c)\n",
    "fig = plt.figure(figsize=(5.,5.))\n",
    "ax = fig.add_subplot(1,1,1)\n",
    "plt.plot(x_tasa_a, y_tasa_a, color=\"red\", linestyle= \"-\",label=\"Curva ROC \" + str(round(1-tam_a,2)))\n",
    "plt.plot(x_tasa_b, y_tasa_b, color=\"blue\", linestyle= \"-\",label=\"Curva ROC \" + str(round(1-tam_b,2)))\n",
    "plt.plot(x_tasa_c, y_tasa_c, color=\"green\", linestyle= \"-\",label=\"Curva ROC \" + str(round(1-tam_c,2)))\n",
    "plt.xlabel('Tasa de Falsos Positivos')\n",
    "plt.ylabel('Tasa de Verdaderos Positivos')\n",
    "plt.legend(loc='best',ncol=2)\n",
    "plt.show()"
   ]
  },
  {
   "cell_type": "code",
   "execution_count": null,
   "metadata": {},
   "outputs": [],
   "source": [
    "#Impresión de área bajo la curva\n",
    "print(\"El área bajo la curva considerando una proporción de entrenamiento de \",round(1-tam_a,2),\" es igual a \",roc_auc_score(y_test_a, y_pred_a))\n",
    "print(\"El área bajo la curva considerando una proporción de entrenamiento de \",round(1-tam_b,2),\" es igual a \",roc_auc_score(y_test_b, y_pred_b))\n",
    "print(\"El área bajo la curva considerando una proporción de entrenamiento de \",round(1-tam_c,2),\" es igual a \",roc_auc_score(y_test_c, y_pred_c))"
   ]
  },
  {
   "cell_type": "markdown",
   "metadata": {},
   "source": [
    "# Ejercicio. Aplicando un modelo de regresión logística a los datos de los archivos EjercicioRL_Lineal.csv y EjercicioRL_NoLineal.csv, y mediante el cálculo de sus correspondientes curvas ROC, discriminar en qué modelo la regresión logística tiene un mejor desempeño."
   ]
  },
  {
   "cell_type": "code",
   "execution_count": null,
   "metadata": {},
   "outputs": [],
   "source": [
    "M1 = pd.read_csv(\"../data/EjercicioRL_Lineal.csv\",dtype='str',encoding = \"ISO-8859-1\")\n",
    "M2 = pd.read_csv(\"../data/EjercicioRL_NoLineal.csv\",dtype='str',encoding = \"ISO-8859-1\")\n",
    "M[[\"Y\",\"X1\",\"X2\",\"X3\",\"X4\"]] = M[[\"Y\",\"X1\",\"X2\",\"X3\",\"X4\"]].astype(float)\n",
    "M.head()"
   ]
  }
 ],
 "metadata": {
  "kernelspec": {
   "display_name": "Python 3",
   "language": "python",
   "name": "python3"
  },
  "language_info": {
   "codemirror_mode": {
    "name": "ipython",
    "version": 3
   },
   "file_extension": ".py",
   "mimetype": "text/x-python",
   "name": "python",
   "nbconvert_exporter": "python",
   "pygments_lexer": "ipython3",
   "version": "3.8.5"
  }
 },
 "nbformat": 4,
 "nbformat_minor": 2
}
