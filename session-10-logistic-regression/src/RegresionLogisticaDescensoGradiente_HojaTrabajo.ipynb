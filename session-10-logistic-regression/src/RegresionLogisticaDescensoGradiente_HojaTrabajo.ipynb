{
 "cells": [
  {
   "cell_type": "markdown",
   "metadata": {},
   "source": [
    "# Regresión logística"
   ]
  },
  {
   "cell_type": "code",
   "execution_count": null,
   "metadata": {},
   "outputs": [],
   "source": [
    "import numpy as np\n",
    "import pandas as pd\n",
    "import matplotlib.pyplot as plt\n",
    "import scipy.stats as stats\n",
    "from math import exp, log\n",
    "from sklearn.metrics import confusion_matrix\n",
    "pd.set_option('display.max_columns',None)\n",
    "pd.set_option('display.max_rows',None)\n",
    "import warnings\n",
    "warnings.filterwarnings('ignore')"
   ]
  },
  {
   "cell_type": "markdown",
   "metadata": {},
   "source": [
    "# Ejemplo de regresión logística"
   ]
  },
  {
   "cell_type": "code",
   "execution_count": null,
   "metadata": {},
   "outputs": [],
   "source": [
    "M = pd.read_csv(\"C:\\\\Users\\\\ricardo\\\\Desktop\\\\BanxicoTrabajoCasa_v3\\\\CursoCienciaDeDatos\\\\Clases\\\\RegresionLogistica\\\\EjemploRegresionLogistica3D.csv\",dtype='str',encoding = \"ISO-8859-1\")\n",
    "M[[\"Y\",\"X1\",\"X2\",\"X3\"]] = M[[\"Y\",\"X1\",\"X2\",\"X3\"]].astype(float)\n",
    "M.head()"
   ]
  },
  {
   "cell_type": "code",
   "execution_count": null,
   "metadata": {},
   "outputs": [],
   "source": [
    "#Regresión logística\n",
    "from sklearn.linear_model import LogisticRegression\n",
    "LR = LogisticRegression()\n",
    "LR.fit(M[[\"X1\",\"X2\",\"X3\"]], M[[\"Y\"]])\n",
    "LR.predict(M[[\"X1\",\"X2\",\"X3\"]])"
   ]
  },
  {
   "cell_type": "code",
   "execution_count": null,
   "metadata": {},
   "outputs": [],
   "source": [
    "print(LR.coef_)\n",
    "print(LR.intercept_)"
   ]
  },
  {
   "cell_type": "code",
   "execution_count": null,
   "metadata": {},
   "outputs": [],
   "source": [
    "M[\"Y_aprox_1\"] = LR.intercept_[0] + LR.coef_[0][0]*M[\"X1\"] + LR.coef_[0][1]*M[\"X2\"] + LR.coef_[0][2]*M[\"X3\"]\n",
    "M[\"Y_aprox_2\"] = 1/(1+np.exp(-M[\"Y_aprox_1\"] ))\n",
    "M.head()"
   ]
  },
  {
   "cell_type": "code",
   "execution_count": null,
   "metadata": {},
   "outputs": [],
   "source": [
    "def Etiqueta(x):\n",
    "    if x.Y_aprox_2 >= 0.5:\n",
    "        resp = 1\n",
    "    else:\n",
    "        resp = 0\n",
    "    return resp\n",
    "M[\"Y_aprox\"] = M.apply(lambda x: Etiqueta(x),axis=1)\n",
    "M.head()"
   ]
  },
  {
   "cell_type": "code",
   "execution_count": null,
   "metadata": {},
   "outputs": [],
   "source": [
    "print(M[\"Y_aprox\"].tolist())"
   ]
  },
  {
   "cell_type": "code",
   "execution_count": null,
   "metadata": {},
   "outputs": [],
   "source": [
    "y_pred = LR.predict(M[[\"X1\",\"X2\",\"X3\"]])\n",
    "print(y_pred)"
   ]
  },
  {
   "cell_type": "code",
   "execution_count": null,
   "metadata": {},
   "outputs": [],
   "source": [
    "np.array(M[\"Y\"].tolist())"
   ]
  },
  {
   "cell_type": "code",
   "execution_count": null,
   "metadata": {},
   "outputs": [],
   "source": [
    "confusion_matrix(M[\"Y_aprox\"], y_pred)"
   ]
  },
  {
   "cell_type": "code",
   "execution_count": null,
   "metadata": {},
   "outputs": [],
   "source": [
    "confusion_matrix(M[\"Y\"], y_pred)"
   ]
  },
  {
   "cell_type": "markdown",
   "metadata": {},
   "source": [
    "# Estimación de coeficientes mediante descenso por gradiente"
   ]
  },
  {
   "cell_type": "code",
   "execution_count": null,
   "metadata": {},
   "outputs": [],
   "source": [
    "B = M[[\"X1\",\"X2\",\"X3\"]].copy(deep=True).reset_index(drop=True)\n",
    "B.head()"
   ]
  },
  {
   "cell_type": "code",
   "execution_count": null,
   "metadata": {},
   "outputs": [],
   "source": [
    "B.iloc[1,:].tolist()\n",
    "vx = [1]\n",
    "vx.extend(B.iloc[1,:].tolist())\n",
    "vx"
   ]
  },
  {
   "cell_type": "code",
   "execution_count": null,
   "metadata": {},
   "outputs": [],
   "source": [
    "def PasoGradiente(w0,y,x,l):\n",
    "    m = len(w0)\n",
    "    n = len(y)\n",
    "    vparcial = []\n",
    "    for i in range(m):\n",
    "        suma = 0\n",
    "        for j in range(n):\n",
    "            vx = [1]\n",
    "            vx.extend(x.iloc[j,:].tolist())\n",
    "            suma = suma + ( (1/(1+exp(-np.dot(w0,vx)))) - y[j] )*(vx[i])\n",
    "        vparcial.extend([suma/n])\n",
    "    w = []\n",
    "    for i in range(m):\n",
    "        w.extend([w0[i] - l*vparcial[i]])\n",
    "    return w\n",
    "#Ejemplo\n",
    "y = M[[\"Y\"]].copy(deep=True).reset_index(drop=True)\n",
    "y = y[\"Y\"].tolist()\n",
    "x = M[[\"X1\",\"X2\",\"X3\"]].copy(deep=True).reset_index(drop=True)\n",
    "w0 = [-4,2,2,2] \n",
    "l = 0.01\n",
    "w = PasoGradiente(w0,y,x,l)\n",
    "print(w)    "
   ]
  },
  {
   "cell_type": "code",
   "execution_count": null,
   "metadata": {},
   "outputs": [],
   "source": [
    "#Función de costo\n",
    "def FCosto(w,y,x):\n",
    "    n = len(y)\n",
    "    suma = 0\n",
    "    for j in range(n):\n",
    "        vx = [1]\n",
    "        vx.extend(x.iloc[j,:].tolist())\n",
    "        suma = suma + y[j]*log(1/(1+exp(-np.dot(w,vx)))) + (1-y[j])*log(1 - 1/(1+exp(-np.dot(w,vx))))\n",
    "    suma = (-1/n)*suma\n",
    "    return suma\n",
    "#Ejemplo\n",
    "y = M[[\"Y\"]].copy(deep=True).reset_index(drop=True)\n",
    "y = y[\"Y\"].tolist()\n",
    "x = M[[\"X1\",\"X2\",\"X3\"]].copy(deep=True).reset_index(drop=True)\n",
    "w = [-4,3,3,3] \n",
    "C = FCosto(w,y,x)\n",
    "print(C) "
   ]
  },
  {
   "cell_type": "code",
   "execution_count": null,
   "metadata": {},
   "outputs": [],
   "source": [
    "#Iteración de gradiente\n",
    "N = 1000\n",
    "y = M[[\"Y\"]].copy(deep=True).reset_index(drop=True)\n",
    "y = y[\"Y\"].tolist()\n",
    "x = M[[\"X1\",\"X2\",\"X3\"]].copy(deep=True).reset_index(drop=True)\n",
    "l = 0.01\n",
    "w0 = [-4,3,3,3] \n",
    "vC = []\n",
    "for i in range(N):\n",
    "    if i % 100 == 0:\n",
    "        print(i,\"->\",end=\"\")\n",
    "    w = PasoGradiente(w0,y,x,l)\n",
    "    vC.extend([FCosto(w,y,x)])\n",
    "    w0 = w\n",
    "print()\n",
    "print(w)"
   ]
  },
  {
   "cell_type": "code",
   "execution_count": null,
   "metadata": {},
   "outputs": [],
   "source": [
    "#Gráfica función de costo\n",
    "plt.title(\"Función de Costo\")\n",
    "plt.plot(range(len(vC)),vC,color=\"darkblue\")\n",
    "plt.xlabel('Iteración')\n",
    "plt.show()"
   ]
  },
  {
   "cell_type": "code",
   "execution_count": null,
   "metadata": {},
   "outputs": [],
   "source": [
    "#Comparativo base\n",
    "B[\"Y_aprox_1\"] = w[0] + w[1]*B[\"X1\"] + w[2]*B[\"X2\"] + w[3]*B[\"X3\"]\n",
    "B[\"Y_aprox_2\"] = 1/(1+np.exp(-M[\"Y_aprox_1\"] ))\n",
    "B[\"Y_aprox\"] = B.apply(lambda x: Etiqueta(x),axis=1)\n",
    "B.head()"
   ]
  },
  {
   "cell_type": "code",
   "execution_count": null,
   "metadata": {},
   "outputs": [],
   "source": [
    "print(B[\"Y_aprox\"].tolist())"
   ]
  },
  {
   "cell_type": "code",
   "execution_count": null,
   "metadata": {},
   "outputs": [],
   "source": [
    "LR.predict(B[[\"X1\",\"X2\",\"X3\"]])"
   ]
  },
  {
   "cell_type": "code",
   "execution_count": null,
   "metadata": {},
   "outputs": [],
   "source": [
    "np.array(M[\"Y\"].tolist())"
   ]
  },
  {
   "cell_type": "code",
   "execution_count": null,
   "metadata": {},
   "outputs": [],
   "source": [
    "confusion_matrix(LR.predict(B[[\"X1\",\"X2\",\"X3\"]]),B[\"Y_aprox\"])"
   ]
  },
  {
   "cell_type": "code",
   "execution_count": null,
   "metadata": {},
   "outputs": [],
   "source": [
    "confusion_matrix(y,B[\"Y_aprox\"])"
   ]
  },
  {
   "cell_type": "code",
   "execution_count": null,
   "metadata": {},
   "outputs": [],
   "source": []
  }
 ],
 "metadata": {
  "kernelspec": {
   "display_name": "Python 3",
   "language": "python",
   "name": "python3"
  },
  "language_info": {
   "codemirror_mode": {
    "name": "ipython",
    "version": 3
   },
   "file_extension": ".py",
   "mimetype": "text/x-python",
   "name": "python",
   "nbconvert_exporter": "python",
   "pygments_lexer": "ipython3",
   "version": "3.7.6"
  }
 },
 "nbformat": 4,
 "nbformat_minor": 2
}
