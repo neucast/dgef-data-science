{
 "cells": [
  {
   "cell_type": "markdown",
   "metadata": {},
   "source": [
    "# Regresión Multinomial"
   ]
  },
  {
   "cell_type": "code",
   "execution_count": null,
   "metadata": {},
   "outputs": [],
   "source": [
    "import numpy as np\n",
    "import pandas as pd\n",
    "import matplotlib.pyplot as plt\n",
    "import scipy.stats as stats\n",
    "from math import exp, log\n",
    "pd.set_option('display.max_columns',None)\n",
    "pd.set_option('display.max_rows',None)\n",
    "import warnings\n",
    "warnings.filterwarnings('ignore')\n",
    "#Carga de paquetería para ciencia de datos\n",
    "from sklearn.datasets import make_classification\n",
    "from sklearn.linear_model import LogisticRegression\n",
    "from sklearn.model_selection import train_test_split\n",
    "from sklearn.metrics import roc_curve\n",
    "from sklearn.metrics import roc_auc_score\n",
    "from sklearn.metrics import confusion_matrix"
   ]
  },
  {
   "cell_type": "code",
   "execution_count": null,
   "metadata": {},
   "outputs": [],
   "source": [
    "M = pd.read_csv(\"C:\\\\Users\\\\ricardo\\\\Desktop\\\\BanxicoTrabajoCasa_v3\\\\CursoCienciaDeDatos\\\\Clases\\\\RegresionLogistica\\\\EjemploRegresionMultinomial3D.csv\",dtype='str',encoding = \"ISO-8859-1\")\n",
    "M[[\"Y\",\"X1\",\"X2\",\"X3\"]] = M[[\"Y\",\"X1\",\"X2\",\"X3\"]].astype(float)\n",
    "M.head()"
   ]
  },
  {
   "cell_type": "code",
   "execution_count": null,
   "metadata": {},
   "outputs": [],
   "source": [
    "RM = LogisticRegression(multi_class=\"multinomial\",solver=\"lbfgs\",C=10)\n",
    "#lbfgs = Limited-memory Broyden–Fletcher–Goldfarb–Shanno Algorithm\n",
    "#C inverso del parámetro de regularización (con norma L2)\n",
    "RM.fit(M[[\"X1\",\"X2\",\"X3\"]],M[[\"Y\"]])\n",
    "y_pred = RM.predict(M[[\"X1\",\"X2\",\"X3\"]])"
   ]
  },
  {
   "cell_type": "code",
   "execution_count": null,
   "metadata": {},
   "outputs": [],
   "source": [
    "y_pred"
   ]
  },
  {
   "cell_type": "code",
   "execution_count": null,
   "metadata": {},
   "outputs": [],
   "source": [
    "M[\"Y\"].values"
   ]
  },
  {
   "cell_type": "code",
   "execution_count": null,
   "metadata": {},
   "outputs": [],
   "source": [
    "MC = confusion_matrix(M[\"Y\"].values, y_pred)\n",
    "MC"
   ]
  },
  {
   "cell_type": "code",
   "execution_count": null,
   "metadata": {},
   "outputs": [],
   "source": [
    "#Medida de referencia\n",
    "metrica = (MC[0][0] + MC[1][1] + MC[2][2])/len(M[\"Y\"].values)\n",
    "metrica"
   ]
  },
  {
   "cell_type": "markdown",
   "metadata": {},
   "source": [
    "# Gráfica de verificación de parámetro de regularización"
   ]
  },
  {
   "cell_type": "code",
   "execution_count": null,
   "metadata": {},
   "outputs": [],
   "source": [
    "vC = np.linspace(0,20,100)\n",
    "vmetrica = []\n",
    "for c in vC:\n",
    "    RM = LogisticRegression(multi_class=\"multinomial\",solver=\"lbfgs\",C=c)\n",
    "    RM.fit(M[[\"X1\",\"X2\",\"X3\"]],M[[\"Y\"]])\n",
    "    y_pred = RM.predict(M[[\"X1\",\"X2\",\"X3\"]])\n",
    "    MC = confusion_matrix(M[\"Y\"].values, y_pred)\n",
    "    metrica = (MC[0][0] + MC[1][1] + MC[2][2])/len(M[\"Y\"].values)\n",
    "    vmetrica.extend([metrica])"
   ]
  },
  {
   "cell_type": "code",
   "execution_count": null,
   "metadata": {},
   "outputs": [],
   "source": [
    "#Gráfica\n",
    "fig = plt.figure(figsize=(5.,5.))\n",
    "ax = fig.add_subplot(1,1,1)\n",
    "plt.plot(vC, vmetrica, color=\"darkblue\", linestyle= \"-\",label=\"Métrica de aciertos\")\n",
    "plt.xlabel('Parámetro de regularización')\n",
    "plt.ylabel('Métrica')\n",
    "plt.legend(loc='best',ncol=1)\n",
    "plt.show()"
   ]
  },
  {
   "cell_type": "markdown",
   "metadata": {},
   "source": [
    "# Ejercicio"
   ]
  },
  {
   "cell_type": "code",
   "execution_count": null,
   "metadata": {},
   "outputs": [],
   "source": [
    "#Un banco tienen la información de tres tipos de tarjetas de cédito otorgadas a sus clientes, con base en la edad, \n",
    "#el salario y los años de antigüedad en su último empleo.\n",
    "#Con base en estos datos determinar el parámetro de regulación C que mejor ajuste al modelo en un rango de 0 a 30.\n",
    "#¿Qué tarjeta se le debería otorgar a una persona de 50 años con un salario de 90,000 pesos mensuales y una antigüedad \n",
    "#de 25 años en su último empleo?"
   ]
  },
  {
   "cell_type": "code",
   "execution_count": null,
   "metadata": {},
   "outputs": [],
   "source": []
  }
 ],
 "metadata": {
  "kernelspec": {
   "display_name": "Python 3",
   "language": "python",
   "name": "python3"
  },
  "language_info": {
   "codemirror_mode": {
    "name": "ipython",
    "version": 3
   },
   "file_extension": ".py",
   "mimetype": "text/x-python",
   "name": "python",
   "nbconvert_exporter": "python",
   "pygments_lexer": "ipython3",
   "version": "3.7.6"
  }
 },
 "nbformat": 4,
 "nbformat_minor": 2
}
