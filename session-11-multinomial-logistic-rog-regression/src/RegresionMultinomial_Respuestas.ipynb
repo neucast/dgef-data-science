{
 "cells": [
  {
   "cell_type": "markdown",
   "metadata": {},
   "source": [
    "# Regresión Multinomial"
   ]
  },
  {
   "cell_type": "code",
   "execution_count": 1,
   "metadata": {},
   "outputs": [],
   "source": [
    "import numpy as np\n",
    "import pandas as pd\n",
    "import matplotlib.pyplot as plt\n",
    "import scipy.stats as stats\n",
    "from math import exp, log\n",
    "pd.set_option('display.max_columns',None)\n",
    "pd.set_option('display.max_rows',None)\n",
    "import warnings\n",
    "warnings.filterwarnings('ignore')\n",
    "#Carga de paquetería para ciencia de datos\n",
    "from sklearn.datasets import make_classification\n",
    "from sklearn.linear_model import LogisticRegression\n",
    "from sklearn.model_selection import train_test_split\n",
    "from sklearn.metrics import roc_curve\n",
    "from sklearn.metrics import roc_auc_score\n",
    "from sklearn.metrics import confusion_matrix"
   ]
  },
  {
   "cell_type": "code",
   "execution_count": 2,
   "metadata": {},
   "outputs": [
    {
     "data": {
      "text/html": [
       "<div>\n",
       "<style scoped>\n",
       "    .dataframe tbody tr th:only-of-type {\n",
       "        vertical-align: middle;\n",
       "    }\n",
       "\n",
       "    .dataframe tbody tr th {\n",
       "        vertical-align: top;\n",
       "    }\n",
       "\n",
       "    .dataframe thead th {\n",
       "        text-align: right;\n",
       "    }\n",
       "</style>\n",
       "<table border=\"1\" class=\"dataframe\">\n",
       "  <thead>\n",
       "    <tr style=\"text-align: right;\">\n",
       "      <th></th>\n",
       "      <th>Y</th>\n",
       "      <th>X1</th>\n",
       "      <th>X2</th>\n",
       "      <th>X3</th>\n",
       "    </tr>\n",
       "  </thead>\n",
       "  <tbody>\n",
       "    <tr>\n",
       "      <th>0</th>\n",
       "      <td>2.0</td>\n",
       "      <td>0.825929</td>\n",
       "      <td>0.936133</td>\n",
       "      <td>0.385233</td>\n",
       "    </tr>\n",
       "    <tr>\n",
       "      <th>1</th>\n",
       "      <td>1.0</td>\n",
       "      <td>0.023315</td>\n",
       "      <td>0.362509</td>\n",
       "      <td>0.900775</td>\n",
       "    </tr>\n",
       "    <tr>\n",
       "      <th>2</th>\n",
       "      <td>0.0</td>\n",
       "      <td>0.363650</td>\n",
       "      <td>0.405652</td>\n",
       "      <td>0.196377</td>\n",
       "    </tr>\n",
       "    <tr>\n",
       "      <th>3</th>\n",
       "      <td>1.0</td>\n",
       "      <td>0.911445</td>\n",
       "      <td>0.011728</td>\n",
       "      <td>0.516514</td>\n",
       "    </tr>\n",
       "    <tr>\n",
       "      <th>4</th>\n",
       "      <td>1.0</td>\n",
       "      <td>0.330563</td>\n",
       "      <td>0.141189</td>\n",
       "      <td>0.762634</td>\n",
       "    </tr>\n",
       "  </tbody>\n",
       "</table>\n",
       "</div>"
      ],
      "text/plain": [
       "     Y        X1        X2        X3\n",
       "0  2.0  0.825929  0.936133  0.385233\n",
       "1  1.0  0.023315  0.362509  0.900775\n",
       "2  0.0  0.363650  0.405652  0.196377\n",
       "3  1.0  0.911445  0.011728  0.516514\n",
       "4  1.0  0.330563  0.141189  0.762634"
      ]
     },
     "execution_count": 2,
     "metadata": {},
     "output_type": "execute_result"
    }
   ],
   "source": [
    "M = pd.read_csv(\"C:\\\\Users\\\\ricardo\\\\Desktop\\\\BanxicoTrabajoCasa_v3\\\\CursoCienciaDeDatos\\\\Clases\\\\RegresionLogistica\\\\EjemploRegresionMultinomial3D.csv\",dtype='str',encoding = \"ISO-8859-1\")\n",
    "M[[\"Y\",\"X1\",\"X2\",\"X3\"]] = M[[\"Y\",\"X1\",\"X2\",\"X3\"]].astype(float)\n",
    "M.head()"
   ]
  },
  {
   "cell_type": "code",
   "execution_count": 3,
   "metadata": {},
   "outputs": [],
   "source": [
    "RM = LogisticRegression(multi_class=\"multinomial\",solver=\"lbfgs\",C=10)\n",
    "#lbfgs = Limited-memory Broyden–Fletcher–Goldfarb–Shanno Algorithm\n",
    "#C inverso del parámetro de regularización (con norma L2)\n",
    "RM.fit(M[[\"X1\",\"X2\",\"X3\"]],M[[\"Y\"]])\n",
    "y_pred = RM.predict(M[[\"X1\",\"X2\",\"X3\"]])"
   ]
  },
  {
   "cell_type": "code",
   "execution_count": 4,
   "metadata": {},
   "outputs": [
    {
     "data": {
      "text/plain": [
       "array([2., 1., 0., 1., 1., 1., 1., 1., 2., 2., 1., 1., 1., 1., 1., 2., 2.,\n",
       "       1., 1., 1., 2., 1., 1., 1., 0., 0., 1., 1., 2., 1., 1., 1., 0., 0.,\n",
       "       1., 2., 2., 0., 0., 2., 1., 1., 1., 1., 1., 1., 1., 0., 2., 1., 1.,\n",
       "       0., 1., 1., 1., 0., 1., 1., 1., 1., 1., 1., 0., 1., 1., 0., 1., 1.,\n",
       "       0., 2., 1., 0., 1., 1., 1., 1., 1., 1., 1., 0., 2., 1., 1., 1., 0.,\n",
       "       0., 2., 0., 1., 1., 1., 1., 1., 1., 0., 1., 1., 1., 1., 1.])"
      ]
     },
     "execution_count": 4,
     "metadata": {},
     "output_type": "execute_result"
    }
   ],
   "source": [
    "y_pred"
   ]
  },
  {
   "cell_type": "code",
   "execution_count": 5,
   "metadata": {},
   "outputs": [
    {
     "data": {
      "text/plain": [
       "array([2., 1., 0., 1., 1., 1., 1., 1., 2., 2., 1., 1., 1., 1., 1., 2., 2.,\n",
       "       0., 1., 1., 2., 1., 1., 1., 0., 0., 1., 1., 2., 1., 1., 1., 0., 0.,\n",
       "       1., 2., 2., 0., 0., 2., 1., 1., 1., 1., 1., 1., 1., 0., 2., 1., 1.,\n",
       "       0., 1., 1., 1., 0., 1., 0., 1., 1., 1., 1., 0., 2., 1., 0., 1., 2.,\n",
       "       0., 2., 1., 0., 1., 1., 1., 1., 1., 1., 1., 0., 2., 1., 1., 1., 0.,\n",
       "       0., 2., 0., 1., 1., 1., 0., 1., 1., 0., 1., 1., 1., 1., 1.])"
      ]
     },
     "execution_count": 5,
     "metadata": {},
     "output_type": "execute_result"
    }
   ],
   "source": [
    "M[\"Y\"].values"
   ]
  },
  {
   "cell_type": "code",
   "execution_count": 6,
   "metadata": {},
   "outputs": [
    {
     "data": {
      "text/plain": [
       "array([[19,  3,  0],\n",
       "       [ 0, 62,  0],\n",
       "       [ 0,  2, 14]], dtype=int64)"
      ]
     },
     "execution_count": 6,
     "metadata": {},
     "output_type": "execute_result"
    }
   ],
   "source": [
    "MC = confusion_matrix(M[\"Y\"].values, y_pred) #MC_{ij}  indica los valores que en realidad están en el grupo i y que\n",
    "#fueron clasificados en el grupo j\n",
    "MC"
   ]
  },
  {
   "cell_type": "code",
   "execution_count": 7,
   "metadata": {},
   "outputs": [
    {
     "data": {
      "text/plain": [
       "0.95"
      ]
     },
     "execution_count": 7,
     "metadata": {},
     "output_type": "execute_result"
    }
   ],
   "source": [
    "#Medida de referencia\n",
    "metrica = (MC[0][0] + MC[1][1] + MC[2][2])/len(M[\"Y\"].values)\n",
    "metrica"
   ]
  },
  {
   "cell_type": "markdown",
   "metadata": {},
   "source": [
    "# Gráfica de verificación de parámetro de regularización"
   ]
  },
  {
   "cell_type": "code",
   "execution_count": 8,
   "metadata": {},
   "outputs": [],
   "source": [
    "vC = np.linspace(0,20,100)\n",
    "vmetrica = []\n",
    "for c in vC:\n",
    "    RM = LogisticRegression(multi_class=\"multinomial\",solver=\"lbfgs\",C=c)\n",
    "    RM.fit(M[[\"X1\",\"X2\",\"X3\"]],M[[\"Y\"]])\n",
    "    y_pred = RM.predict(M[[\"X1\",\"X2\",\"X3\"]])\n",
    "    MC = confusion_matrix(M[\"Y\"].values, y_pred)\n",
    "    metrica = (MC[0][0] + MC[1][1] + MC[2][2])/len(M[\"Y\"].values)\n",
    "    vmetrica.extend([metrica])"
   ]
  },
  {
   "cell_type": "code",
   "execution_count": 9,
   "metadata": {},
   "outputs": [
    {
     "data": {
      "image/png": "[encoded data removed]",
      "text/plain": [
       "<Figure size 360x360 with 1 Axes>"
      ]
     },
     "metadata": {
      "needs_background": "light"
     },
     "output_type": "display_data"
    }
   ],
   "source": [
    "#Gráfica\n",
    "fig = plt.figure(figsize=(5.,5.))\n",
    "ax = fig.add_subplot(1,1,1)\n",
    "plt.plot(vC, vmetrica, color=\"darkblue\", linestyle= \"-\",label=\"Métrica de aciertos\")\n",
    "plt.xlabel('Parámetro de regularización')\n",
    "plt.ylabel('Métrica')\n",
    "plt.legend(loc='best',ncol=1)\n",
    "plt.show()"
   ]
  },
  {
   "cell_type": "markdown",
   "metadata": {},
   "source": [
    "# Ejercicio"
   ]
  },
  {
   "cell_type": "code",
   "execution_count": 10,
   "metadata": {},
   "outputs": [],
   "source": [
    "#Un banco tienen la información de tres tipos de tarjetas de cédito otorgadas a sus clientes, con base en la edad, \n",
    "#el salario y los años de antigüedad en su último empleo.\n",
    "#Con base en estos datos determinar el parámetro de regulación C que mejor ajuste al modelo en un rango de 0 a 30.\n",
    "#¿Qué tarjeta se le debería otorgar a una persona de 50 años con un salario de 90,000 pesos mensuales y una antigüedad \n",
    "#de 25 años en su último empleo?"
   ]
  },
  {
   "cell_type": "code",
   "execution_count": 11,
   "metadata": {},
   "outputs": [
    {
     "data": {
      "text/html": [
       "<div>\n",
       "<style scoped>\n",
       "    .dataframe tbody tr th:only-of-type {\n",
       "        vertical-align: middle;\n",
       "    }\n",
       "\n",
       "    .dataframe tbody tr th {\n",
       "        vertical-align: top;\n",
       "    }\n",
       "\n",
       "    .dataframe thead th {\n",
       "        text-align: right;\n",
       "    }\n",
       "</style>\n",
       "<table border=\"1\" class=\"dataframe\">\n",
       "  <thead>\n",
       "    <tr style=\"text-align: right;\">\n",
       "      <th></th>\n",
       "      <th>Y</th>\n",
       "      <th>Edad</th>\n",
       "      <th>Salario</th>\n",
       "      <th>Antiguedad</th>\n",
       "    </tr>\n",
       "  </thead>\n",
       "  <tbody>\n",
       "    <tr>\n",
       "      <th>0</th>\n",
       "      <td>Platino</td>\n",
       "      <td>46.0</td>\n",
       "      <td>55354.0</td>\n",
       "      <td>14.0</td>\n",
       "    </tr>\n",
       "    <tr>\n",
       "      <th>1</th>\n",
       "      <td>Platino</td>\n",
       "      <td>54.0</td>\n",
       "      <td>51978.0</td>\n",
       "      <td>28.0</td>\n",
       "    </tr>\n",
       "    <tr>\n",
       "      <th>2</th>\n",
       "      <td>Basica</td>\n",
       "      <td>33.0</td>\n",
       "      <td>26505.0</td>\n",
       "      <td>11.0</td>\n",
       "    </tr>\n",
       "    <tr>\n",
       "      <th>3</th>\n",
       "      <td>Basica</td>\n",
       "      <td>35.0</td>\n",
       "      <td>49778.0</td>\n",
       "      <td>4.0</td>\n",
       "    </tr>\n",
       "    <tr>\n",
       "      <th>4</th>\n",
       "      <td>Basica</td>\n",
       "      <td>59.0</td>\n",
       "      <td>5449.0</td>\n",
       "      <td>24.0</td>\n",
       "    </tr>\n",
       "  </tbody>\n",
       "</table>\n",
       "</div>"
      ],
      "text/plain": [
       "         Y  Edad  Salario  Antiguedad\n",
       "0  Platino  46.0  55354.0        14.0\n",
       "1  Platino  54.0  51978.0        28.0\n",
       "2   Basica  33.0  26505.0        11.0\n",
       "3   Basica  35.0  49778.0         4.0\n",
       "4   Basica  59.0   5449.0        24.0"
      ]
     },
     "execution_count": 11,
     "metadata": {},
     "output_type": "execute_result"
    }
   ],
   "source": [
    "ME = pd.read_csv(\"C:\\\\Users\\\\ricardo\\\\Desktop\\\\BanxicoTrabajoCasa_v3\\\\CursoCienciaDeDatos\\\\Clases\\\\RegresionLogistica\\\\EjemploTarjetasBanco.csv\",dtype='str',encoding = \"ISO-8859-1\")\n",
    "#ME[[\"Y\",\"Edad\",\"Salario\",\"Antiguedad\"]] = ME[[\"Y\",\"Edad\",\"Salario\",\"Antiguedad\"]].astype(float)\n",
    "ME[[\"Edad\",\"Salario\",\"Antiguedad\"]] = ME[[\"Edad\",\"Salario\",\"Antiguedad\"]].astype(float)\n",
    "ME.head()"
   ]
  },
  {
   "cell_type": "code",
   "execution_count": 12,
   "metadata": {},
   "outputs": [
    {
     "data": {
      "image/png": "[encoded data removed]",
      "text/plain": [
       "<Figure size 360x360 with 1 Axes>"
      ]
     },
     "metadata": {
      "needs_background": "light"
     },
     "output_type": "display_data"
    }
   ],
   "source": [
    "vC = np.linspace(0,30,100)\n",
    "vmetrica = []\n",
    "for c in vC:\n",
    "    RM = LogisticRegression(multi_class=\"multinomial\",solver=\"lbfgs\",C=c)\n",
    "    RM.fit(ME[[\"Edad\",\"Salario\",\"Antiguedad\"]],ME[[\"Y\"]])\n",
    "    y_pred = RM.predict(ME[[\"Edad\",\"Salario\",\"Antiguedad\"]])\n",
    "    MC = confusion_matrix(ME[[\"Y\"]].values, y_pred)\n",
    "    metrica = (MC[0][0] + MC[1][1] + MC[2][2])/len(ME[\"Y\"].values)\n",
    "    vmetrica.extend([metrica])\n",
    "#Gráfica\n",
    "fig = plt.figure(figsize=(5.,5.))\n",
    "ax = fig.add_subplot(1,1,1)\n",
    "plt.plot(vC, vmetrica, color=\"darkblue\", linestyle= \"-\",label=\"Métrica de aciertos\")\n",
    "plt.xlabel('Parámetro de regularización')\n",
    "plt.ylabel('Métrica')\n",
    "plt.legend(loc='best',ncol=1)\n",
    "plt.show()"
   ]
  },
  {
   "cell_type": "code",
   "execution_count": 13,
   "metadata": {},
   "outputs": [
    {
     "name": "stdout",
     "output_type": "stream",
     "text": [
      "El valor que proporciona el mejor ajuste bajo la métrica indicada es  21.21212121212121\n"
     ]
    }
   ],
   "source": [
    "#Determinación del valor de C\n",
    "posicion = vmetrica.index(max(vmetrica))\n",
    "c = vC[posicion]\n",
    "print(\"El valor que proporciona el mejor ajuste bajo la métrica indicada es \",c)"
   ]
  },
  {
   "cell_type": "code",
   "execution_count": 14,
   "metadata": {},
   "outputs": [
    {
     "name": "stdout",
     "output_type": "stream",
     "text": [
      "La tarjeta proporcionada es  Platino\n"
     ]
    }
   ],
   "source": [
    "#Respuesta\n",
    "d = {0:\"Basica\",1:\"Oro\",2:\"Platino\"}\n",
    "RM = LogisticRegression(multi_class=\"multinomial\",solver=\"lbfgs\",C=c)\n",
    "RM.fit(ME[[\"Edad\",\"Salario\",\"Antiguedad\"]],ME[[\"Y\"]])\n",
    "#print(\"La tarjeta proporcionada es \",d[RM.predict([[50,90000,25]])[0]])\n",
    "print(\"La tarjeta proporcionada es \",RM.predict([[50,90000,25]])[0])"
   ]
  },
  {
   "cell_type": "code",
   "execution_count": null,
   "metadata": {},
   "outputs": [],
   "source": []
  }
 ],
 "metadata": {
  "kernelspec": {
   "display_name": "Python 3",
   "language": "python",
   "name": "python3"
  },
  "language_info": {
   "codemirror_mode": {
    "name": "ipython",
    "version": 3
   },
   "file_extension": ".py",
   "mimetype": "text/x-python",
   "name": "python",
   "nbconvert_exporter": "python",
   "pygments_lexer": "ipython3",
   "version": "3.7.6"
  }
 },
 "nbformat": 4,
 "nbformat_minor": 2
}
