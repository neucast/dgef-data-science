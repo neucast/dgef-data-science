{
 "cells": [
  {
   "cell_type": "markdown",
   "metadata": {},
   "source": [
    "# Algoritmo K-Medias"
   ]
  },
  {
   "cell_type": "code",
   "execution_count": null,
   "metadata": {},
   "outputs": [],
   "source": [
    "import numpy as np\n",
    "import pandas as pd\n",
    "import matplotlib.pyplot as plt\n",
    "from mpl_toolkits.mplot3d import Axes3D\n",
    "import scipy.stats as stats\n",
    "from math import exp, log\n",
    "pd.set_option('display.max_columns',None)\n",
    "pd.set_option('display.max_rows',None)\n",
    "import warnings\n",
    "warnings.filterwarnings('ignore')\n",
    "pd.options.display.float_format = \"{:,.5f}\".format\n",
    "from sklearn.cluster import KMeans"
   ]
  },
  {
   "cell_type": "markdown",
   "metadata": {},
   "source": [
    "# Ejemplo 1"
   ]
  },
  {
   "cell_type": "code",
   "execution_count": null,
   "metadata": {},
   "outputs": [],
   "source": [
    "from sklearn.datasets import make_blobs\n",
    "X, y = make_blobs(n_samples=100, centers=4, n_features=3,random_state=0) #X es la muestra simulada, y las etiquetas de ls grups"
   ]
  },
  {
   "cell_type": "code",
   "execution_count": null,
   "metadata": {},
   "outputs": [],
   "source": [
    "fig = plt.figure(figsize=(6.,5.))\n",
    "ax = Axes3D(fig)\n",
    "ax.scatter(X[:, 0], X[:, 1], X[:, 2],s=60)\n",
    "plt.show()"
   ]
  },
  {
   "cell_type": "code",
   "execution_count": null,
   "metadata": {},
   "outputs": [],
   "source": [
    "#Determinación del número de clusters\n",
    "N = range(1, 20)\n",
    "KM = [KMeans(n_clusters=i) for i in N]\n",
    "score = [KM[i].fit(X).inertia_ for i in range(len(KM))]\n",
    "plt.plot(N,score,color=\"darkblue\")\n",
    "plt.xlabel(\"Número de grupos\")\n",
    "plt.ylabel(\"Valor criterio\")\n",
    "plt.title(\"Suma distancias al cuadrado\")\n",
    "plt.show()"
   ]
  },
  {
   "cell_type": "code",
   "execution_count": null,
   "metadata": {},
   "outputs": [],
   "source": [
    "KM = KMeans(n_clusters=4)\n",
    "KMedias = KM.fit(X)\n",
    "etiquetas = KMedias.predict(X)"
   ]
  },
  {
   "cell_type": "code",
   "execution_count": null,
   "metadata": {},
   "outputs": [],
   "source": [
    "etiquetas"
   ]
  },
  {
   "cell_type": "code",
   "execution_count": null,
   "metadata": {},
   "outputs": [],
   "source": [
    "y"
   ]
  },
  {
   "cell_type": "code",
   "execution_count": null,
   "metadata": {},
   "outputs": [],
   "source": [
    "#Gráfica con clusters bajo colores\n",
    "vcolor = []\n",
    "for i in range(len(etiquetas)):\n",
    "    if etiquetas[i] == 0:\n",
    "        vcolor.extend([\"red\"])\n",
    "    elif etiquetas[i] == 1:\n",
    "        vcolor.extend([\"blue\"])\n",
    "    elif etiquetas[i] == 2:\n",
    "        vcolor.extend([\"green\"])\n",
    "    else:\n",
    "        vcolor.extend([\"orange\"])\n",
    "fig = plt.figure(figsize=(6.,5.))\n",
    "ax = Axes3D(fig)\n",
    "ax.scatter(X[:, 0], X[:, 1], X[:, 2],c=vcolor,s=60)\n",
    "plt.show()      "
   ]
  },
  {
   "cell_type": "code",
   "execution_count": null,
   "metadata": {},
   "outputs": [],
   "source": [
    "#Comparativo mediante un Data Frame\n",
    "M = pd.DataFrame(index=range(len(X)),columns=[\"X\",\"Y\",\"Z\"])\n",
    "for i in range(len(X)):\n",
    "    M.iloc[i,:] = X[i]\n",
    "M.head()"
   ]
  },
  {
   "cell_type": "code",
   "execution_count": null,
   "metadata": {},
   "outputs": [],
   "source": [
    "#Ajuste etiquetas\n",
    "vet_ajus = []\n",
    "for x in etiquetas:\n",
    "    if x == 3:\n",
    "        vet_ajus.extend([0])\n",
    "    elif x == 2:\n",
    "        vet_ajus.extend([1])\n",
    "    elif x == 1:\n",
    "        vet_ajus.extend([1])\n",
    "    elif x == 0:\n",
    "        vet_ajus.extend([3])"
   ]
  },
  {
   "cell_type": "code",
   "execution_count": null,
   "metadata": {},
   "outputs": [],
   "source": [
    "M[\"EtiquetasVerdades\"] = y\n",
    "M[\"EtiquetasAproximadas\"] = vet_ajus\n",
    "M[\"Comparativo\"] = np.where(M[\"EtiquetasVerdades\"]==M[\"EtiquetasAproximadas\"],1,0)\n",
    "M.head()\n",
    "print(\"La proporción de observaciones clasificadas de forma correcta es \",100*M[\"Comparativo\"].sum()/len(M.index))"
   ]
  },
  {
   "cell_type": "markdown",
   "metadata": {},
   "source": [
    "# Ejercicio 1. A partir del archivo Ejemplo1_KMedias.csv, y empleando el algoritmo K-Medias, agrupar los datos mostrados. Deben probarse diversos números de centroides y graficar los resultados."
   ]
  },
  {
   "cell_type": "code",
   "execution_count": null,
   "metadata": {},
   "outputs": [],
   "source": []
  }
 ],
 "metadata": {
  "kernelspec": {
   "display_name": "Python 3",
   "language": "python",
   "name": "python3"
  },
  "language_info": {
   "codemirror_mode": {
    "name": "ipython",
    "version": 3
   },
   "file_extension": ".py",
   "mimetype": "text/x-python",
   "name": "python",
   "nbconvert_exporter": "python",
   "pygments_lexer": "ipython3",
   "version": "3.7.6"
  }
 },
 "nbformat": 4,
 "nbformat_minor": 2
}
