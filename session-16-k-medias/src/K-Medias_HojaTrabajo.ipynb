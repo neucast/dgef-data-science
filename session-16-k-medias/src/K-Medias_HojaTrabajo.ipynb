{
 "cells": [
  {
   "cell_type": "markdown",
   "metadata": {},
   "source": [
    "# Algoritmo K-Medias"
   ]
  },
  {
   "cell_type": "code",
   "execution_count": null,
   "metadata": {},
   "outputs": [],
   "source": [
    "import numpy as np\n",
    "import pandas as pd\n",
    "import matplotlib.pyplot as plt\n",
    "import scipy.stats as stats\n",
    "from math import exp, log\n",
    "pd.set_option('display.max_columns',None)\n",
    "pd.set_option('display.max_rows',None)\n",
    "import warnings\n",
    "warnings.filterwarnings('ignore')\n",
    "pd.options.display.float_format = \"{:,.5f}\".format"
   ]
  },
  {
   "cell_type": "markdown",
   "metadata": {},
   "source": [
    "# Metodología 1 (sin el uso de librerías)"
   ]
  },
  {
   "cell_type": "code",
   "execution_count": null,
   "metadata": {},
   "outputs": [],
   "source": [
    "#Lectura de archivo\n",
    "M = pd.read_csv(\"C:\\\\Users\\\\ricardo\\\\Desktop\\\\Clusters\\\\ClustersEjemplo1.csv\",dtype='str',encoding = \"ISO-8859-1\")\n",
    "M[M.columns] = M[M.columns].astype(float)"
   ]
  },
  {
   "cell_type": "code",
   "execution_count": null,
   "metadata": {},
   "outputs": [],
   "source": [
    "#Gráfica de datos\n",
    "fig = plt.figure(figsize=(6.,5.))\n",
    "#Gráficas exposición\n",
    "ax = fig.add_subplot(1,1,1)\n",
    "ax.set_title(\"Agrupaciones\")\n",
    "plt.scatter(M[\"Coordenada_X\"],M[\"Coordenada_Y\"])\n",
    "plt.xlim(-10,10)\n",
    "plt.ylim(-1,6)\n",
    "plt.ylabel(\"Densidad\")\n",
    "plt.xlabel(\"Miles de millones de pesos\")\n",
    "plt.show()"
   ]
  },
  {
   "cell_type": "markdown",
   "metadata": {},
   "source": [
    "# Funciones auxiliares"
   ]
  },
  {
   "cell_type": "code",
   "execution_count": null,
   "metadata": {},
   "outputs": [],
   "source": [
    "#Distancia Euclidiana entre dos puntos\n",
    "def D_Euc(v,w):\n",
    "    n, d = len(v), 0\n",
    "    for i in range(n):\n",
    "        d = d + (v[i]-w[i])**2\n",
    "    d = d**(0.5)\n",
    "    return(d)\n",
    "#Ejemplo\n",
    "v, w = [0,0], [1,1]\n",
    "d = D_Euc(v,w)\n",
    "print(\"La distancia Euclidiana es igual a \",d)"
   ]
  },
  {
   "cell_type": "code",
   "execution_count": null,
   "metadata": {},
   "outputs": [],
   "source": [
    "#Distancia Euclidiana entre dos puntos (sin raíz)\n",
    "def D_Euc2(v,w):\n",
    "    n, d = len(v), 0\n",
    "    for i in range(n):\n",
    "        d = d + (v[i]-w[i])**2\n",
    "    d = d**(1)\n",
    "    return(d)\n",
    "#Ejemplo\n",
    "v, w = [0,0], [1,1]\n",
    "d = D_Euc(v,w)\n",
    "print(\"La distancia Euclidiana es igual a \",d)"
   ]
  },
  {
   "cell_type": "code",
   "execution_count": null,
   "metadata": {},
   "outputs": [],
   "source": [
    "#Cálculo de centroides\n",
    "def Centroide(w):\n",
    "    n = len(w)\n",
    "    xC, yC = 0, 0\n",
    "    for i in range(n):\n",
    "        xC = xC + w[i][0]/n\n",
    "        yC = yC + w[i][1]/n\n",
    "    return ([xC,yC])\n",
    "#Ejemplo\n",
    "w = [[0,0],[1,1]]\n",
    "C = Centroide(w)\n",
    "print(\"El centroide es el vecto \",C)"
   ]
  },
  {
   "cell_type": "markdown",
   "metadata": {},
   "source": [
    "# Algoritmo K-medias"
   ]
  },
  {
   "cell_type": "code",
   "execution_count": null,
   "metadata": {},
   "outputs": [],
   "source": [
    "def KMedias(M,C0_1,C0_2,maxiter=100):\n",
    "    it = 0\n",
    "    while it <= maxiter:\n",
    "        vetiqueta, vG1, vG2 = [], [], []\n",
    "        for i in M.iterrows():\n",
    "            v = [i[1][0],i[1][1]]\n",
    "            d1 =  D_Euc(v,C0_1)\n",
    "            d2 =  D_Euc(v,C0_2)\n",
    "            if d1<=d2:\n",
    "                vetiqueta.extend([0])\n",
    "                vG1.extend([v])\n",
    "            else:\n",
    "                vetiqueta.extend([1])\n",
    "                vG2.extend([v])\n",
    "        C0_1 = Centroide(vG1)\n",
    "        C0_2 = Centroide(vG2)\n",
    "        it = it + 1\n",
    "    return [vetiqueta,C0_1,C0_2]         "
   ]
  },
  {
   "cell_type": "code",
   "execution_count": null,
   "metadata": {},
   "outputs": [],
   "source": [
    "P1, P2, P3, P4, P5, P6 = [M.iloc[0,0],M.iloc[0,1]], [M.iloc[1,0],M.iloc[1,1]], [M.iloc[2,0],M.iloc[2,1]], \\\n",
    "                        [M.iloc[3,0],M.iloc[3,1]], [M.iloc[4,0],M.iloc[4,1]], [M.iloc[5,0],M.iloc[5,1]]\n",
    "C1, C2 = P1.copy(), P2.copy()\n",
    "[vetiqueta,C0_1,C0_2] = KMedias(M,C1,C2,100)"
   ]
  },
  {
   "cell_type": "code",
   "execution_count": null,
   "metadata": {},
   "outputs": [],
   "source": [
    "#Etiqueta de colores\n",
    "vcolor = []\n",
    "for x in vetiqueta:\n",
    "    if x == 0:\n",
    "        vcolor.extend([\"darkblue\"])\n",
    "    else:\n",
    "        vcolor.extend([\"red\"])"
   ]
  },
  {
   "cell_type": "code",
   "execution_count": null,
   "metadata": {},
   "outputs": [],
   "source": [
    "#Gráfica con colores por grupos\n",
    "fig = plt.figure(figsize=(6.,5.))\n",
    "#Gráficas exposición\n",
    "ax = fig.add_subplot(1,1,1)\n",
    "ax.set_title(\"Agrupaciones\")\n",
    "plt.scatter(M[\"Coordenada_X\"],M[\"Coordenada_Y\"],color=vcolor)\n",
    "plt.xlim(-10,10)\n",
    "plt.ylim(-1,6)\n",
    "plt.ylabel(\"Coordenada Y\")\n",
    "plt.xlabel(\"Coordenada X\")\n",
    "plt.show()"
   ]
  },
  {
   "cell_type": "markdown",
   "metadata": {},
   "source": [
    "# Ejemplo círculos"
   ]
  },
  {
   "cell_type": "code",
   "execution_count": null,
   "metadata": {},
   "outputs": [],
   "source": [
    "#Lectura de archivo\n",
    "M = pd.read_csv(\"C:\\\\Users\\\\ricardo\\\\Desktop\\\\Clusters\\\\ClustersCirculos.csv\",dtype='str',encoding = \"ISO-8859-1\")\n",
    "M[M.columns] = M[M.columns].astype(float)\n",
    "M.head()"
   ]
  },
  {
   "cell_type": "code",
   "execution_count": null,
   "metadata": {},
   "outputs": [],
   "source": [
    "#Gráfica con colores por grupos\n",
    "fig = plt.figure(figsize=(6.,5.))\n",
    "#Gráficas exposición\n",
    "ax = fig.add_subplot(1,1,1)\n",
    "ax.set_title(\"Agrupaciones\")\n",
    "plt.scatter(M[\"Coordenada_X\"],M[\"Coordenada_Y\"])\n",
    "plt.ylabel(\"Coordenada Y\")\n",
    "plt.xlabel(\"Coordenada X\")\n",
    "plt.show()"
   ]
  },
  {
   "cell_type": "code",
   "execution_count": null,
   "metadata": {},
   "outputs": [],
   "source": [
    "C1, C2 = [M.iloc[0,0],M.iloc[0,1]], [M.iloc[1,0],M.iloc[1,1]]\n",
    "[vetiqueta,C0_1,C0_2] = KMedias(M,C1,C2,100)"
   ]
  },
  {
   "cell_type": "code",
   "execution_count": null,
   "metadata": {},
   "outputs": [],
   "source": [
    "#Etiqueta de colores\n",
    "vcolor = []\n",
    "for x in vetiqueta:\n",
    "    if x == 0:\n",
    "        vcolor.extend([\"darkblue\"])\n",
    "    else:\n",
    "        vcolor.extend([\"red\"])"
   ]
  },
  {
   "cell_type": "code",
   "execution_count": null,
   "metadata": {},
   "outputs": [],
   "source": [
    "#Gráfica con colores por grupos\n",
    "fig = plt.figure(figsize=(6.,5.))\n",
    "#Gráficas exposición\n",
    "ax = fig.add_subplot(1,1,1)\n",
    "ax.set_title(\"Agrupaciones\")\n",
    "plt.scatter(M[\"Coordenada_X\"],M[\"Coordenada_Y\"],color=vcolor)\n",
    "plt.ylabel(\"Coordenada Y\")\n",
    "plt.xlabel(\"Coordenada X\")\n",
    "plt.show()"
   ]
  },
  {
   "cell_type": "markdown",
   "metadata": {},
   "source": [
    "# Metodología 2 (con el uso de librerías)"
   ]
  },
  {
   "cell_type": "code",
   "execution_count": null,
   "metadata": {},
   "outputs": [],
   "source": [
    "M = pd.read_csv(\"C:\\\\Users\\\\ricardo\\\\Desktop\\\\Clusters\\\\ClustersCirculos.csv\",dtype='str',encoding = \"ISO-8859-1\")\n",
    "M[M.columns] = M[M.columns].astype(float)\n",
    "from sklearn.cluster import KMeans #https://scikit-learn.org/stable/modules/generated/sklearn.cluster.KMeans.html\n",
    "KM = KMeans(n_clusters=2)\n",
    "KMedias = KM.fit(M)\n",
    "centroides = KMedias.cluster_centers_\n",
    "etiquetas = KMedias.predict(M)"
   ]
  },
  {
   "cell_type": "code",
   "execution_count": null,
   "metadata": {},
   "outputs": [],
   "source": [
    "print(centroides)"
   ]
  },
  {
   "cell_type": "code",
   "execution_count": null,
   "metadata": {},
   "outputs": [],
   "source": [
    "M[\"Etiquetas\"] = etiquetas"
   ]
  },
  {
   "cell_type": "code",
   "execution_count": null,
   "metadata": {},
   "outputs": [],
   "source": [
    "M.head()"
   ]
  },
  {
   "cell_type": "code",
   "execution_count": null,
   "metadata": {},
   "outputs": [],
   "source": [
    "#Etiqueta de colores\n",
    "vcolor = []\n",
    "for x in etiquetas:\n",
    "    if x == 0:\n",
    "        vcolor.extend([\"darkblue\"])\n",
    "    else:\n",
    "        vcolor.extend([\"red\"])"
   ]
  },
  {
   "cell_type": "code",
   "execution_count": null,
   "metadata": {},
   "outputs": [],
   "source": [
    "#Gráfica con colores por grupos\n",
    "fig = plt.figure(figsize=(6.,5.))\n",
    "#Gráficas exposición\n",
    "ax = fig.add_subplot(1,1,1)\n",
    "ax.set_title(\"Agrupaciones\")\n",
    "plt.scatter(M[\"Coordenada_X\"],M[\"Coordenada_Y\"],color=vcolor)\n",
    "plt.ylabel(\"Coordenada Y\")\n",
    "plt.xlabel(\"Coordenada X\")\n",
    "plt.show()"
   ]
  },
  {
   "cell_type": "markdown",
   "metadata": {},
   "source": [
    "# Heurística para determinar el número de grupos"
   ]
  },
  {
   "cell_type": "code",
   "execution_count": null,
   "metadata": {},
   "outputs": [],
   "source": [
    "M = pd.read_csv(\"C:\\\\Users\\\\ricardo\\\\Desktop\\\\Clusters\\\\ClustersCirculos.csv\",dtype='str',encoding = \"ISO-8859-1\")\n",
    "M[M.columns] = M[M.columns].astype(float)\n",
    "from sklearn.cluster import KMeans\n",
    "KM = KMeans(n_clusters=2)\n",
    "KMedias = KM.fit(M)\n",
    "centroides = KMedias.cluster_centers_\n",
    "etiquetas = KMedias.predict(M)\n",
    "KMedias.inertia_"
   ]
  },
  {
   "cell_type": "code",
   "execution_count": null,
   "metadata": {},
   "outputs": [],
   "source": [
    "M[\"Etiquetas\"] = etiquetas"
   ]
  },
  {
   "cell_type": "code",
   "execution_count": null,
   "metadata": {},
   "outputs": [],
   "source": [
    "N = range(1, 20)\n",
    "KM = [KMeans(n_clusters=i) for i in N]\n",
    "score = [KM[i].fit(M).inertia_ for i in range(len(KM))]\n",
    "plt.plot(N,score,color=\"darkblue\")\n",
    "plt.xlabel(\"Número de agrupaciones\")\n",
    "plt.ylabel(\"Criterio\")\n",
    "plt.title(\"Suma distancias al cuadrado\")\n",
    "plt.show()"
   ]
  },
  {
   "cell_type": "code",
   "execution_count": null,
   "metadata": {},
   "outputs": [],
   "source": [
    "#Función auxiliar\n",
    "#Distancia de un punto a un conjunto (suma)\n",
    "def D_ConjPunto2(v,A):\n",
    "    n = len(A)\n",
    "    vaux = []\n",
    "    for i in range(n):\n",
    "        w = A[i].copy()\n",
    "        d = D_Euc2(v,w)\n",
    "        vaux.extend([d])\n",
    "    dm = np.sum(vaux)\n",
    "    return(dm)\n",
    "#Ejemplo\n",
    "v, A = [0,0], [[1,1],[0,0.5],[0.8,0]]\n",
    "dm = D_ConjPunto2(v,A)\n",
    "print(\"La distancia al conjunto A es igual a \",dm)     "
   ]
  },
  {
   "cell_type": "code",
   "execution_count": null,
   "metadata": {},
   "outputs": [],
   "source": [
    "#Ejemplo (A)\n",
    "M.head()"
   ]
  },
  {
   "cell_type": "code",
   "execution_count": null,
   "metadata": {},
   "outputs": [],
   "source": [
    "#Ejemplo\n",
    "Maux = M.loc[M[\"Etiquetas\"]==0,:].copy(deep=True).reset_index(drop=True)\n",
    "Maux"
   ]
  },
  {
   "cell_type": "code",
   "execution_count": null,
   "metadata": {},
   "outputs": [],
   "source": [
    "#Función auxiliar\n",
    "def Dis_Grupos_Centroides(DF,vcent):\n",
    "    n = len(vcent)\n",
    "    vaux = []\n",
    "    for j in range(n):\n",
    "        Maux = DF.loc[DF[\"Etiquetas\"]==j,:].copy(deep=True).reset_index(drop=True)\n",
    "        Maux.drop(\"Etiquetas\",axis=1,inplace=True)\n",
    "        Gaux = []\n",
    "        for i in Maux.iterrows():\n",
    "            Gaux.extend([i[1].tolist()])\n",
    "        vaux.extend([D_ConjPunto2(vcent[j],Gaux)])\n",
    "    return np.sum(vaux)\n",
    "S2 = Dis_Grupos_Centroides(M,centroides)\n",
    "print(\"La suma de las distancias al cuadrado es igual a \",S2)"
   ]
  },
  {
   "cell_type": "code",
   "execution_count": null,
   "metadata": {},
   "outputs": [],
   "source": [
    "#Determinación de la agrupación de una nueva observación\n",
    "agrupacion = KMedias.predict(np.asarray([[3,2]]))\n",
    "print(\"La observación pertenece al grupo \",agrupacion[0])"
   ]
  },
  {
   "cell_type": "code",
   "execution_count": null,
   "metadata": {},
   "outputs": [],
   "source": []
  }
 ],
 "metadata": {
  "kernelspec": {
   "display_name": "Python 3",
   "language": "python",
   "name": "python3"
  },
  "language_info": {
   "codemirror_mode": {
    "name": "ipython",
    "version": 3
   },
   "file_extension": ".py",
   "mimetype": "text/x-python",
   "name": "python",
   "nbconvert_exporter": "python",
   "pygments_lexer": "ipython3",
   "version": "3.7.6"
  }
 },
 "nbformat": 4,
 "nbformat_minor": 2
}
