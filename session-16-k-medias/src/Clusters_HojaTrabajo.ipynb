{
 "cells": [
  {
   "cell_type": "markdown",
   "metadata": {},
   "source": [
    "# Clusters (distancia Euclidiana)"
   ]
  },
  {
   "cell_type": "code",
   "execution_count": null,
   "metadata": {},
   "outputs": [],
   "source": [
    "import numpy as np\n",
    "import pandas as pd\n",
    "import matplotlib.pyplot as plt\n",
    "import scipy.stats as stats\n",
    "from math import exp, log\n",
    "pd.set_option('display.max_columns',None)\n",
    "pd.set_option('display.max_rows',None)\n",
    "import warnings\n",
    "warnings.filterwarnings('ignore')\n",
    "pd.options.display.float_format = \"{:,.5f}\".format"
   ]
  },
  {
   "cell_type": "markdown",
   "metadata": {},
   "source": [
    "# Metodología 1 (sin el uso de librerías)"
   ]
  },
  {
   "cell_type": "code",
   "execution_count": null,
   "metadata": {},
   "outputs": [],
   "source": [
    "#Lectura de archivo\n",
    "M = pd.read_csv(\"C:\\\\Users\\\\ricardo\\\\Desktop\\\\Clusters\\\\ClustersEjemplo1.csv\",dtype='str',encoding = \"ISO-8859-1\")\n",
    "M[M.columns] = M[M.columns].astype(float)"
   ]
  },
  {
   "cell_type": "code",
   "execution_count": null,
   "metadata": {},
   "outputs": [],
   "source": [
    "#Gráfica de datos\n",
    "fig = plt.figure(figsize=(6.,5.))\n",
    "#Gráficas exposición\n",
    "ax = fig.add_subplot(1,1,1)\n",
    "ax.set_title(\"Agrupaciones\")\n",
    "plt.scatter(M[\"Coordenada_X\"],M[\"Coordenada_Y\"])\n",
    "plt.xlim(-10,10)\n",
    "plt.ylim(-1,4)\n",
    "plt.ylabel(\"Coordenada Y\")\n",
    "plt.xlabel(\"Coordenada X\")\n",
    "plt.show()"
   ]
  },
  {
   "cell_type": "markdown",
   "metadata": {},
   "source": [
    "# Funciones auxiliares"
   ]
  },
  {
   "cell_type": "code",
   "execution_count": null,
   "metadata": {},
   "outputs": [],
   "source": [
    "#Distancia Euclidiana entre dos puntos\n",
    "def D_Euc(v,w):\n",
    "    n, d = len(v), 0\n",
    "    for i in range(n):\n",
    "        d = d + (v[i]-w[i])**2\n",
    "    d = d**(0.5)\n",
    "    return(d)\n",
    "#Ejemplo\n",
    "v, w = [0,0], [1,1]\n",
    "d = D_Euc(v,w)\n",
    "print(\"La distancia Euclidiana es igual a \",d)"
   ]
  },
  {
   "cell_type": "code",
   "execution_count": null,
   "metadata": {},
   "outputs": [],
   "source": [
    "#Distancia de un punto a un conjunto\n",
    "def D_ConjPunto(v,A):\n",
    "    n = len(A)\n",
    "    vaux = []\n",
    "    for i in range(n):\n",
    "        w = A[i].copy()\n",
    "        d = D_Euc(v,w)\n",
    "        vaux.extend([d])\n",
    "    dm = min(vaux)\n",
    "    return(dm)\n",
    "#Ejemplo\n",
    "v, A = [0,0], [[1,1],[0,0.5],[0.8,0]]\n",
    "dm = D_ConjPunto(v,A)\n",
    "print(\"La distancia al conjunto A es igual a \",dm)     "
   ]
  },
  {
   "cell_type": "code",
   "execution_count": null,
   "metadata": {},
   "outputs": [],
   "source": [
    "#Distancia entre dos conjuntos\n",
    "def D_ConjConj(A,B):\n",
    "    n = len(A)\n",
    "    vaux = []\n",
    "    for i in range(n):\n",
    "        v = A[i].copy()\n",
    "        vaux.extend([D_ConjPunto(v,B)])\n",
    "    dC = min(vaux)\n",
    "    return(dC)\n",
    "#Ejemplo\n",
    "A, B = [[1,1],[0,0.5],[0.8,0]], [[0,0],[1,1]]\n",
    "dC = D_ConjConj(A,B)\n",
    "print(\"La distancia entre el conjunto A y el conjunto B es igual a \",dC)   "
   ]
  },
  {
   "cell_type": "markdown",
   "metadata": {},
   "source": [
    "# Algoritmo Cluster"
   ]
  },
  {
   "cell_type": "code",
   "execution_count": null,
   "metadata": {},
   "outputs": [],
   "source": [
    "#Matriz de distancias\n",
    "P1, P2, P3, P4, P5, P6 = [M.iloc[0,0],M.iloc[0,1]], [M.iloc[1,0],M.iloc[1,1]], [M.iloc[2,0],M.iloc[2,1]], \\\n",
    "                        [M.iloc[3,0],M.iloc[3,1]], [M.iloc[4,0],M.iloc[4,1]], [M.iloc[5,0],M.iloc[5,1]]\n",
    "n = len(M.index)\n",
    "vaux = [\"Punto_\" + str(i+1) for i in range(n)]\n",
    "Md_P1 = pd.DataFrame(index=range(n),columns=vaux)\n",
    "for i in range(n):\n",
    "    vaux = []\n",
    "    v = [M.iloc[i,0],M.iloc[i,1]]\n",
    "    for j in range(n):\n",
    "        w = [M.iloc[j,0],M.iloc[j,1]]\n",
    "        d = D_Euc(v,w)\n",
    "        Md_P1.iloc[i,j] = d\n",
    "Md_P1     "
   ]
  },
  {
   "cell_type": "code",
   "execution_count": null,
   "metadata": {},
   "outputs": [],
   "source": [
    "#Paso 2. Se junta P1 y P2\n",
    "P1_P2 = [P1,P2]\n",
    "Md_P2 = pd.DataFrame(index=range(5),columns=[\"P1_P2\",\"P3\",\"P4\",\"P5\",\"P6\"])\n",
    "#Cálculo manual de distancias\n",
    "Md_P2.iloc[0,:] = [0,D_ConjPunto(P3,P1_P2),D_ConjPunto(P4,P1_P2),D_ConjPunto(P5,P1_P2),D_ConjPunto(P6,P1_P2)]\n",
    "Md_P2.iloc[1,:] = [D_ConjPunto(P3,P1_P2),D_Euc(P3,P3),D_Euc(P3,P4),D_Euc(P3,P5),D_Euc(P3,P6)]\n",
    "Md_P2.iloc[2,:] = [D_ConjPunto(P4,P1_P2),D_Euc(P4,P3),D_Euc(P4,P4),D_Euc(P4,P5),D_Euc(P4,P6)]\n",
    "Md_P2.iloc[3,:] = [D_ConjPunto(P5,P1_P2),D_Euc(P5,P3),D_Euc(P5,P4),D_Euc(P5,P5),D_Euc(P5,P6)]\n",
    "Md_P2.iloc[4,:] = [D_ConjPunto(P6,P1_P2),D_Euc(P6,P3),D_Euc(P6,P4),D_Euc(P6,P5),D_Euc(P6,P6)]\n",
    "Md_P2"
   ]
  },
  {
   "cell_type": "code",
   "execution_count": null,
   "metadata": {},
   "outputs": [],
   "source": [
    "#Paso 3. Se junta P1_P2 con P3\n",
    "P1_P2_P3 = [P1,P2,P3]\n",
    "Md_P3 = pd.DataFrame(index=range(4),columns=[\"P1_P2_P3\",\"P4\",\"P5\",\"P6\"])\n",
    "#Cálculo manual de distancias\n",
    "Md_P3.iloc[0,:] = [0,D_ConjPunto(P4,P1_P2_P3),D_ConjPunto(P5,P1_P2_P3),D_ConjPunto(P6,P1_P2_P3)]\n",
    "Md_P3.iloc[1,:] = [D_ConjPunto(P4,P1_P2_P3),D_Euc(P4,P4),D_Euc(P4,P5),D_Euc(P4,P6)]\n",
    "Md_P3.iloc[2,:] = [D_ConjPunto(P5,P1_P2_P3),D_Euc(P5,P4),D_Euc(P5,P5),D_Euc(P5,P6)]\n",
    "Md_P3.iloc[3,:] = [D_ConjPunto(P6,P1_P2_P3),D_Euc(P6,P4),D_Euc(P6,P5),D_Euc(P6,P6)]\n",
    "Md_P3"
   ]
  },
  {
   "cell_type": "code",
   "execution_count": null,
   "metadata": {},
   "outputs": [],
   "source": [
    "#Paso 4. Se junta P4 con P5\n",
    "P1_P2_P3 = [P1,P2,P3]\n",
    "P4_P5 = [P4,P5]\n",
    "Md_P4 = pd.DataFrame(index=range(3),columns=[\"P1_P2_P3\",\"P4_P5\",\"P6\"])\n",
    "#Cálculo manual de distancias\n",
    "Md_P4.iloc[0,:] = [0,D_ConjConj(P1_P2_P3,P4_P5),D_ConjPunto(P6,P1_P2_P3)]\n",
    "Md_P4.iloc[1,:] = [D_ConjConj(P1_P2_P3,P4_P5),0,D_ConjPunto(P6,P4_P5)]\n",
    "Md_P4.iloc[2,:] = [D_ConjPunto(P6,P1_P2_P3),D_ConjPunto(P6,P4_P5),D_Euc(P6,P6)]\n",
    "Md_P4"
   ]
  },
  {
   "cell_type": "code",
   "execution_count": null,
   "metadata": {},
   "outputs": [],
   "source": [
    "#Paso 5. Se junta P4_P5 con P5\n",
    "P1_P2_P3 = [P1,P2,P3]\n",
    "P4_P5_P6 = [P4,P5,P6]\n",
    "Md_P5 = pd.DataFrame(index=range(2),columns=[\"P1_P2_P3\",\"P4_P5_P6\"])\n",
    "#Cálculo manual de distancias\n",
    "Md_P5.iloc[0,:] = [D_ConjConj(P1_P2_P3,P1_P2_P3),D_ConjConj(P1_P2_P3,P4_P5_P6)]\n",
    "Md_P5.iloc[1,:] = [D_ConjConj(P1_P2_P3,P4_P5_P6),D_ConjConj(P4_P5_P6,P4_P5_P6)]\n",
    "Md_P5"
   ]
  },
  {
   "cell_type": "code",
   "execution_count": null,
   "metadata": {},
   "outputs": [],
   "source": [
    "#Gráfica con colores por grupos\n",
    "c = [\"darkblue\",\"darkblue\",\"darkblue\",\"red\",\"red\",\"red\"]\n",
    "fig = plt.figure(figsize=(6.,5.))\n",
    "#Gráficas exposición\n",
    "ax = fig.add_subplot(1,1,1)\n",
    "ax.set_title(\"Agrupaciones\")\n",
    "plt.scatter(M[\"Coordenada_X\"],M[\"Coordenada_Y\"],color=c)\n",
    "plt.xlim(-10,10)\n",
    "plt.ylim(-1,4)\n",
    "plt.ylabel(\"Densidad\")\n",
    "plt.xlabel(\"Miles de millones de pesos\")\n",
    "plt.show()"
   ]
  },
  {
   "cell_type": "code",
   "execution_count": null,
   "metadata": {},
   "outputs": [],
   "source": [
    "import scipy.cluster.hierarchy as sch #https://docs.scipy.org/doc/scipy/reference/cluster.hierarchy.html\n",
    "dendrogram = sch.dendrogram(sch.linkage(M, method = 'single',metric='euclidean'))\n",
    "plt.title('Dendograma')\n",
    "plt.xlabel('Puntos')\n",
    "plt.ylabel('Distancias Euclidianas')\n",
    "plt.show()"
   ]
  },
  {
   "cell_type": "markdown",
   "metadata": {},
   "source": [
    "# Metodología 2 (usando librerías)"
   ]
  },
  {
   "cell_type": "code",
   "execution_count": null,
   "metadata": {},
   "outputs": [],
   "source": [
    "#Lectura de archivo\n",
    "M = pd.read_csv(\"C:\\\\Users\\\\ricardo\\\\Desktop\\\\Clusters\\\\ClustersCirculos.csv\",dtype='str',encoding = \"ISO-8859-1\")\n",
    "M[M.columns] = M[M.columns].astype(float)\n",
    "M.head()"
   ]
  },
  {
   "cell_type": "code",
   "execution_count": null,
   "metadata": {},
   "outputs": [],
   "source": [
    "#Gráfica de datos\n",
    "fig = plt.figure(figsize=(6.,5.))\n",
    "#Gráficas exposición\n",
    "ax = fig.add_subplot(1,1,1)\n",
    "ax.set_title(\"Agrupaciones\")\n",
    "plt.scatter(M[\"Coordenada_X\"],M[\"Coordenada_Y\"])\n",
    "plt.ylabel(\"Coordenada Y\")\n",
    "plt.xlabel(\"Coordenada X\")\n",
    "plt.show()"
   ]
  },
  {
   "cell_type": "code",
   "execution_count": null,
   "metadata": {},
   "outputs": [],
   "source": [
    "import scipy.cluster.hierarchy as sch\n",
    "dendrogram = sch.dendrogram(sch.linkage(M, method = 'single',metric='euclidean')) #https://docs.scipy.org/doc/scipy/reference/generated/scipy.cluster.hierarchy.linkage.html#scipy.cluster.hierarchy.linkage\n",
    "plt.title('Dendograma')\n",
    "plt.xlabel('Puntos')\n",
    "plt.ylabel('Distancias Euclidianas')\n",
    "plt.xticks(fontsize=5, rotation=90)\n",
    "plt.show()"
   ]
  },
  {
   "cell_type": "code",
   "execution_count": null,
   "metadata": {},
   "outputs": [],
   "source": [
    "from sklearn.cluster import AgglomerativeClustering\n",
    "CL = AgglomerativeClustering(n_clusters=2, affinity='euclidean', linkage='single')\n",
    "cluster = CL.fit_predict(M)\n",
    "M[\"Etiquetas\"] = cluster\n",
    "M.head()"
   ]
  },
  {
   "cell_type": "code",
   "execution_count": null,
   "metadata": {},
   "outputs": [],
   "source": [
    "plt.figure(figsize=(7, 5))\n",
    "plt.scatter(M[\"Coordenada_X\"], M[\"Coordenada_Y\"], c=cluster, cmap='rainbow')\n",
    "plt.show()"
   ]
  },
  {
   "cell_type": "code",
   "execution_count": null,
   "metadata": {},
   "outputs": [],
   "source": []
  }
 ],
 "metadata": {
  "kernelspec": {
   "display_name": "Python 3",
   "language": "python",
   "name": "python3"
  },
  "language_info": {
   "codemirror_mode": {
    "name": "ipython",
    "version": 3
   },
   "file_extension": ".py",
   "mimetype": "text/x-python",
   "name": "python",
   "nbconvert_exporter": "python",
   "pygments_lexer": "ipython3",
   "version": "3.7.6"
  }
 },
 "nbformat": 4,
 "nbformat_minor": 2
}
