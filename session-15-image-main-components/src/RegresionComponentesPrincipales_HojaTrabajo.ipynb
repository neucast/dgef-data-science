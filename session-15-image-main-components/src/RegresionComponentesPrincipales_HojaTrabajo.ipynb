{
 "cells": [
  {
   "cell_type": "markdown",
   "metadata": {},
   "source": [
    "# Componentes principales y regresión lineal"
   ]
  },
  {
   "cell_type": "code",
   "execution_count": null,
   "metadata": {},
   "outputs": [],
   "source": [
    "import numpy as np\n",
    "import pandas as pd\n",
    "from scipy.stats import norm\n",
    "from scipy.stats import t as tstudent\n",
    "import scipy.stats as ss\n",
    "import matplotlib.pyplot as plt\n",
    "from datetime import datetime, date\n",
    "from pandas.plotting import scatter_matrix\n",
    "from sklearn.linear_model import LinearRegression\n",
    "pd.set_option('display.max_columns',None)\n",
    "pd.set_option('display.max_rows',None)"
   ]
  },
  {
   "cell_type": "markdown",
   "metadata": {},
   "source": [
    "# Lectura de base"
   ]
  },
  {
   "cell_type": "code",
   "execution_count": null,
   "metadata": {},
   "outputs": [],
   "source": [
    "B = pd.read_csv(\"C:\\\\Users\\\\ricardo\\\\Desktop\\\\ComponentesPrincipales\\\\BaseEjemplo_CP.csv\",dtype='str',encoding = \"ISO-8859-1\")\n",
    "B[B.columns] = B[B.columns].astype(float)\n",
    "B.head()"
   ]
  },
  {
   "cell_type": "markdown",
   "metadata": {},
   "source": [
    "# Aproximación mediante una regresión lineal múltiple"
   ]
  },
  {
   "cell_type": "code",
   "execution_count": null,
   "metadata": {},
   "outputs": [],
   "source": [
    "X = np.asarray(B[[\"X_1\",\"X_2\",\"X_3\",\"X_4\",\"X_5\"]])\n",
    "y = np.asarray(B[\"Y\"])\n",
    "lin_reg = LinearRegression()\n",
    "lin_reg.fit(X,y)\n",
    "print(lin_reg.intercept_)\n",
    "print(lin_reg.coef_)"
   ]
  },
  {
   "cell_type": "code",
   "execution_count": null,
   "metadata": {},
   "outputs": [],
   "source": [
    "y_hat = lin_reg.predict(X)"
   ]
  },
  {
   "cell_type": "code",
   "execution_count": null,
   "metadata": {},
   "outputs": [],
   "source": [
    "fig = plt.figure(figsize=(5.,5.))\n",
    "ax = fig.add_subplot(1,1,1)\n",
    "ax.set_title(\"Ajuste Regresión Lineal\")\n",
    "ax.plot(range(1,len(y)+1),y,color=\"darkblue\",linewidth=2,label=\"Valor real\")\n",
    "ax.plot(range(1,len(y_hat)+1),y_hat,color=\"red\",ls=\"--\",label=\"Valor ajustado\")\n",
    "plt.xticks(rotation=90)\n",
    "plt.legend()\n",
    "plt.show()"
   ]
  },
  {
   "cell_type": "markdown",
   "metadata": {},
   "source": [
    "# Regresión con componentes principales"
   ]
  },
  {
   "cell_type": "code",
   "execution_count": null,
   "metadata": {},
   "outputs": [],
   "source": [
    "#Paso 1. Cálculo de la matriz de varianza-covarianza\n",
    "S = B[[\"X_1\",\"X_2\",\"X_3\",\"X_4\",\"X_5\"]].cov()"
   ]
  },
  {
   "cell_type": "code",
   "execution_count": null,
   "metadata": {},
   "outputs": [],
   "source": [
    "#Paso 2. Cálculo de los valores y vectores propios\n",
    "valp, vecp = np.linalg.eigh(S)"
   ]
  },
  {
   "cell_type": "code",
   "execution_count": null,
   "metadata": {},
   "outputs": [],
   "source": [
    "valp"
   ]
  },
  {
   "cell_type": "code",
   "execution_count": null,
   "metadata": {},
   "outputs": [],
   "source": [
    "vecp"
   ]
  },
  {
   "cell_type": "code",
   "execution_count": null,
   "metadata": {},
   "outputs": [],
   "source": [
    "#Verificación propiedad vectores y valor propios (Av = lambda v)\n",
    "#Se observa que para determinar el vector propio, deben seleccionarse las columnas.\n",
    "print(np.dot(S,vecp[:,3]))\n",
    "print(valp[3]*vecp[:,3])"
   ]
  },
  {
   "cell_type": "code",
   "execution_count": null,
   "metadata": {},
   "outputs": [],
   "source": [
    "#Limpieza del valor de los valores propios\n",
    "valp2 = []\n",
    "for i in range(len(valp)):\n",
    "    valp2.extend([abs(np.round(valp[i],5))])\n",
    "valp2"
   ]
  },
  {
   "cell_type": "code",
   "execution_count": null,
   "metadata": {},
   "outputs": [],
   "source": [
    "#Verificación de la propiesdad que la suma de los valores propios es la varianza total\n",
    "print(\"La suma de los valores propios es igual a \",sum(valp2))\n",
    "print(\"La varianza total es igual a \",np.trace(S))"
   ]
  },
  {
   "cell_type": "code",
   "execution_count": null,
   "metadata": {},
   "outputs": [],
   "source": [
    "#Determinación de los vectores propios\n",
    "v1, v2, v3, v4, v5 = vecp[:,0].copy(), vecp[:,1].copy(), vecp[:,2].copy(), vecp[:,3].copy(), vecp[:,4].copy()\n",
    "l1, l2, l3, l4, l5 = valp2[0], valp2[1], valp2[2], valp2[3], valp2[4]"
   ]
  },
  {
   "cell_type": "code",
   "execution_count": null,
   "metadata": {},
   "outputs": [],
   "source": [
    "#Construcción de las componentes principales\n",
    "BC = pd.DataFrame(index=range(len(B.index)),columns=[\"Y\",\"Y1\",\"Y2\",\"Y3\",\"Y4\",\"Y5\"])\n",
    "BC[\"Y\"] = B[\"Y\"]\n",
    "BC[\"Y1\"] = v1[0]*B[\"X_1\"] + v1[1]*B[\"X_2\"] + v1[2]*B[\"X_3\"] + v1[3]*B[\"X_4\"] + v1[4]*B[\"X_5\"]\n",
    "BC[\"Y2\"] = v2[0]*B[\"X_1\"] + v2[1]*B[\"X_2\"] + v2[2]*B[\"X_3\"] + v2[3]*B[\"X_4\"] + v2[4]*B[\"X_5\"]\n",
    "BC[\"Y3\"] = v3[0]*B[\"X_1\"] + v3[1]*B[\"X_2\"] + v3[2]*B[\"X_3\"] + v3[3]*B[\"X_4\"] + v3[4]*B[\"X_5\"]\n",
    "BC[\"Y4\"] = v4[0]*B[\"X_1\"] + v4[1]*B[\"X_2\"] + v4[2]*B[\"X_3\"] + v4[3]*B[\"X_4\"] + v4[4]*B[\"X_5\"]\n",
    "BC[\"Y5\"] = v5[0]*B[\"X_1\"] + v5[1]*B[\"X_2\"] + v5[2]*B[\"X_3\"] + v5[3]*B[\"X_4\"] + v5[4]*B[\"X_5\"]\n",
    "BC.head()"
   ]
  },
  {
   "cell_type": "code",
   "execution_count": null,
   "metadata": {},
   "outputs": [],
   "source": [
    "print(\"La varianza de la CP Y5 es igual a \",np.std(BC[\"Y5\"])**2, \"el valor propio asociado es\",valp2[4])\n",
    "print(\"La varianza de la CP Y4 es igual a \",np.std(BC[\"Y4\"])**2, \"el valor propio asociado es\",valp2[3])\n",
    "print(\"La varianza de la CP Y3 es igual a \",np.std(BC[\"Y3\"])**2, \"el valor propio asociado es\",valp2[2])\n",
    "print(\"La varianza de la CP Y2 es igual a \",np.std(BC[\"Y2\"])**2, \"el valor propio asociado es\",valp2[1])\n",
    "print(\"La varianza de la CP Y1 es igual a \",np.std(BC[\"Y1\"])**2, \"el valor propio asociado es\",valp2[0])"
   ]
  },
  {
   "cell_type": "markdown",
   "metadata": {},
   "source": [
    "# Regresión lineal con la componente principal Y5"
   ]
  },
  {
   "cell_type": "code",
   "execution_count": null,
   "metadata": {},
   "outputs": [],
   "source": [
    "X = np.asarray(BC[[\"Y5\"]])\n",
    "y = np.asarray(BC[\"Y\"])\n",
    "lin_reg = LinearRegression()\n",
    "lin_reg.fit(X,y)\n",
    "print(lin_reg.intercept_)\n",
    "print(lin_reg.coef_)\n",
    "y_hat = lin_reg.predict(X)"
   ]
  },
  {
   "cell_type": "code",
   "execution_count": null,
   "metadata": {},
   "outputs": [],
   "source": [
    "fig = plt.figure(figsize=(5.,5.))\n",
    "ax = fig.add_subplot(1,1,1)\n",
    "ax.set_title(\"Ajuste Regresión Lineal (Y5)\")\n",
    "ax.plot(range(1,len(y)+1),y,color=\"darkblue\",linewidth=2,label=\"Valor real\")\n",
    "ax.plot(range(1,len(y_hat)+1),y_hat,color=\"red\",ls=\"--\",label=\"Valor ajustado\")\n",
    "plt.xticks(rotation=90)\n",
    "plt.legend()\n",
    "plt.show()"
   ]
  },
  {
   "cell_type": "code",
   "execution_count": null,
   "metadata": {},
   "outputs": [],
   "source": [
    "print(\"La varianza explicada es igual a\", 100*valp2[4]/sum(valp2),\" por ciento\")"
   ]
  },
  {
   "cell_type": "markdown",
   "metadata": {},
   "source": [
    "# Ajuste de la regresión lineal con la componente principal Y4"
   ]
  },
  {
   "cell_type": "code",
   "execution_count": null,
   "metadata": {},
   "outputs": [],
   "source": [
    "X = np.asarray(BC[[\"Y4\"]])\n",
    "y = np.asarray(BC[\"Y\"])\n",
    "lin_reg = LinearRegression()\n",
    "lin_reg.fit(X,y)\n",
    "print(lin_reg.intercept_)\n",
    "print(lin_reg.coef_)\n",
    "y_hat = lin_reg.predict(X)"
   ]
  },
  {
   "cell_type": "code",
   "execution_count": null,
   "metadata": {},
   "outputs": [],
   "source": [
    "fig = plt.figure(figsize=(5.,5.))\n",
    "ax = fig.add_subplot(1,1,1)\n",
    "ax.set_title(\"Ajuste Regresión Lineal (Y4)\")\n",
    "ax.plot(range(1,len(y)+1),y,color=\"darkblue\",linewidth=2,label=\"Valor real\")\n",
    "ax.plot(range(1,len(y_hat)+1),y_hat,color=\"red\",ls=\"--\",label=\"Valor ajustado\")\n",
    "plt.xticks(rotation=90)\n",
    "plt.legend()\n",
    "plt.show()"
   ]
  },
  {
   "cell_type": "code",
   "execution_count": null,
   "metadata": {},
   "outputs": [],
   "source": [
    "print(\"La varianza explicada es igual a\", 100*valp2[3]/sum(valp2), \"por ciento\")"
   ]
  },
  {
   "cell_type": "markdown",
   "metadata": {},
   "source": [
    "# Ajuste de la regresión lineal con las componentes Y4 y Y5"
   ]
  },
  {
   "cell_type": "code",
   "execution_count": null,
   "metadata": {},
   "outputs": [],
   "source": [
    "X = np.asarray(BC[[\"Y4\",\"Y5\"]])\n",
    "y = np.asarray(BC[\"Y\"])\n",
    "lin_reg = LinearRegression()\n",
    "lin_reg.fit(X,y)\n",
    "print(lin_reg.intercept_)\n",
    "print(lin_reg.coef_)\n",
    "y_hat = lin_reg.predict(X)"
   ]
  },
  {
   "cell_type": "code",
   "execution_count": null,
   "metadata": {},
   "outputs": [],
   "source": [
    "fig = plt.figure(figsize=(5.,5.))\n",
    "ax = fig.add_subplot(1,1,1)\n",
    "ax.set_title(\"Ajuste Regresión Lineal (Y4)\")\n",
    "ax.plot(range(1,len(y)+1),y,color=\"darkblue\",linewidth=2,label=\"Valor real\")\n",
    "ax.plot(range(1,len(y_hat)+1),y_hat,color=\"red\",ls=\"--\",label=\"Valor ajustado\")\n",
    "plt.xticks(rotation=90)\n",
    "plt.legend()\n",
    "plt.show()"
   ]
  },
  {
   "cell_type": "code",
   "execution_count": null,
   "metadata": {},
   "outputs": [],
   "source": [
    "print(\"La varianza explicada es igual a\", 100*(valp2[3]+valp2[4])/sum(valp2), \" por ciento\")"
   ]
  },
  {
   "cell_type": "markdown",
   "metadata": {},
   "source": [
    "# Ajuste de la regresión lineal con las componentes Y2"
   ]
  },
  {
   "cell_type": "code",
   "execution_count": null,
   "metadata": {},
   "outputs": [],
   "source": [
    "X = np.asarray(BC[[\"Y2\"]])\n",
    "y = np.asarray(BC[\"Y\"])\n",
    "lin_reg = LinearRegression()\n",
    "lin_reg.fit(X,y)\n",
    "print(lin_reg.intercept_)\n",
    "print(lin_reg.coef_)\n",
    "y_hat = lin_reg.predict(X)"
   ]
  },
  {
   "cell_type": "code",
   "execution_count": null,
   "metadata": {},
   "outputs": [],
   "source": [
    "fig = plt.figure(figsize=(5.,5.))\n",
    "ax = fig.add_subplot(1,1,1)\n",
    "ax.set_title(\"Ajuste Regresión Lineal (Y2)\")\n",
    "ax.plot(range(1,len(y)+1),y,color=\"darkblue\",linewidth=2,label=\"Valor real\")\n",
    "ax.plot(range(1,len(y_hat)+1),y_hat,color=\"red\",ls=\"--\",label=\"Valor ajustado\")\n",
    "plt.xticks(rotation=90)\n",
    "plt.legend()\n",
    "plt.show()"
   ]
  },
  {
   "cell_type": "code",
   "execution_count": null,
   "metadata": {},
   "outputs": [],
   "source": [
    "print(\"La varianza explicada es igual a\", 100*valp2[2]/sum(valp2), \" por ciento\")"
   ]
  },
  {
   "cell_type": "markdown",
   "metadata": {},
   "source": [
    "# Ejercicio. El archivo \"BaseEjercicio_CP.csv\" contiene una variable dependiente y tres variables explicativas: 1) Mediante una regresión lineal múltiple realice un ajuste considerando toda la base, 2) Determine un número adecuado de componentes principales que proporcionen un ajuste a la variable dependiente, y 3) ¿cómo podría definirse un índice utilizando el resultado del inciso anterior?"
   ]
  },
  {
   "cell_type": "code",
   "execution_count": null,
   "metadata": {},
   "outputs": [],
   "source": []
  },
  {
   "cell_type": "code",
   "execution_count": null,
   "metadata": {},
   "outputs": [],
   "source": []
  }
 ],
 "metadata": {
  "kernelspec": {
   "display_name": "Python 3",
   "language": "python",
   "name": "python3"
  },
  "language_info": {
   "codemirror_mode": {
    "name": "ipython",
    "version": 3
   },
   "file_extension": ".py",
   "mimetype": "text/x-python",
   "name": "python",
   "nbconvert_exporter": "python",
   "pygments_lexer": "ipython3",
   "version": "3.7.6"
  }
 },
 "nbformat": 4,
 "nbformat_minor": 2
}
