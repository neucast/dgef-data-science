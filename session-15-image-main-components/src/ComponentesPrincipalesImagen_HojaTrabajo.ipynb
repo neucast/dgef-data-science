{
 "cells": [
  {
   "cell_type": "markdown",
   "metadata": {},
   "source": [
    "# Componentes principales en imágenes"
   ]
  },
  {
   "cell_type": "code",
   "execution_count": null,
   "metadata": {},
   "outputs": [],
   "source": [
    "import numpy as np\n",
    "import pandas as pd\n",
    "from scipy.stats import norm\n",
    "from scipy.stats import t as tstudent\n",
    "import scipy.stats as ss\n",
    "import matplotlib.pyplot as plt\n",
    "from datetime import datetime, date\n",
    "from pandas.plotting import scatter_matrix\n",
    "from sklearn.linear_model import LinearRegression\n",
    "from PIL import Image #Librería para el manejo de imágenes\n",
    "from IPython.display import display\n",
    "pd.set_option('display.max_columns',None)\n",
    "pd.set_option('display.max_rows',None)"
   ]
  },
  {
   "cell_type": "code",
   "execution_count": null,
   "metadata": {},
   "outputs": [],
   "source": [
    "def VecValP(Aaux,p): #Aaux es una matriz de varianza covarianza\n",
    "    A = np.asarray(Aaux)\n",
    "    val_prop, vec_prop = np.linalg.eig(A)\n",
    "    P = np.matrix.transpose(vec_prop) #En la matriz P los vectores propios se encuentran en los renglones.\n",
    "    d = {} #diccionario que tiene por llave el valor propio y por objeto el vector propio.\n",
    "    den = 0,\n",
    "    for i in range(len(val_prop)):\n",
    "        d[val_prop[i]] = P[i]\n",
    "        den = den + val_prop[i]\n",
    "    vkaux = list(d.keys())\n",
    "    vkaux.sort()\n",
    "    vk = []\n",
    "    for i in range(len(vkaux)):\n",
    "        vk.extend([vkaux[len(vkaux)-1-i]])\n",
    "    vval = []\n",
    "    vvec = []\n",
    "    acum = vk[0]/den\n",
    "    i = 0\n",
    "    while (acum <= float(p)) and (i < len(vk)):\n",
    "        vval.extend([vk[i]])\n",
    "        vvec.extend([d[vk[i]]])\n",
    "        acum = acum + vk[min([i+1,len(vk)-1])]/den\n",
    "        i = i + 1\n",
    "    vvec = np.asarray(vvec)\n",
    "    vvec = np.matrix.transpose(vvec) #vvec tiene por columnas los vectores propios.\n",
    "    return [val_prop,vec_prop,vval,vvec]\n",
    "#Ejemplo.\n",
    "Aaux = [[1.,1.],[-2.,4.]]\n",
    "x = VecValP(Aaux,1.0)\n",
    "print(x[0])\n",
    "print(x[1])"
   ]
  },
  {
   "cell_type": "code",
   "execution_count": null,
   "metadata": {},
   "outputs": [],
   "source": [
    "def PixelToMatrix(A): #A es una matriz (en formato array) en donde cada entrada es un vector de dimensión 3 (pixel)\n",
    "    M = []\n",
    "    n = len(A)\n",
    "    m = len(A[0])\n",
    "    for i in range(n):\n",
    "        vaux1 = []\n",
    "        vaux2 = []\n",
    "        vaux3 = []\n",
    "        for j in range(m):\n",
    "            vaux1.extend([A[i][j][0]]) \n",
    "            vaux2.extend([A[i][j][1]]) \n",
    "            vaux3.extend([A[i][j][2]])\n",
    "        M.extend([vaux1]) \n",
    "        M.extend([vaux2]) \n",
    "        M.extend([vaux3])\n",
    "    return M\n",
    "\n",
    "def MatrixToPixel(M): #M es una matriz (en formato lectura csv) cada grupo de 3 renglones determina las entradas de un pixel\n",
    "    MP = []\n",
    "    n = len(M)\n",
    "    m = len(M[0])\n",
    "    i = 0\n",
    "    while i <= n-3:\n",
    "        vr = []\n",
    "        for j in range(m):\n",
    "            vr.extend([[M[i][j],M[i+1][j],M[i+2][j]]])\n",
    "        MP.extend([vr])\n",
    "        i = i + 3\n",
    "    MP = np.asarray(MP)\n",
    "    return(MP)"
   ]
  },
  {
   "cell_type": "code",
   "execution_count": null,
   "metadata": {},
   "outputs": [],
   "source": [
    "ruta1 = \"Ruta Entrada Archivo.jpg\"\n",
    "Iaux = Image.open(ruta1)\n",
    "I = np.asarray(Iaux)\n",
    "A = PixelToMatrix(I)\n",
    "#Cálculo de la matriz de Varianza-Covarianza.\n",
    "A = np.asarray(A)\n",
    "At = np.matrix.transpose(A) \n",
    "S = np.cov(At)\n",
    "x = VecValP(S,1.00)\n",
    "P = x[3]\n",
    "Pt = np.matrix.transpose(P) \n",
    "Y = np.dot(Pt,At)\n",
    "Yt = np.matrix.transpose(Y)\n",
    "X = np.dot(Yt,Pt) \n",
    "B = MatrixToPixel(X)\n",
    "I2 = Image.fromarray(B.astype('uint8'))\n",
    "rutas = \"Ruta Salida Archivo.jpg\"\n",
    "I2.save(rutas)"
   ]
  },
  {
   "cell_type": "code",
   "execution_count": null,
   "metadata": {},
   "outputs": [],
   "source": [
    "#Visualización de las imágenes\n",
    "from IPython.display import Image\n",
    "Imagen_1 = Image(\"Ruta Entrada Archivo.jpg\",width=200,height=200)\n",
    "Imagen_2 = Image(\"Ruta Salida Archivo.jpg\",width=200,height=200)"
   ]
  },
  {
   "cell_type": "code",
   "execution_count": null,
   "metadata": {},
   "outputs": [],
   "source": [
    "display(Imagen_1)"
   ]
  },
  {
   "cell_type": "code",
   "execution_count": null,
   "metadata": {},
   "outputs": [],
   "source": [
    "display(Imagen_2)"
   ]
  },
  {
   "cell_type": "code",
   "execution_count": null,
   "metadata": {},
   "outputs": [],
   "source": []
  }
 ],
 "metadata": {
  "kernelspec": {
   "display_name": "Python 3",
   "language": "python",
   "name": "python3"
  },
  "language_info": {
   "codemirror_mode": {
    "name": "ipython",
    "version": 3
   },
   "file_extension": ".py",
   "mimetype": "text/x-python",
   "name": "python",
   "nbconvert_exporter": "python",
   "pygments_lexer": "ipython3",
   "version": "3.7.6"
  }
 },
 "nbformat": 4,
 "nbformat_minor": 2
}
