{
 "cells": [
  {
   "cell_type": "markdown",
   "metadata": {},
   "source": [
    "# Herramientas auxiliares"
   ]
  },
  {
   "cell_type": "code",
   "execution_count": 1,
   "metadata": {},
   "outputs": [],
   "source": [
    "import numpy as np\n",
    "import pandas as pd\n",
    "from scipy.stats import norm\n",
    "from scipy.stats import t as tstudent\n",
    "import scipy.stats as ss\n",
    "import matplotlib.pyplot as plt\n",
    "from datetime import datetime, date\n",
    "from pandas.plotting import scatter_matrix\n",
    "from sklearn.linear_model import LinearRegression\n",
    "pd.set_option('display.max_columns',None)\n",
    "pd.set_option('display.max_rows',None)"
   ]
  },
  {
   "cell_type": "markdown",
   "metadata": {},
   "source": [
    "# Simulación de base"
   ]
  },
  {
   "cell_type": "code",
   "execution_count": 2,
   "metadata": {},
   "outputs": [],
   "source": [
    "S = [[1,2,-3],[2,5,-1],[-3,-1,40]]\n",
    "vMedias = [1,1,1]\n",
    "Nsimul = 1000\n",
    "M = np.random.multivariate_normal(vMedias,S,Nsimul)"
   ]
  },
  {
   "cell_type": "code",
   "execution_count": 3,
   "metadata": {},
   "outputs": [
    {
     "data": {
      "text/html": [
       "<div>\n",
       "<style scoped>\n",
       "    .dataframe tbody tr th:only-of-type {\n",
       "        vertical-align: middle;\n",
       "    }\n",
       "\n",
       "    .dataframe tbody tr th {\n",
       "        vertical-align: top;\n",
       "    }\n",
       "\n",
       "    .dataframe thead th {\n",
       "        text-align: right;\n",
       "    }\n",
       "</style>\n",
       "<table border=\"1\" class=\"dataframe\">\n",
       "  <thead>\n",
       "    <tr style=\"text-align: right;\">\n",
       "      <th></th>\n",
       "      <th>X_1</th>\n",
       "      <th>X_2</th>\n",
       "      <th>X_3</th>\n",
       "    </tr>\n",
       "  </thead>\n",
       "  <tbody>\n",
       "    <tr>\n",
       "      <th>0</th>\n",
       "      <td>0.233860</td>\n",
       "      <td>-0.586074</td>\n",
       "      <td>2.558138</td>\n",
       "    </tr>\n",
       "    <tr>\n",
       "      <th>1</th>\n",
       "      <td>-0.445601</td>\n",
       "      <td>-1.522556</td>\n",
       "      <td>6.880690</td>\n",
       "    </tr>\n",
       "    <tr>\n",
       "      <th>2</th>\n",
       "      <td>-0.327102</td>\n",
       "      <td>-2.119677</td>\n",
       "      <td>1.619661</td>\n",
       "    </tr>\n",
       "    <tr>\n",
       "      <th>3</th>\n",
       "      <td>-0.917268</td>\n",
       "      <td>-2.440831</td>\n",
       "      <td>10.712293</td>\n",
       "    </tr>\n",
       "    <tr>\n",
       "      <th>4</th>\n",
       "      <td>0.670018</td>\n",
       "      <td>-0.611210</td>\n",
       "      <td>-1.568405</td>\n",
       "    </tr>\n",
       "  </tbody>\n",
       "</table>\n",
       "</div>"
      ],
      "text/plain": [
       "        X_1       X_2        X_3\n",
       "0  0.233860 -0.586074   2.558138\n",
       "1 -0.445601 -1.522556   6.880690\n",
       "2 -0.327102 -2.119677   1.619661\n",
       "3 -0.917268 -2.440831  10.712293\n",
       "4  0.670018 -0.611210  -1.568405"
      ]
     },
     "execution_count": 3,
     "metadata": {},
     "output_type": "execute_result"
    }
   ],
   "source": [
    "B = pd.DataFrame(index=range(Nsimul),columns=[\"X_1\",\"X_2\",\"X_3\"])\n",
    "for i in range(len(M)):\n",
    "    B.iloc[i,:] = M[i]\n",
    "B[B.columns] = B[B.columns].astype(float)\n",
    "B.head()"
   ]
  },
  {
   "cell_type": "code",
   "execution_count": 4,
   "metadata": {},
   "outputs": [],
   "source": [
    "#Exportación de base\n",
    "B[[\"X_1\",\"X_2\",\"X_3\"]].to_csv(\"C:\\\\Users\\\\ricardo\\\\Desktop\\\\ComponentesPrincipales\\\\BaseEjemplo_Auxiliares.csv\",index=False)"
   ]
  },
  {
   "cell_type": "markdown",
   "metadata": {},
   "source": [
    "# Media y varianza"
   ]
  },
  {
   "cell_type": "code",
   "execution_count": 5,
   "metadata": {},
   "outputs": [],
   "source": [
    "def Media(v):\n",
    "    suma = 0\n",
    "    for i in range(len(v)):\n",
    "        suma = suma + v[i]\n",
    "    return suma/len(v)\n",
    "def Varianza(v):\n",
    "    suma = 0\n",
    "    m, n = Media(v), len(v)\n",
    "    for i in range(n):\n",
    "        suma = suma + (v[i] - m)**2\n",
    "    return suma/(n)\n",
    "def Varianza2(v):\n",
    "    suma = 0\n",
    "    m, n = Media(v), len(v)\n",
    "    for i in range(n):\n",
    "        suma = suma + (v[i] - m)**2\n",
    "    return suma/(n-1)"
   ]
  },
  {
   "cell_type": "code",
   "execution_count": 6,
   "metadata": {},
   "outputs": [
    {
     "name": "stdout",
     "output_type": "stream",
     "text": [
      "La media calculada con la función definida es  0.9951153097081809\n",
      "La media calculada con la Python es  0.9951153097081791\n",
      "La varianza calculada con la función definida es  0.9635038315443124\n",
      "La varianza calculada con la Python es  0.9635038315443122\n"
     ]
    }
   ],
   "source": [
    "#Comparativo entre las funciones definidas y las funciones de Python\n",
    "v = B[\"X_1\"].values.tolist()\n",
    "print(\"La media calculada con la función definida es \",Media(v))\n",
    "print(\"La media calculada con la Python es \",np.mean(v))\n",
    "print(\"La varianza calculada con la función definida es \",Varianza(v))\n",
    "print(\"La varianza calculada con la Python es \",np.std(v)**2)"
   ]
  },
  {
   "cell_type": "code",
   "execution_count": 7,
   "metadata": {},
   "outputs": [
    {
     "data": {
      "image/png": "[encoded data removed]",
      "text/plain": [
       "<Figure size 1080x360 with 3 Axes>"
      ]
     },
     "metadata": {
      "needs_background": "light"
     },
     "output_type": "display_data"
    }
   ],
   "source": [
    "fig = plt.figure(figsize=(15.,5.))\n",
    "ax = fig.add_subplot(1,3,1)\n",
    "ax.set_title(\"Varianza igual a 1\")\n",
    "ax.plot(range(1,len(B[\"X_1\"].values)+1),B[\"X_1\"].values,color=\"darkblue\",linewidth=2)\n",
    "plt.axhline(1,color=\"red\",ls=\"--\")\n",
    "plt.ylim(-25,25)\n",
    "plt.xticks(rotation=90)\n",
    "ax = fig.add_subplot(1,3,2)\n",
    "ax.set_title(\"Varianza igual a 5\")\n",
    "ax.plot(range(1,len(B[\"X_2\"].values)+1),B[\"X_2\"].values,color=\"darkblue\",linewidth=2)\n",
    "plt.axhline(1,color=\"red\",ls=\"--\")\n",
    "plt.ylim(-25,25)\n",
    "plt.xticks(rotation=90)\n",
    "ax = fig.add_subplot(1,3,3)\n",
    "ax.set_title(\"Varianza igual a 40\")\n",
    "ax.plot(range(1,len(B[\"X_3\"].values)+1),B[\"X_3\"].values,color=\"darkblue\",linewidth=2)\n",
    "plt.axhline(1,color=\"red\",ls=\"--\")\n",
    "plt.ylim(-25,25)\n",
    "plt.xticks(rotation=90)\n",
    "plt.show()"
   ]
  },
  {
   "cell_type": "markdown",
   "metadata": {},
   "source": [
    "# Covarianza"
   ]
  },
  {
   "cell_type": "code",
   "execution_count": 8,
   "metadata": {},
   "outputs": [],
   "source": [
    "def Covarianza(v,w):\n",
    "    m1, m2 = Media(v), Media(w)\n",
    "    suma, n = 0, len(v)\n",
    "    for i in range(n):\n",
    "        suma = suma + (v[i] - m1)*(w[i] - m2)\n",
    "    return suma/(n-1)"
   ]
  },
  {
   "cell_type": "code",
   "execution_count": 9,
   "metadata": {},
   "outputs": [
    {
     "name": "stdout",
     "output_type": "stream",
     "text": [
      "La covarianza calculada con la función definida es igual a  1.9810420809911684\n",
      "La covarianza calculada con Python es igual a  1.9810420809911686\n"
     ]
    }
   ],
   "source": [
    "v = B[\"X_1\"].values.tolist()\n",
    "w = B[\"X_2\"].values.tolist()\n",
    "print(\"La covarianza calculada con la función definida es igual a \",Covarianza(v,w))\n",
    "print(\"La covarianza calculada con Python es igual a \",np.cov(v,w)[0][1])"
   ]
  },
  {
   "cell_type": "code",
   "execution_count": 10,
   "metadata": {},
   "outputs": [
    {
     "name": "stdout",
     "output_type": "stream",
     "text": [
      "La covarianza calculada con la función definida es igual a  -2.6333072592877467\n",
      "La covarianza calculada con Python es igual a  -2.633307259287743\n"
     ]
    }
   ],
   "source": [
    "v = B[\"X_1\"].values.tolist()\n",
    "w = B[\"X_3\"].values.tolist()\n",
    "print(\"La covarianza calculada con la función definida es igual a \",Covarianza(v,w))\n",
    "print(\"La covarianza calculada con Python es igual a \",np.cov(v,w)[0][1])"
   ]
  },
  {
   "cell_type": "markdown",
   "metadata": {},
   "source": [
    "# Correlación"
   ]
  },
  {
   "cell_type": "code",
   "execution_count": 11,
   "metadata": {},
   "outputs": [],
   "source": [
    "def Correlación(v,w):\n",
    "    C = Covarianza(v,w)\n",
    "    r = C/((Varianza2(v)*Varianza2(w))**0.5)\n",
    "    return r"
   ]
  },
  {
   "cell_type": "code",
   "execution_count": 12,
   "metadata": {},
   "outputs": [
    {
     "name": "stdout",
     "output_type": "stream",
     "text": [
      "La correlación calculada con la función definida es igual a  0.8949349753846747\n",
      "La correlación calculada con Python es igual a  0.8949349753846755\n"
     ]
    }
   ],
   "source": [
    "v = B[\"X_1\"].values.tolist()\n",
    "w = B[\"X_2\"].values.tolist()\n",
    "print(\"La correlación calculada con la función definida es igual a \",Correlación(v,w))\n",
    "print(\"La correlación calculada con Python es igual a \",ss.pearsonr(v,w)[0])"
   ]
  },
  {
   "cell_type": "code",
   "execution_count": 13,
   "metadata": {},
   "outputs": [
    {
     "name": "stdout",
     "output_type": "stream",
     "text": [
      "La correlación calculada con la función definida es igual a  -0.4307263420914886\n",
      "La correlación calculada con Python es igual a  -0.4307263420914881\n"
     ]
    }
   ],
   "source": [
    "v = B[\"X_1\"].values.tolist()\n",
    "w = B[\"X_3\"].values.tolist()\n",
    "print(\"La correlación calculada con la función definida es igual a \",Correlación(v,w))\n",
    "print(\"La correlación calculada con Python es igual a \",ss.pearsonr(v,w)[0])"
   ]
  },
  {
   "cell_type": "code",
   "execution_count": 14,
   "metadata": {},
   "outputs": [
    {
     "data": {
      "image/png": "[encoded data removed]",
      "text/plain": [
       "<Figure size 1080x360 with 2 Axes>"
      ]
     },
     "metadata": {
      "needs_background": "light"
     },
     "output_type": "display_data"
    }
   ],
   "source": [
    "fig = plt.figure(figsize=(15.,5.))\n",
    "ax = fig.add_subplot(1,2,1)\n",
    "ax.set_title(\"Correlación positiva\")\n",
    "ax.scatter(B[\"X_1\"].values,B[\"X_2\"].values,color=\"darkblue\",linewidth=2)\n",
    "ax = fig.add_subplot(1,2,2)\n",
    "ax.set_title(\"Correlación negativa\")\n",
    "ax.scatter(B[\"X_1\"].values,B[\"X_3\"].values,color=\"darkblue\",linewidth=2)\n",
    "plt.show()"
   ]
  },
  {
   "cell_type": "markdown",
   "metadata": {},
   "source": [
    "# Cálculos en Python (pandas)"
   ]
  },
  {
   "cell_type": "code",
   "execution_count": 15,
   "metadata": {},
   "outputs": [
    {
     "data": {
      "text/html": [
       "<div>\n",
       "<style scoped>\n",
       "    .dataframe tbody tr th:only-of-type {\n",
       "        vertical-align: middle;\n",
       "    }\n",
       "\n",
       "    .dataframe tbody tr th {\n",
       "        vertical-align: top;\n",
       "    }\n",
       "\n",
       "    .dataframe thead th {\n",
       "        text-align: right;\n",
       "    }\n",
       "</style>\n",
       "<table border=\"1\" class=\"dataframe\">\n",
       "  <thead>\n",
       "    <tr style=\"text-align: right;\">\n",
       "      <th></th>\n",
       "      <th>X_1</th>\n",
       "      <th>X_2</th>\n",
       "      <th>X_3</th>\n",
       "    </tr>\n",
       "  </thead>\n",
       "  <tbody>\n",
       "    <tr>\n",
       "      <th>X_1</th>\n",
       "      <td>0.964468</td>\n",
       "      <td>1.981042</td>\n",
       "      <td>-2.633307</td>\n",
       "    </tr>\n",
       "    <tr>\n",
       "      <th>X_2</th>\n",
       "      <td>1.981042</td>\n",
       "      <td>5.080617</td>\n",
       "      <td>-0.309350</td>\n",
       "    </tr>\n",
       "    <tr>\n",
       "      <th>X_3</th>\n",
       "      <td>-2.633307</td>\n",
       "      <td>-0.309350</td>\n",
       "      <td>38.753618</td>\n",
       "    </tr>\n",
       "  </tbody>\n",
       "</table>\n",
       "</div>"
      ],
      "text/plain": [
       "          X_1       X_2        X_3\n",
       "X_1  0.964468  1.981042  -2.633307\n",
       "X_2  1.981042  5.080617  -0.309350\n",
       "X_3 -2.633307 -0.309350  38.753618"
      ]
     },
     "execution_count": 15,
     "metadata": {},
     "output_type": "execute_result"
    }
   ],
   "source": [
    "B.cov()"
   ]
  },
  {
   "cell_type": "code",
   "execution_count": 16,
   "metadata": {},
   "outputs": [
    {
     "data": {
      "text/html": [
       "<div>\n",
       "<style scoped>\n",
       "    .dataframe tbody tr th:only-of-type {\n",
       "        vertical-align: middle;\n",
       "    }\n",
       "\n",
       "    .dataframe tbody tr th {\n",
       "        vertical-align: top;\n",
       "    }\n",
       "\n",
       "    .dataframe thead th {\n",
       "        text-align: right;\n",
       "    }\n",
       "</style>\n",
       "<table border=\"1\" class=\"dataframe\">\n",
       "  <thead>\n",
       "    <tr style=\"text-align: right;\">\n",
       "      <th></th>\n",
       "      <th>X_1</th>\n",
       "      <th>X_2</th>\n",
       "      <th>X_3</th>\n",
       "    </tr>\n",
       "  </thead>\n",
       "  <tbody>\n",
       "    <tr>\n",
       "      <th>X_1</th>\n",
       "      <td>1.000000</td>\n",
       "      <td>0.894935</td>\n",
       "      <td>-0.430726</td>\n",
       "    </tr>\n",
       "    <tr>\n",
       "      <th>X_2</th>\n",
       "      <td>0.894935</td>\n",
       "      <td>1.000000</td>\n",
       "      <td>-0.022046</td>\n",
       "    </tr>\n",
       "    <tr>\n",
       "      <th>X_3</th>\n",
       "      <td>-0.430726</td>\n",
       "      <td>-0.022046</td>\n",
       "      <td>1.000000</td>\n",
       "    </tr>\n",
       "  </tbody>\n",
       "</table>\n",
       "</div>"
      ],
      "text/plain": [
       "          X_1       X_2       X_3\n",
       "X_1  1.000000  0.894935 -0.430726\n",
       "X_2  0.894935  1.000000 -0.022046\n",
       "X_3 -0.430726 -0.022046  1.000000"
      ]
     },
     "execution_count": 16,
     "metadata": {},
     "output_type": "execute_result"
    }
   ],
   "source": [
    "B.corr()"
   ]
  },
  {
   "cell_type": "markdown",
   "metadata": {},
   "source": [
    "# Matrices"
   ]
  },
  {
   "cell_type": "code",
   "execution_count": 17,
   "metadata": {},
   "outputs": [
    {
     "data": {
      "text/plain": [
       "matrix([[ 1,  2,  3],\n",
       "        [-1,  2,  0],\n",
       "        [-5,  7,  3]])"
      ]
     },
     "execution_count": 17,
     "metadata": {},
     "output_type": "execute_result"
    }
   ],
   "source": [
    "M = [[1,2,3],[-1,2,0],[-5,7,3]]\n",
    "M = np.matrix(M)\n",
    "M"
   ]
  },
  {
   "cell_type": "code",
   "execution_count": 18,
   "metadata": {},
   "outputs": [
    {
     "data": {
      "text/plain": [
       "matrix([[ 1, -1, -5],\n",
       "        [ 2,  2,  7],\n",
       "        [ 3,  0,  3]])"
      ]
     },
     "execution_count": 18,
     "metadata": {},
     "output_type": "execute_result"
    }
   ],
   "source": [
    "#Tranpuesta de una matriz\n",
    "N = np.transpose(M)\n",
    "N"
   ]
  },
  {
   "cell_type": "code",
   "execution_count": 19,
   "metadata": {},
   "outputs": [
    {
     "name": "stdout",
     "output_type": "stream",
     "text": [
      "El número de renglones es  3\n",
      "El número de columnas es  3\n"
     ]
    }
   ],
   "source": [
    "#Función que nos proporciona las dimensiones de una matriz\n",
    "n, m = M.shape\n",
    "print(\"El número de renglones es \",n)\n",
    "print(\"El número de columnas es \",m)"
   ]
  },
  {
   "cell_type": "markdown",
   "metadata": {},
   "source": [
    "# Defina una función que realice la multiplicación de una matriz por un vector. 1) Verifique la función anterior con la matriz M = [[1,2,3],[-1,2,0],[-5,7,3]] y el vector v = [1,2,4]; 2) Verifique la función definida con la matriz M2 = [[1,1],[-2,4]] y el vector v2 = [1,1] ¿podría observarse alguna relación entre el resultado y el vector v2?"
   ]
  },
  {
   "cell_type": "code",
   "execution_count": null,
   "metadata": {},
   "outputs": [],
   "source": []
  }
 ],
 "metadata": {
  "kernelspec": {
   "display_name": "Python 3",
   "language": "python",
   "name": "python3"
  },
  "language_info": {
   "codemirror_mode": {
    "name": "ipython",
    "version": 3
   },
   "file_extension": ".py",
   "mimetype": "text/x-python",
   "name": "python",
   "nbconvert_exporter": "python",
   "pygments_lexer": "ipython3",
   "version": "3.7.6"
  }
 },
 "nbformat": 4,
 "nbformat_minor": 2
}
