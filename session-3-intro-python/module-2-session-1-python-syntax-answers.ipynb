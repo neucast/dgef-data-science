{
 "cells": [
  {
   "cell_type": "markdown",
   "metadata": {},
   "source": [
    "# Operaciones aritméticas"
   ]
  },
  {
   "cell_type": "markdown",
   "metadata": {},
   "source": [
    "# 1. Suma"
   ]
  },
  {
   "cell_type": "code",
   "execution_count": 1,
   "metadata": {},
   "outputs": [
    {
     "data": {
      "text/plain": [
       "79"
      ]
     },
     "execution_count": 1,
     "metadata": {},
     "output_type": "execute_result"
    }
   ],
   "source": [
    "23 + 56"
   ]
  },
  {
   "cell_type": "markdown",
   "metadata": {},
   "source": [
    "# 2. Resta"
   ]
  },
  {
   "cell_type": "code",
   "execution_count": 2,
   "metadata": {},
   "outputs": [
    {
     "data": {
      "text/plain": [
       "-33"
      ]
     },
     "execution_count": 2,
     "metadata": {},
     "output_type": "execute_result"
    }
   ],
   "source": [
    "23 - 56"
   ]
  },
  {
   "cell_type": "markdown",
   "metadata": {},
   "source": [
    "# 3. Multiplicación"
   ]
  },
  {
   "cell_type": "code",
   "execution_count": 3,
   "metadata": {},
   "outputs": [
    {
     "data": {
      "text/plain": [
       "4005"
      ]
     },
     "execution_count": 3,
     "metadata": {},
     "output_type": "execute_result"
    }
   ],
   "source": [
    "45 * 89 "
   ]
  },
  {
   "cell_type": "markdown",
   "metadata": {},
   "source": [
    "# 4. División"
   ]
  },
  {
   "cell_type": "code",
   "execution_count": 4,
   "metadata": {},
   "outputs": [
    {
     "data": {
      "text/plain": [
       "3.5384615384615383"
      ]
     },
     "execution_count": 4,
     "metadata": {},
     "output_type": "execute_result"
    }
   ],
   "source": [
    "46 / 13"
   ]
  },
  {
   "cell_type": "markdown",
   "metadata": {},
   "source": [
    "# División entera"
   ]
  },
  {
   "cell_type": "code",
   "execution_count": 5,
   "metadata": {},
   "outputs": [
    {
     "data": {
      "text/plain": [
       "2"
      ]
     },
     "execution_count": 5,
     "metadata": {},
     "output_type": "execute_result"
    }
   ],
   "source": [
    "5 // 2"
   ]
  },
  {
   "cell_type": "markdown",
   "metadata": {},
   "source": [
    "# Potencia"
   ]
  },
  {
   "cell_type": "code",
   "execution_count": 6,
   "metadata": {},
   "outputs": [
    {
     "data": {
      "text/plain": [
       "16"
      ]
     },
     "execution_count": 6,
     "metadata": {},
     "output_type": "execute_result"
    }
   ],
   "source": [
    "2 ** 4"
   ]
  },
  {
   "cell_type": "markdown",
   "metadata": {},
   "source": [
    "# Definición de variables"
   ]
  },
  {
   "cell_type": "code",
   "execution_count": 7,
   "metadata": {},
   "outputs": [
    {
     "name": "stdout",
     "output_type": "stream",
     "text": [
      "8\n"
     ]
    }
   ],
   "source": [
    "x = 5\n",
    "y = 3\n",
    "z = x + y\n",
    "print(z)"
   ]
  },
  {
   "cell_type": "markdown",
   "metadata": {},
   "source": [
    "# Definición de funciones"
   ]
  },
  {
   "cell_type": "code",
   "execution_count": 8,
   "metadata": {},
   "outputs": [],
   "source": [
    "def Promedio(a,b):\n",
    "    return (a + b) / 2"
   ]
  },
  {
   "cell_type": "code",
   "execution_count": 9,
   "metadata": {},
   "outputs": [
    {
     "name": "stdout",
     "output_type": "stream",
     "text": [
      "4.5\n"
     ]
    }
   ],
   "source": [
    "m = Promedio(4,5)\n",
    "print(m)"
   ]
  },
  {
   "cell_type": "markdown",
   "metadata": {},
   "source": [
    "# Tipos de variables"
   ]
  },
  {
   "cell_type": "code",
   "execution_count": 10,
   "metadata": {},
   "outputs": [
    {
     "name": "stdout",
     "output_type": "stream",
     "text": [
      "x es una variable entera  3\n",
      "y es una variable flotante  3.0\n"
     ]
    }
   ],
   "source": [
    "x = int(3)\n",
    "y = float(3)\n",
    "print(\"x es una variable entera \",x)\n",
    "print(\"y es una variable flotante \",y)"
   ]
  },
  {
   "cell_type": "code",
   "execution_count": 11,
   "metadata": {},
   "outputs": [
    {
     "name": "stdout",
     "output_type": "stream",
     "text": [
      "Hola\n"
     ]
    }
   ],
   "source": [
    "#Cadenas de texto\n",
    "a = \"Hola\"\n",
    "print(a)"
   ]
  },
  {
   "cell_type": "code",
   "execution_count": 12,
   "metadata": {},
   "outputs": [
    {
     "data": {
      "text/plain": [
       "'HolaHola'"
      ]
     },
     "execution_count": 12,
     "metadata": {},
     "output_type": "execute_result"
    }
   ],
   "source": [
    "a + a"
   ]
  },
  {
   "cell_type": "code",
   "execution_count": 13,
   "metadata": {},
   "outputs": [
    {
     "data": {
      "text/plain": [
       "'HolaHolaHolaHola'"
      ]
     },
     "execution_count": 13,
     "metadata": {},
     "output_type": "execute_result"
    }
   ],
   "source": [
    "4*a"
   ]
  },
  {
   "cell_type": "code",
   "execution_count": 14,
   "metadata": {},
   "outputs": [
    {
     "name": "stdout",
     "output_type": "stream",
     "text": [
      "b es igual a 5? True\n"
     ]
    }
   ],
   "source": [
    "#Booleanos (verdadero o falso) \n",
    "b = 5\n",
    "z = (b == 5)\n",
    "print(\"b es igual a 5?\", z)"
   ]
  },
  {
   "cell_type": "code",
   "execution_count": 15,
   "metadata": {},
   "outputs": [
    {
     "data": {
      "text/plain": [
       "bool"
      ]
     },
     "execution_count": 15,
     "metadata": {},
     "output_type": "execute_result"
    }
   ],
   "source": [
    "type(z)"
   ]
  },
  {
   "cell_type": "markdown",
   "metadata": {},
   "source": [
    "# Notación corta para operaciones aritméticas"
   ]
  },
  {
   "cell_type": "code",
   "execution_count": null,
   "metadata": {},
   "outputs": [],
   "source": [
    "#Notación corta para operar sobre la misma variables (1)\n",
    "x = 20\n",
    "x = x + 1\n",
    "x"
   ]
  },
  {
   "cell_type": "code",
   "execution_count": null,
   "metadata": {},
   "outputs": [],
   "source": [
    "#Notación corta para operar sobre la misma variables (Suma)\n",
    "x = 20\n",
    "x += 1 #x = x + 1\n",
    "x"
   ]
  },
  {
   "cell_type": "code",
   "execution_count": null,
   "metadata": {},
   "outputs": [],
   "source": [
    "#Notación corta para operar sobre la misma variables (Resta)\n",
    "x = 20\n",
    "y = 10\n",
    "x -= y # x = x - y\n",
    "x"
   ]
  },
  {
   "cell_type": "code",
   "execution_count": null,
   "metadata": {},
   "outputs": [],
   "source": [
    "#Notación corta para operar sobre la misma variables (Multiplicación)\n",
    "x = 20\n",
    "y = 10\n",
    "x *= y #x = x*y\n",
    "x"
   ]
  },
  {
   "cell_type": "code",
   "execution_count": null,
   "metadata": {},
   "outputs": [],
   "source": [
    "#Notación corta para operar sobre la misma variables (División)\n",
    "x = 20\n",
    "y = 10\n",
    "x /= y #x = x/y\n",
    "x"
   ]
  },
  {
   "cell_type": "markdown",
   "metadata": {},
   "source": [
    "# Vectores"
   ]
  },
  {
   "cell_type": "code",
   "execution_count": null,
   "metadata": {},
   "outputs": [],
   "source": [
    "w = [1,2,3]\n",
    "print(w[0],w[1],w[2])\n",
    "print(len(w))"
   ]
  },
  {
   "cell_type": "code",
   "execution_count": null,
   "metadata": {},
   "outputs": [],
   "source": [
    "#Observación sobre el copiado de un vector\n",
    "v = []\n",
    "v.extend([4])\n",
    "v.append(5)\n",
    "print(v)"
   ]
  },
  {
   "cell_type": "code",
   "execution_count": null,
   "metadata": {},
   "outputs": [],
   "source": [
    "v1 = v\n",
    "print(v1) "
   ]
  },
  {
   "cell_type": "code",
   "execution_count": null,
   "metadata": {},
   "outputs": [],
   "source": [
    "v[0] = 7\n",
    "print(v)\n",
    "print(v1)"
   ]
  },
  {
   "cell_type": "code",
   "execution_count": null,
   "metadata": {},
   "outputs": [],
   "source": [
    "v2 = v.copy()\n",
    "print(v)\n",
    "print(v2)"
   ]
  },
  {
   "cell_type": "code",
   "execution_count": null,
   "metadata": {},
   "outputs": [],
   "source": [
    "v[0] = 9\n",
    "print(v)\n",
    "print(v2)"
   ]
  },
  {
   "cell_type": "markdown",
   "metadata": {},
   "source": [
    "# Diccionarios"
   ]
  },
  {
   "cell_type": "code",
   "execution_count": null,
   "metadata": {},
   "outputs": [],
   "source": [
    "d = {\"Carlos\":\"K11135\",\"Juan\":\"G11256\",\"Mariana\":123}\n",
    "print(\"La clave de empleado de Carlos es: \",d[\"Carlos\"])"
   ]
  },
  {
   "cell_type": "code",
   "execution_count": null,
   "metadata": {},
   "outputs": [],
   "source": [
    "print(\"Las llaves en el diccionario son:\",d.keys())\n",
    "print(\"Las objetos en el diccionario son:\",d.items())"
   ]
  },
  {
   "cell_type": "markdown",
   "metadata": {},
   "source": [
    "# Condicional if"
   ]
  },
  {
   "cell_type": "code",
   "execution_count": null,
   "metadata": {},
   "outputs": [],
   "source": [
    "#Ejemplo condicional if\n",
    "#Ejemplo que solicita al usuario escribir un número menor o igual a 10, por resultados se proporciona un comentario sobre\n",
    "#la calificación\n",
    "calif = input(\"Que calificacion obtuviste en tu examen? \")\n",
    "calif = float(calif)\n",
    "if calif >= 0 and calif < 6:\n",
    "    print(\"Lamentablemente reprobaste\")\n",
    "elif calif >= 6 and calif < 9:\n",
    "    print(\"Necesitas estudiar un poco mas\")\n",
    "elif calif >= 9 and calif <= 10:\n",
    "    print(\"Obtuviste una excelente calificacion\")\n",
    "else:\n",
    "    print(\"La información proporcionada no es correcta\")"
   ]
  },
  {
   "cell_type": "markdown",
   "metadata": {},
   "source": [
    "# Ciclo \"for\""
   ]
  },
  {
   "cell_type": "code",
   "execution_count": null,
   "metadata": {},
   "outputs": [],
   "source": [
    "suma = 0\n",
    "for i in range(6):\n",
    "    suma = suma + i\n",
    "print(suma)"
   ]
  },
  {
   "cell_type": "code",
   "execution_count": null,
   "metadata": {},
   "outputs": [],
   "source": [
    "print(range(6))\n",
    "print(list(range(6)))"
   ]
  },
  {
   "cell_type": "code",
   "execution_count": null,
   "metadata": {},
   "outputs": [],
   "source": [
    "suma = 0\n",
    "for i in range(1,7):\n",
    "    suma = suma + i\n",
    "print(suma)"
   ]
  },
  {
   "cell_type": "markdown",
   "metadata": {},
   "source": [
    "# Ciclo \"while\""
   ]
  },
  {
   "cell_type": "code",
   "execution_count": null,
   "metadata": {},
   "outputs": [],
   "source": [
    "suma, i = 0, 1\n",
    "while i <= 6:\n",
    "    suma = suma + i\n",
    "    i = i + 1\n",
    "print(suma)\n"
   ]
  },
  {
   "cell_type": "markdown",
   "metadata": {},
   "source": [
    "# Ejemplo 1"
   ]
  },
  {
   "cell_type": "code",
   "execution_count": null,
   "metadata": {},
   "outputs": [],
   "source": [
    "#Ejemplo divisores de un número\n",
    "#Uso del operador móudlo (%), la expresión x = a % b corresponde x=a(mod b)\n",
    "def Divisores(num):\n",
    "    vdiv = []\n",
    "    for i in range(1,num+1):\n",
    "        if num % i == 0:\n",
    "            vdiv.extend([i])\n",
    "    return vdiv\n",
    "Divisores(8)"
   ]
  },
  {
   "cell_type": "markdown",
   "metadata": {},
   "source": [
    "# Ejemplo 2"
   ]
  },
  {
   "cell_type": "code",
   "execution_count": null,
   "metadata": {},
   "outputs": [],
   "source": [
    "#Ejemplo Adivinar un numero\n",
    "#En este ejemplo, la función simula un número entero entre 1 y 10. El objetivo es que el usuario, mediante varios intentos,\n",
    "#pueda adivinar el número. En caso que el usuario adivine el número se indicará mediante un mensaje, en caso contrario, \n",
    "#se indicara si el número proporcionado es mayor o menor al número simulado\n",
    "from random import randint\n",
    "def AdivinaNum():\n",
    "    numero = randint(1,10)\n",
    "    bandera = 0\n",
    "    print(\"Adivina el numero entre 1 y 10\")\n",
    "    intento = int(input(\"Indica el numero \"))\n",
    "    while bandera == 0:\n",
    "        if intento == numero:\n",
    "            print(\"Es correcto! el numero es \",numero)\n",
    "            bandera = 1\n",
    "            break\n",
    "        elif numero > intento:\n",
    "            print(\"No, intenta con un numero mayor\")\n",
    "        else:\n",
    "            print(\"No, intenta con un numero menor\")\n",
    "        intento = int(input(\"Indica el numero \"))\n",
    "AdivinaNum()"
   ]
  },
  {
   "cell_type": "markdown",
   "metadata": {},
   "source": [
    "# Ejercicio 1"
   ]
  },
  {
   "cell_type": "code",
   "execution_count": 6,
   "metadata": {},
   "outputs": [
    {
     "name": "stdout",
     "output_type": "stream",
     "text": [
      "La raiz cuadrada es  4.123105615377426\n",
      "[4.123105615377426, 25]\n",
      "16.999999915556863\n"
     ]
    }
   ],
   "source": [
    "#El objetivo de este ejercicio es desarrollar una función que aproxime la raíz cuadrada de un número (variable num) \n",
    "#Paso 1. Proponer un número cercano \"variable menor\" (menor a la raíz cuadrada) y otro número cercano \"variable mayor\" \n",
    "#(mayor a la raíz cuadrada).\n",
    "#Paso 2. Definir como \"variable propuesta\" el promedio de estos dos números.\n",
    "#Paso 3. Si el cuadrado de la \"variable propuesta\" es cercano a \"variable num\" entonces regresar este valor.\n",
    "#Paso 4. Si la propuesta elevada al cuadrado es mayor que \"variable num\", entonces volver a hacer el algoritmo con \n",
    "#las variables \"variable menor\" y \"variable propuesta\", si la propuesta elevada al cuadrado es menor que \"variable num\",\n",
    "#entonces volver a hacer el algoritmo con \"variable propuesta\" y \"variable mayor\".\n",
    "#Paso 5. Se recomienda definir una variable que permita sólo un número máximo de iteraciones\n",
    "def promedio(a,b):\n",
    "    y = (a + b) / 2\n",
    "    return y\n",
    "def RaizCuadrada(num,menor,mayor,itera=100):\n",
    "    for i in range(itera):\n",
    "        r = promedio(menor,mayor)\n",
    "        if abs(r**2 - num) <= 0.0000001:\n",
    "            print(\"La raiz cuadrada es \",r)\n",
    "            break\n",
    "        elif r**2 > num:\n",
    "            mayor = r\n",
    "        else:\n",
    "            menor = r\n",
    "    return [r,i]\n",
    "#[r,itera] = RaizCuadrada(17,3,5,1000)\n",
    "v = RaizCuadrada(17,3,5,1000)\n",
    "print(v)\n",
    "print(v[0]**2)"
   ]
  },
  {
   "cell_type": "markdown",
   "metadata": {},
   "source": [
    "# Lectura de un archivo (preliminar)"
   ]
  },
  {
   "cell_type": "code",
   "execution_count": 9,
   "metadata": {},
   "outputs": [
    {
     "name": "stdout",
     "output_type": "stream",
     "text": [
      "<_csv.reader object at 0x0000007E7804D4A8>\n"
     ]
    },
    {
     "data": {
      "text/plain": [
       "0.052330998"
      ]
     },
     "execution_count": 9,
     "metadata": {},
     "output_type": "execute_result"
    }
   ],
   "source": [
    "import csv\n",
    "lector = csv.reader(open(\"C:\\\\Users\\\\ricardo\\Desktop\\\\BanxicoTrabajoCasa_v3\\\\CursoCienciaDeDatos\\\\Clases\\\\BaseTasas.csv\"))\n",
    "print(lector)\n",
    "d = {}\n",
    "for i in lector:\n",
    "    if i[0] != \"Plazo\":\n",
    "        llave = int(i[0])\n",
    "        objeto = float(i[1])\n",
    "        d[llave] = objeto\n",
    "#print(d)\n",
    "d[3]"
   ]
  },
  {
   "cell_type": "markdown",
   "metadata": {},
   "source": [
    "# Ejemplo 3 (valuación de un bono M)"
   ]
  },
  {
   "cell_type": "code",
   "execution_count": null,
   "metadata": {},
   "outputs": [],
   "source": [
    "#Valuación Bono M (Tasa Simple)\n",
    "def ValBonoMTS(vdias,tc,dic):\n",
    "    Valor = 0.\n",
    "    for i in range(len(vdias)-1):\n",
    "        numerador = 100.*tc*182./360.\n",
    "        denominador = 1. + d[vdias[i]]*vdias[i]/360.\n",
    "        Valor = Valor + numerador/denominador\n",
    "    numerador = 100 + 100.*tc*182./360.\n",
    "    denominador = 1. + d[vdias[len(vdias)-1]]*vdias[len(vdias)-1]/360.\n",
    "    Valor = Valor + numerador/denominador\n",
    "    return Valor\n",
    "vdias = [13,195,377,559]\n",
    "tc = 0.065\n",
    "Valor = ValBonoMTS(vdias,tc,d)\n",
    "print(Valor)"
   ]
  },
  {
   "cell_type": "markdown",
   "metadata": {},
   "source": [
    "# Ejercicio 2"
   ]
  },
  {
   "cell_type": "code",
   "execution_count": null,
   "metadata": {},
   "outputs": [],
   "source": [
    "#Modificar el Ejemplo 3 para que los cupones paguen las siguientes tasas 0.05, 0.06, 0.045, 0.07 (estas tasas son anuales)\n",
    "def ValBonoMTS_2(vdias,tc,dic):\n",
    "    Valor = 0.\n",
    "    for i in range(len(vdias)-1):\n",
    "        numerador = 100.*tc[i]*182./360.\n",
    "        denominador = 1. + d[vdias[i]]*vdias[i]/360.\n",
    "        Valor = Valor + numerador/denominador\n",
    "    numerador = 100 + 100.*tc[len(tc)-1]*182./360. #tc[-1]\n",
    "    denominador = 1. + d[vdias[len(vdias)-1]]*vdias[len(vdias)-1]/360.\n",
    "    Valor = Valor + numerador/denominador\n",
    "    return Valor\n",
    "vdias = [13,195,377,559]\n",
    "tc = [0.05, 0.06, 0.045, 0.07]\n",
    "Valor = ValBonoMTS_2(vdias,tc,d)\n",
    "print(Valor)"
   ]
  },
  {
   "cell_type": "code",
   "execution_count": null,
   "metadata": {},
   "outputs": [],
   "source": []
  }
 ],
 "metadata": {
  "kernelspec": {
   "display_name": "Python 3",
   "language": "python",
   "name": "python3"
  },
  "language_info": {
   "codemirror_mode": {
    "name": "ipython",
    "version": 3
   },
   "file_extension": ".py",
   "mimetype": "text/x-python",
   "name": "python",
   "nbconvert_exporter": "python",
   "pygments_lexer": "ipython3",
   "version": "3.7.6"
  }
 },
 "nbformat": 4,
 "nbformat_minor": 4
}
