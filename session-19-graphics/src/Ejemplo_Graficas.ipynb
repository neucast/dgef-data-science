{
 "cells": [
  {
   "cell_type": "code",
   "execution_count": null,
   "metadata": {},
   "outputs": [],
   "source": [
    "import dash\n",
    "import dash_core_components as dcc\n",
    "import dash_html_components as html\n",
    "import plotly.express as px\n",
    "import pandas as pd"
   ]
  },
  {
   "cell_type": "code",
   "execution_count": null,
   "metadata": {},
   "outputs": [],
   "source": [
    "#Sección formatos\n",
    "external_stylesheets = ['https://codepen.io/chriddyp/pen/bWLwgP.css'] #Plantillas de formatos\n",
    "app = dash.Dash(__name__, external_stylesheets=external_stylesheets)\n",
    "colors = {'background': '#00008B','text': '#F8F8FF'} #Diccionario de formatos\n",
    "#Código de colores: https://www.webucator.com/article/python-color-constants-module/"
   ]
  },
  {
   "cell_type": "code",
   "execution_count": null,
   "metadata": {},
   "outputs": [],
   "source": [
    "#Sección Datos.\n",
    "M1 = pd.read_csv(\"C:\\\\Users\\\\ricardo\\\\Desktop\\\\PantallasPython\\\\Ejemplo1_Tabla.csv\",dtype='str',encoding = \"ISO-8859-1\")\n",
    "M1[\"Capital Neto\"] = M1[\"Capital Neto\"].astype(float)\n",
    "M1.head()"
   ]
  },
  {
   "cell_type": "code",
   "execution_count": null,
   "metadata": {},
   "outputs": [],
   "source": [
    "#Sección Datos.\n",
    "M2 = pd.read_csv(\"C:\\\\Users\\\\ricardo\\\\Desktop\\\\PantallasPython\\\\Ejemplo2_Serie.csv\",dtype='str',encoding = \"ISO-8859-1\")\n",
    "M2[M2.columns] = M2[M2.columns].astype(float)\n",
    "M2.head()"
   ]
  },
  {
   "cell_type": "code",
   "execution_count": null,
   "metadata": {},
   "outputs": [],
   "source": [
    "#Sección Datos.\n",
    "M3 = pd.read_csv(\"C:\\\\Users\\\\ricardo\\\\Desktop\\\\PantallasPython\\\\Ejemplo2_Tabla.csv\",dtype='str',encoding = \"ISO-8859-1\")\n",
    "M3[\"Capital Neto\"] = M3[\"Capital Neto\"].astype(float)\n",
    "M3.head()"
   ]
  },
  {
   "cell_type": "code",
   "execution_count": null,
   "metadata": {},
   "outputs": [],
   "source": [
    "#Sección Figuras\n",
    "fig1 = px.bar(M1, x=\"Institucion\", y=\"Capital Neto\", color=\"Tipo\", barmode=\"group\")\n",
    "fig1.update_layout(plot_bgcolor=colors['background'],paper_bgcolor=colors['background'],font_color=colors['text'])\n",
    "fig2 = px.line(M2, x=\"X\", y=\"Y\")\n",
    "#fig2.update_layout(plot_bgcolor=colors['background'],paper_bgcolor=colors['background'],font_color=colors['text'])\n",
    "fig3 = px.pie(M3, values=\"Capital Neto\", names=\"Institucion\")\n",
    "fig3.update_layout(plot_bgcolor=colors['background'],paper_bgcolor=colors['background'],font_color=colors['text'])\n",
    "#Sección HTML\n",
    "app.layout = html.Div(style={'backgroundColor': colors['background']},children=[\\\n",
    "    html.H1(children=\"Ejemplo gráficas\",style={'textAlign': 'center','color': colors['text']}),\\\n",
    "    html.Div(children=\"Capital Neto (Miles de millones)\",style={'textAlign': 'center','color': colors['text']}),\\\n",
    "    dcc.Graph(id='Grafica_1',figure=fig1),\\\n",
    "    html.Div(children=\"Parábola\",style={'textAlign': 'center','color': colors['text']}),\\\n",
    "    dcc.Graph(id='Grafica_2',figure=fig2),\\\n",
    "    html.Div(children=\"Gráfica de Pay\",style={'textAlign': 'center','color': colors['text']}),\\\n",
    "    dcc.Graph(id='Grafica_3',figure=fig3)\\\n",
    "    ])"
   ]
  },
  {
   "cell_type": "code",
   "execution_count": null,
   "metadata": {},
   "outputs": [],
   "source": [
    "#Ejecución de programa\n",
    "if __name__ == '__main__':\n",
    "    #app.run_server(debug=True)\n",
    "    app.run_server(debug=True, use_reloader=False)"
   ]
  },
  {
   "cell_type": "code",
   "execution_count": null,
   "metadata": {},
   "outputs": [],
   "source": []
  }
 ],
 "metadata": {
  "kernelspec": {
   "display_name": "Python 3",
   "language": "python",
   "name": "python3"
  },
  "language_info": {
   "codemirror_mode": {
    "name": "ipython",
    "version": 3
   },
   "file_extension": ".py",
   "mimetype": "text/x-python",
   "name": "python",
   "nbconvert_exporter": "python",
   "pygments_lexer": "ipython3",
   "version": "3.7.6"
  }
 },
 "nbformat": 4,
 "nbformat_minor": 2
}
