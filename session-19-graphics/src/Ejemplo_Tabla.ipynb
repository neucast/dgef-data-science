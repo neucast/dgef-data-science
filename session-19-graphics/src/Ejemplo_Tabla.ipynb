{
 "cells": [
  {
   "cell_type": "code",
   "execution_count": 1,
   "metadata": {},
   "outputs": [],
   "source": [
    "import dash\n",
    "import dash_core_components as dcc\n",
    "import dash_html_components as html\n",
    "import plotly.express as px\n",
    "import pandas as pd"
   ]
  },
  {
   "cell_type": "code",
   "execution_count": 2,
   "metadata": {},
   "outputs": [],
   "source": [
    "#Sección formatos\n",
    "external_stylesheets = ['https://codepen.io/chriddyp/pen/bWLwgP.css'] #Plantillas de formatos\n",
    "app = dash.Dash(__name__, external_stylesheets=external_stylesheets)\n",
    "colors = {'background': '#00008B','text': '#F8F8FF'} #Diccionario de formatos\n",
    "#Código de colores: https://www.webucator.com/article/python-color-constants-module/"
   ]
  },
  {
   "cell_type": "code",
   "execution_count": 3,
   "metadata": {},
   "outputs": [
    {
     "data": {
      "text/html": [
       "<div>\n",
       "<style scoped>\n",
       "    .dataframe tbody tr th:only-of-type {\n",
       "        vertical-align: middle;\n",
       "    }\n",
       "\n",
       "    .dataframe tbody tr th {\n",
       "        vertical-align: top;\n",
       "    }\n",
       "\n",
       "    .dataframe thead th {\n",
       "        text-align: right;\n",
       "    }\n",
       "</style>\n",
       "<table border=\"1\" class=\"dataframe\">\n",
       "  <thead>\n",
       "    <tr style=\"text-align: right;\">\n",
       "      <th></th>\n",
       "      <th>Institucion</th>\n",
       "      <th>Capital Neto</th>\n",
       "      <th>Tipo</th>\n",
       "    </tr>\n",
       "  </thead>\n",
       "  <tbody>\n",
       "    <tr>\n",
       "      <th>0</th>\n",
       "      <td>BBVA</td>\n",
       "      <td>4.0</td>\n",
       "      <td>Banco</td>\n",
       "    </tr>\n",
       "    <tr>\n",
       "      <th>1</th>\n",
       "      <td>Santander</td>\n",
       "      <td>2.0</td>\n",
       "      <td>Banco</td>\n",
       "    </tr>\n",
       "    <tr>\n",
       "      <th>2</th>\n",
       "      <td>Scotia</td>\n",
       "      <td>6.0</td>\n",
       "      <td>Banco</td>\n",
       "    </tr>\n",
       "    <tr>\n",
       "      <th>3</th>\n",
       "      <td>Banorte</td>\n",
       "      <td>8.0</td>\n",
       "      <td>Banco</td>\n",
       "    </tr>\n",
       "    <tr>\n",
       "      <th>4</th>\n",
       "      <td>Inbursa</td>\n",
       "      <td>7.0</td>\n",
       "      <td>Banco</td>\n",
       "    </tr>\n",
       "  </tbody>\n",
       "</table>\n",
       "</div>"
      ],
      "text/plain": [
       "  Institucion  Capital Neto   Tipo\n",
       "0        BBVA           4.0  Banco\n",
       "1   Santander           2.0  Banco\n",
       "2      Scotia           6.0  Banco\n",
       "3     Banorte           8.0  Banco\n",
       "4     Inbursa           7.0  Banco"
      ]
     },
     "execution_count": 3,
     "metadata": {},
     "output_type": "execute_result"
    }
   ],
   "source": [
    "#Sección Datos.\n",
    "M1 = pd.read_csv(\"C:\\\\Users\\\\ricardo\\\\Desktop\\\\PantallasPython\\\\Ejemplo1_Tabla.csv\",dtype='str',encoding = \"ISO-8859-1\")\n",
    "M1[\"Capital Neto\"] = M1[\"Capital Neto\"].astype(float)\n",
    "M1.head()"
   ]
  },
  {
   "cell_type": "code",
   "execution_count": 4,
   "metadata": {},
   "outputs": [
    {
     "data": {
      "text/html": [
       "<div>\n",
       "<style scoped>\n",
       "    .dataframe tbody tr th:only-of-type {\n",
       "        vertical-align: middle;\n",
       "    }\n",
       "\n",
       "    .dataframe tbody tr th {\n",
       "        vertical-align: top;\n",
       "    }\n",
       "\n",
       "    .dataframe thead th {\n",
       "        text-align: right;\n",
       "    }\n",
       "</style>\n",
       "<table border=\"1\" class=\"dataframe\">\n",
       "  <thead>\n",
       "    <tr style=\"text-align: right;\">\n",
       "      <th></th>\n",
       "      <th>X</th>\n",
       "      <th>Y</th>\n",
       "    </tr>\n",
       "  </thead>\n",
       "  <tbody>\n",
       "    <tr>\n",
       "      <th>0</th>\n",
       "      <td>-2.00</td>\n",
       "      <td>4.0000</td>\n",
       "    </tr>\n",
       "    <tr>\n",
       "      <th>1</th>\n",
       "      <td>-1.99</td>\n",
       "      <td>3.9601</td>\n",
       "    </tr>\n",
       "    <tr>\n",
       "      <th>2</th>\n",
       "      <td>-1.98</td>\n",
       "      <td>3.9204</td>\n",
       "    </tr>\n",
       "    <tr>\n",
       "      <th>3</th>\n",
       "      <td>-1.97</td>\n",
       "      <td>3.8809</td>\n",
       "    </tr>\n",
       "    <tr>\n",
       "      <th>4</th>\n",
       "      <td>-1.96</td>\n",
       "      <td>3.8416</td>\n",
       "    </tr>\n",
       "  </tbody>\n",
       "</table>\n",
       "</div>"
      ],
      "text/plain": [
       "      X       Y\n",
       "0 -2.00  4.0000\n",
       "1 -1.99  3.9601\n",
       "2 -1.98  3.9204\n",
       "3 -1.97  3.8809\n",
       "4 -1.96  3.8416"
      ]
     },
     "execution_count": 4,
     "metadata": {},
     "output_type": "execute_result"
    }
   ],
   "source": [
    "#Sección Datos.\n",
    "M2 = pd.read_csv(\"C:\\\\Users\\\\ricardo\\\\Desktop\\\\PantallasPython\\\\Ejemplo2_Serie.csv\",dtype='str',encoding = \"ISO-8859-1\")\n",
    "M2[M2.columns] = M2[M2.columns].astype(float)\n",
    "M2.head()"
   ]
  },
  {
   "cell_type": "code",
   "execution_count": 5,
   "metadata": {},
   "outputs": [
    {
     "data": {
      "text/html": [
       "<div>\n",
       "<style scoped>\n",
       "    .dataframe tbody tr th:only-of-type {\n",
       "        vertical-align: middle;\n",
       "    }\n",
       "\n",
       "    .dataframe tbody tr th {\n",
       "        vertical-align: top;\n",
       "    }\n",
       "\n",
       "    .dataframe thead th {\n",
       "        text-align: right;\n",
       "    }\n",
       "</style>\n",
       "<table border=\"1\" class=\"dataframe\">\n",
       "  <thead>\n",
       "    <tr style=\"text-align: right;\">\n",
       "      <th></th>\n",
       "      <th>Institucion</th>\n",
       "      <th>Capital Neto</th>\n",
       "    </tr>\n",
       "  </thead>\n",
       "  <tbody>\n",
       "    <tr>\n",
       "      <th>0</th>\n",
       "      <td>BBVA</td>\n",
       "      <td>4.0</td>\n",
       "    </tr>\n",
       "    <tr>\n",
       "      <th>1</th>\n",
       "      <td>Santander</td>\n",
       "      <td>2.0</td>\n",
       "    </tr>\n",
       "    <tr>\n",
       "      <th>2</th>\n",
       "      <td>Scotia</td>\n",
       "      <td>6.0</td>\n",
       "    </tr>\n",
       "    <tr>\n",
       "      <th>3</th>\n",
       "      <td>Banorte</td>\n",
       "      <td>8.0</td>\n",
       "    </tr>\n",
       "    <tr>\n",
       "      <th>4</th>\n",
       "      <td>Inbursa</td>\n",
       "      <td>7.0</td>\n",
       "    </tr>\n",
       "  </tbody>\n",
       "</table>\n",
       "</div>"
      ],
      "text/plain": [
       "  Institucion  Capital Neto\n",
       "0        BBVA           4.0\n",
       "1   Santander           2.0\n",
       "2      Scotia           6.0\n",
       "3     Banorte           8.0\n",
       "4     Inbursa           7.0"
      ]
     },
     "execution_count": 5,
     "metadata": {},
     "output_type": "execute_result"
    }
   ],
   "source": [
    "#Sección Datos.\n",
    "M3 = pd.read_csv(\"C:\\\\Users\\\\ricardo\\\\Desktop\\\\PantallasPython\\\\Ejemplo2_Tabla.csv\",dtype='str',encoding = \"ISO-8859-1\")\n",
    "M3[\"Capital Neto\"] = M3[\"Capital Neto\"].astype(float)\n",
    "M3.head()"
   ]
  },
  {
   "cell_type": "code",
   "execution_count": 6,
   "metadata": {},
   "outputs": [],
   "source": [
    "#Función para crear una tabla\n",
    "def Fun_Genera_Tabla(M):\n",
    "    return html.Table([\\\n",
    "        html.Thead(html.Tr([html.Th(col,style={'textAlign': 'center','color':'white'}) for col in M.columns])),\\\n",
    "        html.Tbody([html.Tr([html.Td(M.iloc[i][col],style={'textAlign': 'center','color':'white'}) for col in M.columns])for i in range(len(M))])\\\n",
    "    ])"
   ]
  },
  {
   "cell_type": "code",
   "execution_count": 7,
   "metadata": {},
   "outputs": [],
   "source": [
    "#Sección Figuras\n",
    "fig1 = px.bar(M1, x=\"Institucion\", y=\"Capital Neto\", color=\"Tipo\", barmode=\"group\")\n",
    "fig1.update_layout(plot_bgcolor=colors['background'],paper_bgcolor=colors['background'],font_color=colors['text'])\n",
    "fig2 = px.line(M2, x=\"X\", y=\"Y\")\n",
    "#fig2.update_layout(plot_bgcolor=colors['background'],paper_bgcolor=colors['background'],font_color=colors['text'])\n",
    "fig3 = px.pie(M3, values=\"Capital Neto\", names=\"Institucion\")\n",
    "fig3.update_layout(plot_bgcolor=colors['background'],paper_bgcolor=colors['background'],font_color=colors['text'])\n",
    "#Sección HTML\n",
    "app.layout = html.Div(style={'backgroundColor': colors['background']},children=[\\\n",
    "    html.H1(children=\"Ejemplo gráficas\",style={'textAlign': 'center','color': colors['text']}),\\\n",
    "    html.Div(children=\"Capital Neto (Miles de millones)\",style={'textAlign': 'center','color': colors['text']}),\\\n",
    "    dcc.Graph(id='Grafica_1',figure=fig1),\\\n",
    "    Fun_Genera_Tabla(M1),\\\n",
    "    html.Div(children=\"Parábola\",style={'textAlign': 'center','color': colors['text']}),\\\n",
    "    dcc.Graph(id='Grafica_2',figure=fig2),\\\n",
    "    html.Div(children=\"Gráfica de Pay\",style={'textAlign': 'center','color': colors['text']}),\\\n",
    "    dcc.Graph(id='Grafica_3',figure=fig3)\\\n",
    "    ])"
   ]
  },
  {
   "cell_type": "code",
   "execution_count": 8,
   "metadata": {},
   "outputs": [
    {
     "name": "stdout",
     "output_type": "stream",
     "text": [
      "Dash is running on http://127.0.0.1:8050/\n",
      "\n",
      " * Serving Flask app \"__main__\" (lazy loading)\n",
      " * Environment: production\n",
      "   WARNING: This is a development server. Do not use it in a production deployment.\n",
      "   Use a production WSGI server instead.\n",
      " * Debug mode: on\n"
     ]
    }
   ],
   "source": [
    "#Ejecución de programa\n",
    "if __name__ == '__main__':\n",
    "    #app.run_server(debug=True)\n",
    "    app.run_server(debug=True, use_reloader=False)"
   ]
  },
  {
   "cell_type": "code",
   "execution_count": null,
   "metadata": {},
   "outputs": [],
   "source": []
  }
 ],
 "metadata": {
  "kernelspec": {
   "display_name": "Python 3",
   "language": "python",
   "name": "python3"
  },
  "language_info": {
   "codemirror_mode": {
    "name": "ipython",
    "version": 3
   },
   "file_extension": ".py",
   "mimetype": "text/x-python",
   "name": "python",
   "nbconvert_exporter": "python",
   "pygments_lexer": "ipython3",
   "version": "3.7.6"
  }
 },
 "nbformat": 4,
 "nbformat_minor": 2
}
