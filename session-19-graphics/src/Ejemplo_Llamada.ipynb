{
 "cells": [
  {
   "cell_type": "code",
   "execution_count": 1,
   "metadata": {},
   "outputs": [],
   "source": [
    "import dash\n",
    "import dash_core_components as dcc\n",
    "import dash_html_components as html\n",
    "from dash.dependencies import Input, Output #Dependencias para llamada de funciones\n",
    "import plotly.express as px\n",
    "import pandas as pd"
   ]
  },
  {
   "cell_type": "code",
   "execution_count": 2,
   "metadata": {},
   "outputs": [],
   "source": [
    "#Sección formatos\n",
    "external_stylesheets = ['https://codepen.io/chriddyp/pen/bWLwgP.css'] #Plantillas de formatos\n",
    "app = dash.Dash(__name__, external_stylesheets=external_stylesheets)\n",
    "colors = {'background': '#00008B','text': '#F8F8FF'} #Diccionario de formatos\n",
    "#Código de colores: https://www.webucator.com/article/python-color-constants-module/"
   ]
  },
  {
   "cell_type": "code",
   "execution_count": 3,
   "metadata": {},
   "outputs": [
    {
     "data": {
      "text/html": [
       "<div>\n",
       "<style scoped>\n",
       "    .dataframe tbody tr th:only-of-type {\n",
       "        vertical-align: middle;\n",
       "    }\n",
       "\n",
       "    .dataframe tbody tr th {\n",
       "        vertical-align: top;\n",
       "    }\n",
       "\n",
       "    .dataframe thead th {\n",
       "        text-align: right;\n",
       "    }\n",
       "</style>\n",
       "<table border=\"1\" class=\"dataframe\">\n",
       "  <thead>\n",
       "    <tr style=\"text-align: right;\">\n",
       "      <th></th>\n",
       "      <th>Institucion</th>\n",
       "      <th>Capital Neto</th>\n",
       "      <th>Tipo</th>\n",
       "      <th>Periodo</th>\n",
       "    </tr>\n",
       "  </thead>\n",
       "  <tbody>\n",
       "    <tr>\n",
       "      <th>0</th>\n",
       "      <td>BBVA</td>\n",
       "      <td>4.0</td>\n",
       "      <td>Banco</td>\n",
       "      <td>2019</td>\n",
       "    </tr>\n",
       "    <tr>\n",
       "      <th>1</th>\n",
       "      <td>Santander</td>\n",
       "      <td>2.0</td>\n",
       "      <td>Banco</td>\n",
       "      <td>2019</td>\n",
       "    </tr>\n",
       "    <tr>\n",
       "      <th>2</th>\n",
       "      <td>Scotia</td>\n",
       "      <td>6.0</td>\n",
       "      <td>Banco</td>\n",
       "      <td>2019</td>\n",
       "    </tr>\n",
       "    <tr>\n",
       "      <th>3</th>\n",
       "      <td>Banorte</td>\n",
       "      <td>8.0</td>\n",
       "      <td>Banco</td>\n",
       "      <td>2019</td>\n",
       "    </tr>\n",
       "    <tr>\n",
       "      <th>4</th>\n",
       "      <td>Inbursa</td>\n",
       "      <td>7.0</td>\n",
       "      <td>Banco</td>\n",
       "      <td>2019</td>\n",
       "    </tr>\n",
       "  </tbody>\n",
       "</table>\n",
       "</div>"
      ],
      "text/plain": [
       "  Institucion  Capital Neto   Tipo  Periodo\n",
       "0        BBVA           4.0  Banco     2019\n",
       "1   Santander           2.0  Banco     2019\n",
       "2      Scotia           6.0  Banco     2019\n",
       "3     Banorte           8.0  Banco     2019\n",
       "4     Inbursa           7.0  Banco     2019"
      ]
     },
     "execution_count": 3,
     "metadata": {},
     "output_type": "execute_result"
    }
   ],
   "source": [
    "M = pd.read_csv(\"C:\\\\Users\\\\ricardo\\\\Desktop\\\\PantallasPython\\\\Ejemplo3_Tabla.csv\",dtype='str',encoding = \"ISO-8859-1\")\n",
    "M[\"Capital Neto\"] = M[\"Capital Neto\"].astype(float)\n",
    "M[\"Periodo\"] = M[\"Periodo\"].astype(int)\n",
    "M.head()"
   ]
  },
  {
   "cell_type": "code",
   "execution_count": 4,
   "metadata": {},
   "outputs": [
    {
     "data": {
      "text/plain": [
       "array([2019, 2020, 2021])"
      ]
     },
     "execution_count": 4,
     "metadata": {},
     "output_type": "execute_result"
    }
   ],
   "source": [
    "#Ejemplo de la función unique()\n",
    "M[\"Periodo\"].unique()"
   ]
  },
  {
   "cell_type": "code",
   "execution_count": 5,
   "metadata": {},
   "outputs": [],
   "source": [
    "app.layout = html.Div([\n",
    "    dcc.Graph(id='Graf_Desplazador'),\n",
    "    dcc.Slider(\n",
    "        id='Desplazador',\n",
    "        min=M['Periodo'].min(),\n",
    "        max=M['Periodo'].max(),\n",
    "        value=M['Periodo'].min(),\n",
    "        marks={str(p): str(p) for p in M['Periodo'].unique()},\n",
    "        step=None\n",
    "    )\n",
    "])\n",
    "@app.callback(\n",
    "    Output('Graf_Desplazador', 'figure'),\n",
    "    Input('Desplazador', 'value'))\n",
    "def update_figure(p_seleccionado):\n",
    "    #Fitlro_M = M[M.Periodo == selected_year]\n",
    "    Filtro_M = M.loc[M[\"Periodo\"] == p_seleccionado].copy(deep=True).reset_index(drop=True)\n",
    "    figura = px.bar(Filtro_M, x=\"Institucion\", y=\"Capital Neto\", color=\"Tipo\", barmode=\"group\")\n",
    "    figura.update_layout(transition_duration=500)\n",
    "    return figura"
   ]
  },
  {
   "cell_type": "code",
   "execution_count": 6,
   "metadata": {},
   "outputs": [
    {
     "name": "stdout",
     "output_type": "stream",
     "text": [
      "Dash is running on http://127.0.0.1:8050/\n",
      "\n",
      " * Serving Flask app \"__main__\" (lazy loading)\n",
      " * Environment: production\n",
      "   WARNING: This is a development server. Do not use it in a production deployment.\n",
      "   Use a production WSGI server instead.\n",
      " * Debug mode: on\n"
     ]
    }
   ],
   "source": [
    "#Ejecución de programa\n",
    "if __name__ == '__main__':\n",
    "    #app.run_server(debug=True)\n",
    "    app.run_server(debug=True, use_reloader=False)"
   ]
  },
  {
   "cell_type": "code",
   "execution_count": null,
   "metadata": {},
   "outputs": [],
   "source": []
  },
  {
   "cell_type": "code",
   "execution_count": null,
   "metadata": {},
   "outputs": [],
   "source": []
  }
 ],
 "metadata": {
  "kernelspec": {
   "display_name": "Python 3",
   "language": "python",
   "name": "python3"
  },
  "language_info": {
   "codemirror_mode": {
    "name": "ipython",
    "version": 3
   },
   "file_extension": ".py",
   "mimetype": "text/x-python",
   "name": "python",
   "nbconvert_exporter": "python",
   "pygments_lexer": "ipython3",
   "version": "3.7.6"
  }
 },
 "nbformat": 4,
 "nbformat_minor": 2
}
