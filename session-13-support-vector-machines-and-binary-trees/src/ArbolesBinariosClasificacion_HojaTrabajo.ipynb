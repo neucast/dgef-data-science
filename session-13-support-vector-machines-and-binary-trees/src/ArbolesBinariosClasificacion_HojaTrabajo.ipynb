{
 "cells": [
  {
   "cell_type": "markdown",
   "metadata": {},
   "source": [
    "# Árboles binarios (clasificación)"
   ]
  },
  {
   "cell_type": "code",
   "execution_count": null,
   "metadata": {},
   "outputs": [],
   "source": [
    "import numpy as np\n",
    "import pandas as pd\n",
    "import matplotlib.pyplot as plt\n",
    "import scipy.stats as stats\n",
    "from math import exp, log\n",
    "pd.set_option('display.max_columns',None)\n",
    "pd.set_option('display.max_rows',None)\n",
    "import warnings\n",
    "warnings.filterwarnings('ignore')\n",
    "#Carga de paquetería para ciencia de datos\n",
    "from sklearn.linear_model import LogisticRegression\n",
    "from sklearn.tree import DecisionTreeClassifier\n",
    "from sklearn.model_selection import train_test_split\n",
    "from sklearn.metrics import roc_curve\n",
    "from sklearn.metrics import roc_auc_score\n",
    "from sklearn.metrics import confusion_matrix"
   ]
  },
  {
   "cell_type": "code",
   "execution_count": null,
   "metadata": {},
   "outputs": [],
   "source": [
    "M = pd.read_csv(\"C:\\\\Users\\\\ricardo\\\\Desktop\\\\ArbolesBinarios\\\\EjemploArbolesBinariosClasificacion_4D.csv\",dtype='str',encoding = \"ISO-8859-1\")\n",
    "M[[\"Y\",\"X1\",\"X2\",\"X3\",\"X4\"]] = M[[\"Y\",\"X1\",\"X2\",\"X3\",\"X4\"]].astype(float)\n",
    "M.head()"
   ]
  },
  {
   "cell_type": "code",
   "execution_count": null,
   "metadata": {},
   "outputs": [],
   "source": [
    "#Separación de la muestra con diversas proporciones\n",
    "tam = 0.2\n",
    "x_entre, x_test, y_entre, y_test = train_test_split(M[[\"X1\",\"X2\",\"X3\",\"X4\"]], M[[\"Y\"]], test_size=tam,random_state=1)"
   ]
  },
  {
   "cell_type": "code",
   "execution_count": null,
   "metadata": {},
   "outputs": [],
   "source": [
    "#Regresión logística\n",
    "LR = LogisticRegression()\n",
    "LR.fit(x_entre,y_entre)\n",
    "y_pred_RL = LR.predict(x_test)\n",
    "#Árbol binario\n",
    "#https://scikit-learn.org/stable/modules/generated/sklearn.tree.DecisionTreeClassifier.html\n",
    "regTree = DecisionTreeClassifier(criterion='entropy')\n",
    "regTree.fit(x_entre,y_entre)\n",
    "y_pred_AB = regTree.predict(x_test)"
   ]
  },
  {
   "cell_type": "code",
   "execution_count": null,
   "metadata": {},
   "outputs": [],
   "source": [
    "#Matriz de confusión\n",
    "print(\"*******************Regresión Logística*******************\")\n",
    "print(confusion_matrix(y_test, y_pred_RL))\n",
    "print(\"*******************Árbol Binario*******************\")\n",
    "print(confusion_matrix(y_test, y_pred_AB))"
   ]
  },
  {
   "cell_type": "code",
   "execution_count": null,
   "metadata": {},
   "outputs": [],
   "source": [
    "#Cálculo de curvas ROC\n",
    "y_pred_RL_prob = LR.predict_proba(x_test)[:,1]\n",
    "y_pred_AB_prob = regTree.predict_proba(x_test)[:,1]\n",
    "x_tasa_a, y_tasa_a, _ = roc_curve(y_test, y_pred_RL_prob)\n",
    "x_tasa_b, y_tasa_b, _ = roc_curve(y_test, y_pred_AB_prob)\n",
    "fig = plt.figure(figsize=(5.,5.))\n",
    "ax = fig.add_subplot(1,1,1)\n",
    "plt.plot(x_tasa_a, y_tasa_a, color=\"red\", linestyle= \"-\",label=\"Curva ROC RL\")\n",
    "plt.plot(x_tasa_b, y_tasa_b, color=\"blue\", linestyle= \"-\",label=\"Curva ROC AB\")\n",
    "plt.xlabel('Tasa de Falsos Positivos')\n",
    "plt.ylabel('Tasa de Verdaderos Positivos')\n",
    "plt.legend(loc='best',ncol=2)\n",
    "plt.show()"
   ]
  },
  {
   "cell_type": "code",
   "execution_count": null,
   "metadata": {},
   "outputs": [],
   "source": [
    "#Área bajo la curva de la curva ROC\n",
    "print(\"Mediante una regresión logística el área bajo la curva de la Curva ROC es igual a \",roc_auc_score(y_test, y_pred_RL_prob))\n",
    "print(\"Mediante un árbol binario el área bajo la curva de la Curva ROC es igual a \",roc_auc_score(y_test, y_pred_AB_prob))"
   ]
  },
  {
   "cell_type": "code",
   "execution_count": null,
   "metadata": {},
   "outputs": [],
   "source": []
  }
 ],
 "metadata": {
  "kernelspec": {
   "display_name": "Python 3",
   "language": "python",
   "name": "python3"
  },
  "language_info": {
   "codemirror_mode": {
    "name": "ipython",
    "version": 3
   },
   "file_extension": ".py",
   "mimetype": "text/x-python",
   "name": "python",
   "nbconvert_exporter": "python",
   "pygments_lexer": "ipython3",
   "version": "3.7.6"
  }
 },
 "nbformat": 4,
 "nbformat_minor": 2
}
